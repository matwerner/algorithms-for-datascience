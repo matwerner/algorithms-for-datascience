{
 "cells": [
  {
   "cell_type": "markdown",
   "metadata": {},
   "source": [
    "# A. Imports and initial setup"
   ]
  },
  {
   "cell_type": "markdown",
   "metadata": {},
   "source": [
    "## A.1 import data"
   ]
  },
  {
   "cell_type": "code",
   "execution_count": 1,
   "metadata": {},
   "outputs": [
    {
     "data": {
      "text/html": [
       "<div>\n",
       "<style>\n",
       "    .dataframe thead tr:only-child th {\n",
       "        text-align: right;\n",
       "    }\n",
       "\n",
       "    .dataframe thead th {\n",
       "        text-align: left;\n",
       "    }\n",
       "\n",
       "    .dataframe tbody tr th {\n",
       "        vertical-align: top;\n",
       "    }\n",
       "</style>\n",
       "<table border=\"1\" class=\"dataframe\">\n",
       "  <thead>\n",
       "    <tr style=\"text-align: right;\">\n",
       "      <th></th>\n",
       "      <th>description</th>\n",
       "      <th>id</th>\n",
       "      <th>title</th>\n",
       "    </tr>\n",
       "  </thead>\n",
       "  <tbody>\n",
       "    <tr>\n",
       "      <th>5286</th>\n",
       "      <td>Vaga de Emprego: Recepcionista de Mercado\\n\\n\\...</td>\n",
       "      <td>5286</td>\n",
       "      <td>Recepcionista de Mercado</td>\n",
       "    </tr>\n",
       "    <tr>\n",
       "      <th>4680</th>\n",
       "      <td>Comprador(a) Cidade: portao Requisitos da vaga...</td>\n",
       "      <td>4680</td>\n",
       "      <td>Oportunidade para Comprador</td>\n",
       "    </tr>\n",
       "    <tr>\n",
       "      <th>3427</th>\n",
       "      <td>Atividades Profissionais: Realizar organizacao...</td>\n",
       "      <td>3427</td>\n",
       "      <td>Farmaceutico Corresponsavel</td>\n",
       "    </tr>\n",
       "    <tr>\n",
       "      <th>4844</th>\n",
       "      <td>Dirigir veiculos do tipo Carreta;\\n\\n\\nRealiza...</td>\n",
       "      <td>4844</td>\n",
       "      <td>Motorista Carreteiro</td>\n",
       "    </tr>\n",
       "    <tr>\n",
       "      <th>8642</th>\n",
       "      <td>Atividades Profissionais: Executar servico ger...</td>\n",
       "      <td>8642</td>\n",
       "      <td>Engenheiro Especialista em Suporte Tecnico</td>\n",
       "    </tr>\n",
       "    <tr>\n",
       "      <th>6471</th>\n",
       "      <td>Nosso programa de estagio e diferente. Sabemos...</td>\n",
       "      <td>6471</td>\n",
       "      <td>Vale do Inicio - Programa de Estagio</td>\n",
       "    </tr>\n",
       "    <tr>\n",
       "      <th>2839</th>\n",
       "      <td>Sobre a vaga \\r\\n\\r\\n\\r\\n    Descricao\\r\\n\\r\\n...</td>\n",
       "      <td>2839</td>\n",
       "      <td>Vaga de Caixa De Loja</td>\n",
       "    </tr>\n",
       "    <tr>\n",
       "      <th>8424</th>\n",
       "      <td>Contatar, visitar e entrevistar clientes, com ...</td>\n",
       "      <td>8424</td>\n",
       "      <td>Consultor de Vendas Externas em Sorriso/MT</td>\n",
       "    </tr>\n",
       "    <tr>\n",
       "      <th>8684</th>\n",
       "      <td>Atividades Profissionais: Desenvolvimento de s...</td>\n",
       "      <td>8684</td>\n",
       "      <td>Programador .NET Senior</td>\n",
       "    </tr>\n",
       "    <tr>\n",
       "      <th>6746</th>\n",
       "      <td>area de atuacao:comercio varejista, atacadista...</td>\n",
       "      <td>6746</td>\n",
       "      <td>Vaga para Auxiliar de Caixa</td>\n",
       "    </tr>\n",
       "  </tbody>\n",
       "</table>\n",
       "</div>"
      ],
      "text/plain": [
       "                                            description    id  \\\n",
       "5286  Vaga de Emprego: Recepcionista de Mercado\\n\\n\\...  5286   \n",
       "4680  Comprador(a) Cidade: portao Requisitos da vaga...  4680   \n",
       "3427  Atividades Profissionais: Realizar organizacao...  3427   \n",
       "4844  Dirigir veiculos do tipo Carreta;\\n\\n\\nRealiza...  4844   \n",
       "8642  Atividades Profissionais: Executar servico ger...  8642   \n",
       "6471  Nosso programa de estagio e diferente. Sabemos...  6471   \n",
       "2839  Sobre a vaga \\r\\n\\r\\n\\r\\n    Descricao\\r\\n\\r\\n...  2839   \n",
       "8424  Contatar, visitar e entrevistar clientes, com ...  8424   \n",
       "8684  Atividades Profissionais: Desenvolvimento de s...  8684   \n",
       "6746  area de atuacao:comercio varejista, atacadista...  6746   \n",
       "\n",
       "                                           title  \n",
       "5286                    Recepcionista de Mercado  \n",
       "4680                 Oportunidade para Comprador  \n",
       "3427                 Farmaceutico Corresponsavel  \n",
       "4844                        Motorista Carreteiro  \n",
       "8642  Engenheiro Especialista em Suporte Tecnico  \n",
       "6471        Vale do Inicio - Programa de Estagio  \n",
       "2839                       Vaga de Caixa De Loja  \n",
       "8424  Consultor de Vendas Externas em Sorriso/MT  \n",
       "8684                     Programador .NET Senior  \n",
       "6746                 Vaga para Auxiliar de Caixa  "
      ]
     },
     "execution_count": 1,
     "metadata": {},
     "output_type": "execute_result"
    }
   ],
   "source": [
    "import numpy as np \n",
    "import pandas as pd \n",
    "\n",
    "from utils import get_stopwords, get_stemmer, tokenizer\n",
    "dataset_location='../development.json'\n",
    "# dataset_location='../CorpusTrabalho4.zip'\n",
    "df = pd.read_json(dataset_location, orient='records')\n",
    "# print(df.count()) 9998\n",
    "df.sample(10).head(10)"
   ]
  },
  {
   "cell_type": "markdown",
   "metadata": {},
   "source": [
    "## A.2 Stopwords"
   ]
  },
  {
   "cell_type": "code",
   "execution_count": 2,
   "metadata": {},
   "outputs": [
    {
     "name": "stdout",
     "output_type": "stream",
     "text": [
      "total stop words are 203\n",
      "['essas', 'teus', 'eram', 'houveriam', 'houvéramos']\n"
     ]
    }
   ],
   "source": [
    "stopwords= list(get_stopwords())\n",
    "ind = np.random.randint(0,len(stopwords), size=5)\n",
    "print('total stop words are %d' % (len(stopwords)))\n",
    "print([stopwords[i] for i in ind])      "
   ]
  },
  {
   "cell_type": "markdown",
   "metadata": {},
   "source": [
    "## A.3 Stemmer"
   ]
  },
  {
   "cell_type": "code",
   "execution_count": 3,
   "metadata": {},
   "outputs": [
    {
     "name": "stdout",
     "output_type": "stream",
     "text": [
      "Before stemming:\n",
      "['Programador', 'Programa', 'pegaram', 'correram']\n",
      "After stemming:\n",
      "['program', 'program', 'peg', 'corr']\n"
     ]
    }
   ],
   "source": [
    "stemmer= get_stemmer() \n",
    "words_test= ['Programador', 'Programa', 'pegaram', 'correram']\n",
    "print('Before stemming:')\n",
    "print(words_test)\n",
    "print('After stemming:')\n",
    "print([stemmer.stem(w) for w in words_test])"
   ]
  },
  {
   "cell_type": "markdown",
   "metadata": {},
   "source": [
    "## A.4 Tokenize the title"
   ]
  },
  {
   "cell_type": "code",
   "execution_count": 4,
   "metadata": {},
   "outputs": [
    {
     "data": {
      "text/html": [
       "<div>\n",
       "<style>\n",
       "    .dataframe thead tr:only-child th {\n",
       "        text-align: right;\n",
       "    }\n",
       "\n",
       "    .dataframe thead th {\n",
       "        text-align: left;\n",
       "    }\n",
       "\n",
       "    .dataframe tbody tr th {\n",
       "        vertical-align: top;\n",
       "    }\n",
       "</style>\n",
       "<table border=\"1\" class=\"dataframe\">\n",
       "  <thead>\n",
       "    <tr style=\"text-align: right;\">\n",
       "      <th></th>\n",
       "      <th>description</th>\n",
       "      <th>id</th>\n",
       "      <th>title</th>\n",
       "      <th>token_title</th>\n",
       "    </tr>\n",
       "  </thead>\n",
       "  <tbody>\n",
       "    <tr>\n",
       "      <th>9028</th>\n",
       "      <td>Atividades Profissionais: Atuar com gestao de ...</td>\n",
       "      <td>9028</td>\n",
       "      <td>Encarregado de setor</td>\n",
       "      <td>encarreg setor</td>\n",
       "    </tr>\n",
       "    <tr>\n",
       "      <th>919</th>\n",
       "      <td>Atividades Profissionais: Atendimento ao clie...</td>\n",
       "      <td>919</td>\n",
       "      <td>Designer de Sobrancelha</td>\n",
       "      <td>design sobrancelh</td>\n",
       "    </tr>\n",
       "    <tr>\n",
       "      <th>6949</th>\n",
       "      <td>Analista desenvolvedor java liberdade \\n\\n\\nRe...</td>\n",
       "      <td>6949</td>\n",
       "      <td>Vaga para Desenvolvedor JAVA</td>\n",
       "      <td>vag desenvolvedor jav</td>\n",
       "    </tr>\n",
       "    <tr>\n",
       "      <th>9749</th>\n",
       "      <td>Analista De Controle De Qualidade Sr em Campin...</td>\n",
       "      <td>9749</td>\n",
       "      <td>Oferta de emprego - Analista De Controle De Qu...</td>\n",
       "      <td>ofert empreg  anal control qualidad sr</td>\n",
       "    </tr>\n",
       "    <tr>\n",
       "      <th>4648</th>\n",
       "      <td>Requisitos necessarios:Nivel medio concluido o...</td>\n",
       "      <td>4648</td>\n",
       "      <td>Vaga para Auxiliar de Cobranca</td>\n",
       "      <td>vag auxili cobranc</td>\n",
       "    </tr>\n",
       "    <tr>\n",
       "      <th>527</th>\n",
       "      <td>Descricao\\n\\nGeneral Description\\nJohnson &amp;amp...</td>\n",
       "      <td>527</td>\n",
       "      <td>Scrum Master Supply Chain - Fixed-term 12 months</td>\n",
       "      <td>scrum mast supply chain  fixedterm 12 months</td>\n",
       "    </tr>\n",
       "    <tr>\n",
       "      <th>566</th>\n",
       "      <td>Limpeza e esterilizacao e empacotamento de mat...</td>\n",
       "      <td>566</td>\n",
       "      <td>Tecnico de Enfermagem</td>\n",
       "      <td>tecnic enfermag</td>\n",
       "    </tr>\n",
       "    <tr>\n",
       "      <th>4609</th>\n",
       "      <td>Atividades Profissionais: Atuar com atendiment...</td>\n",
       "      <td>4609</td>\n",
       "      <td>Representante Comercial Cosmeticos</td>\n",
       "      <td>represent comercial cosmet</td>\n",
       "    </tr>\n",
       "    <tr>\n",
       "      <th>2047</th>\n",
       "      <td>Vendas na area de food service, produto inovad...</td>\n",
       "      <td>2047</td>\n",
       "      <td>Oportunidade para Vendedor</td>\n",
       "      <td>oportun vendedor</td>\n",
       "    </tr>\n",
       "    <tr>\n",
       "      <th>3970</th>\n",
       "      <td>Auxiliar de Marceneiro Local: Brasilia / DF</td>\n",
       "      <td>3970</td>\n",
       "      <td>Auxiliar Marceneiro</td>\n",
       "      <td>auxili marceneir</td>\n",
       "    </tr>\n",
       "  </tbody>\n",
       "</table>\n",
       "</div>"
      ],
      "text/plain": [
       "                                            description    id  \\\n",
       "9028  Atividades Profissionais: Atuar com gestao de ...  9028   \n",
       "919    Atividades Profissionais: Atendimento ao clie...   919   \n",
       "6949  Analista desenvolvedor java liberdade \\n\\n\\nRe...  6949   \n",
       "9749  Analista De Controle De Qualidade Sr em Campin...  9749   \n",
       "4648  Requisitos necessarios:Nivel medio concluido o...  4648   \n",
       "527   Descricao\\n\\nGeneral Description\\nJohnson &amp...   527   \n",
       "566   Limpeza e esterilizacao e empacotamento de mat...   566   \n",
       "4609  Atividades Profissionais: Atuar com atendiment...  4609   \n",
       "2047  Vendas na area de food service, produto inovad...  2047   \n",
       "3970        Auxiliar de Marceneiro Local: Brasilia / DF  3970   \n",
       "\n",
       "                                                  title  \\\n",
       "9028                               Encarregado de setor   \n",
       "919                             Designer de Sobrancelha   \n",
       "6949                       Vaga para Desenvolvedor JAVA   \n",
       "9749  Oferta de emprego - Analista De Controle De Qu...   \n",
       "4648                     Vaga para Auxiliar de Cobranca   \n",
       "527    Scrum Master Supply Chain - Fixed-term 12 months   \n",
       "566                               Tecnico de Enfermagem   \n",
       "4609                 Representante Comercial Cosmeticos   \n",
       "2047                         Oportunidade para Vendedor   \n",
       "3970                                Auxiliar Marceneiro   \n",
       "\n",
       "                                       token_title  \n",
       "9028                                encarreg setor  \n",
       "919                              design sobrancelh  \n",
       "6949                         vag desenvolvedor jav  \n",
       "9749        ofert empreg  anal control qualidad sr  \n",
       "4648                            vag auxili cobranc  \n",
       "527   scrum mast supply chain  fixedterm 12 months  \n",
       "566                                tecnic enfermag  \n",
       "4609                    represent comercial cosmet  \n",
       "2047                              oportun vendedor  \n",
       "3970                              auxili marceneir  "
      ]
     },
     "execution_count": 4,
     "metadata": {},
     "output_type": "execute_result"
    }
   ],
   "source": [
    "tokenfy = lambda x : tokenizer(x, stopwords= stopwords, stemmer=stemmer)\n",
    "df['token_title'] = df['title'].transform(tokenfy)\n",
    "df.sample(10).head(10)"
   ]
  },
  {
   "cell_type": "markdown",
   "metadata": {},
   "source": [
    "# Titles"
   ]
  },
  {
   "cell_type": "markdown",
   "metadata": {},
   "source": [
    "## 1. Distinct"
   ]
  },
  {
   "cell_type": "code",
   "execution_count": 5,
   "metadata": {},
   "outputs": [
    {
     "name": "stdout",
     "output_type": "stream",
     "text": [
      "distinct titles 3804\n",
      "distinct token titles 3276\n"
     ]
    }
   ],
   "source": [
    "distinct_titles= set(df['title'])\n",
    "distinct_token_titles= set(df['token_title'])\n",
    "print('distinct titles %d' % (len(distinct_titles)))\n",
    "print('distinct token titles %d' % (len(distinct_token_titles)))"
   ]
  },
  {
   "cell_type": "markdown",
   "metadata": {},
   "source": [
    "## 2. Frequency"
   ]
  },
  {
   "cell_type": "code",
   "execution_count": 16,
   "metadata": {},
   "outputs": [
    {
     "name": "stdout",
     "output_type": "stream",
     "text": [
      "top 20 job postings\n"
     ]
    },
    {
     "data": {
      "text/html": [
       "<div>\n",
       "<style>\n",
       "    .dataframe thead tr:only-child th {\n",
       "        text-align: right;\n",
       "    }\n",
       "\n",
       "    .dataframe thead th {\n",
       "        text-align: left;\n",
       "    }\n",
       "\n",
       "    .dataframe tbody tr th {\n",
       "        vertical-align: top;\n",
       "    }\n",
       "</style>\n",
       "<table border=\"1\" class=\"dataframe\">\n",
       "  <thead>\n",
       "    <tr style=\"text-align: right;\">\n",
       "      <th></th>\n",
       "      <th>title</th>\n",
       "    </tr>\n",
       "    <tr>\n",
       "      <th>token_title</th>\n",
       "      <th></th>\n",
       "    </tr>\n",
       "  </thead>\n",
       "  <tbody>\n",
       "    <tr>\n",
       "      <th>vag vendedor</th>\n",
       "      <td>171</td>\n",
       "    </tr>\n",
       "    <tr>\n",
       "      <th>vag estagiari</th>\n",
       "      <td>137</td>\n",
       "    </tr>\n",
       "    <tr>\n",
       "      <th>vendedor</th>\n",
       "      <td>96</td>\n",
       "    </tr>\n",
       "    <tr>\n",
       "      <th>vag consultor vend</th>\n",
       "      <td>76</td>\n",
       "    </tr>\n",
       "    <tr>\n",
       "      <th>vag auxili administr</th>\n",
       "      <td>66</td>\n",
       "    </tr>\n",
       "    <tr>\n",
       "      <th>vendedor extern</th>\n",
       "      <td>65</td>\n",
       "    </tr>\n",
       "    <tr>\n",
       "      <th>vag atendent</th>\n",
       "      <td>64</td>\n",
       "    </tr>\n",
       "    <tr>\n",
       "      <th>vag vendedor extern</th>\n",
       "      <td>63</td>\n",
       "    </tr>\n",
       "    <tr>\n",
       "      <th>vag auxili servic ger</th>\n",
       "      <td>57</td>\n",
       "    </tr>\n",
       "    <tr>\n",
       "      <th>vag auxili produca</th>\n",
       "      <td>48</td>\n",
       "    </tr>\n",
       "    <tr>\n",
       "      <th>vag assistent administr</th>\n",
       "      <td>47</td>\n",
       "    </tr>\n",
       "    <tr>\n",
       "      <th>oper caix</th>\n",
       "      <td>44</td>\n",
       "    </tr>\n",
       "    <tr>\n",
       "      <th>auxili administr</th>\n",
       "      <td>42</td>\n",
       "    </tr>\n",
       "    <tr>\n",
       "      <th>consultor vend</th>\n",
       "      <td>40</td>\n",
       "    </tr>\n",
       "    <tr>\n",
       "      <th>vag represent comercial</th>\n",
       "      <td>39</td>\n",
       "    </tr>\n",
       "    <tr>\n",
       "      <th>vendedor intern</th>\n",
       "      <td>39</td>\n",
       "    </tr>\n",
       "    <tr>\n",
       "      <th>vag vendedor intern</th>\n",
       "      <td>38</td>\n",
       "    </tr>\n",
       "    <tr>\n",
       "      <th>vag corretor imov</th>\n",
       "      <td>38</td>\n",
       "    </tr>\n",
       "    <tr>\n",
       "      <th>vag consultor comercial</th>\n",
       "      <td>36</td>\n",
       "    </tr>\n",
       "    <tr>\n",
       "      <th>vag oper caix</th>\n",
       "      <td>36</td>\n",
       "    </tr>\n",
       "  </tbody>\n",
       "</table>\n",
       "</div>"
      ],
      "text/plain": [
       "                         title\n",
       "token_title                   \n",
       "vag vendedor               171\n",
       "vag estagiari              137\n",
       "vendedor                    96\n",
       "vag consultor vend          76\n",
       "vag auxili administr        66\n",
       "vendedor extern             65\n",
       "vag atendent                64\n",
       "vag vendedor extern         63\n",
       "vag auxili servic ger       57\n",
       "vag auxili produca          48\n",
       "vag assistent administr     47\n",
       "oper caix                   44\n",
       "auxili administr            42\n",
       "consultor vend              40\n",
       "vag represent comercial     39\n",
       "vendedor intern             39\n",
       "vag vendedor intern         38\n",
       "vag corretor imov           38\n",
       "vag consultor comercial     36\n",
       "vag oper caix               36"
      ]
     },
     "execution_count": 16,
     "metadata": {},
     "output_type": "execute_result"
    }
   ],
   "source": [
    "dfpivot= df.pivot_table(index='token_title',values='title', aggfunc=len)\n",
    "print('top 20 job postings')\n",
    "dfpivot.sort_values('title',ascending=False).head(20)"
   ]
  }
 ],
 "metadata": {
  "kernelspec": {
   "display_name": "Python 3",
   "language": "python",
   "name": "python3"
  },
  "language_info": {
   "codemirror_mode": {
    "name": "ipython",
    "version": 3
   },
   "file_extension": ".py",
   "mimetype": "text/x-python",
   "name": "python",
   "nbconvert_exporter": "python",
   "pygments_lexer": "ipython3",
   "version": "3.6.1"
  }
 },
 "nbformat": 4,
 "nbformat_minor": 2
}
