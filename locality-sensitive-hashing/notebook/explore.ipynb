{
 "cells": [
  {
   "cell_type": "markdown",
   "metadata": {},
   "source": [
    "# A. Imports and initial setup"
   ]
  },
  {
   "cell_type": "markdown",
   "metadata": {},
   "source": [
    "## A.1 import data"
   ]
  },
  {
   "cell_type": "code",
   "execution_count": 2,
   "metadata": {},
   "outputs": [
    {
     "data": {
      "text/html": [
       "<div>\n",
       "<style>\n",
       "    .dataframe thead tr:only-child th {\n",
       "        text-align: right;\n",
       "    }\n",
       "\n",
       "    .dataframe thead th {\n",
       "        text-align: left;\n",
       "    }\n",
       "\n",
       "    .dataframe tbody tr th {\n",
       "        vertical-align: top;\n",
       "    }\n",
       "</style>\n",
       "<table border=\"1\" class=\"dataframe\">\n",
       "  <thead>\n",
       "    <tr style=\"text-align: right;\">\n",
       "      <th></th>\n",
       "      <th>description</th>\n",
       "      <th>id</th>\n",
       "      <th>title</th>\n",
       "    </tr>\n",
       "  </thead>\n",
       "  <tbody>\n",
       "    <tr>\n",
       "      <th>820</th>\n",
       "      <td>Dados da Vaga de EmpregoVendedorRequisitos/Per...</td>\n",
       "      <td>820</td>\n",
       "      <td>Emprego vendedor de produtos pets e agropecuarios</td>\n",
       "    </tr>\n",
       "    <tr>\n",
       "      <th>6317</th>\n",
       "      <td>Gerente de loja\\nAtividades:\\nSupervisionar as...</td>\n",
       "      <td>6317</td>\n",
       "      <td>Vaga para Gerente de Loja</td>\n",
       "    </tr>\n",
       "    <tr>\n",
       "      <th>4417</th>\n",
       "      <td>:jotapecontabil.com.brjotape contabilidade est...</td>\n",
       "      <td>4417</td>\n",
       "      <td>Vaga para Assistente de Auditor</td>\n",
       "    </tr>\n",
       "    <tr>\n",
       "      <th>6274</th>\n",
       "      <td>nome fantasia:tryphotels.com.br\\nhotel tryp es...</td>\n",
       "      <td>6274</td>\n",
       "      <td>Vaga para Auxiliar de Cozinha</td>\n",
       "    </tr>\n",
       "    <tr>\n",
       "      <th>5428</th>\n",
       "      <td>Necessario que tenha CNH B e ensino medio comp...</td>\n",
       "      <td>5428</td>\n",
       "      <td>AUXILIAR DE ESCRIToRIO</td>\n",
       "    </tr>\n",
       "    <tr>\n",
       "      <th>5695</th>\n",
       "      <td>Distribuidora kretzer, empresa solida no merca...</td>\n",
       "      <td>5695</td>\n",
       "      <td>Vaga para Representante Comercial</td>\n",
       "    </tr>\n",
       "    <tr>\n",
       "      <th>8562</th>\n",
       "      <td>Requisitos:\\n\\n\\n\\n- Experiencia na funcao.\\n\\...</td>\n",
       "      <td>8562</td>\n",
       "      <td>PEDREIRO</td>\n",
       "    </tr>\n",
       "    <tr>\n",
       "      <th>2325</th>\n",
       "      <td>Vaga de tecnico de cabeamento estruturado com ...</td>\n",
       "      <td>2325</td>\n",
       "      <td>Vaga para Agente de Suporte Tecnico</td>\n",
       "    </tr>\n",
       "    <tr>\n",
       "      <th>3829</th>\n",
       "      <td>Mecanico Realizara manutencao e reparos em vei...</td>\n",
       "      <td>3829</td>\n",
       "      <td>Mecanico</td>\n",
       "    </tr>\n",
       "    <tr>\n",
       "      <th>1662</th>\n",
       "      <td>Eletricista montador com experiencia em montag...</td>\n",
       "      <td>1662</td>\n",
       "      <td>Vaga para Eletricista Industrial</td>\n",
       "    </tr>\n",
       "  </tbody>\n",
       "</table>\n",
       "</div>"
      ],
      "text/plain": [
       "                                            description    id  \\\n",
       "820   Dados da Vaga de EmpregoVendedorRequisitos/Per...   820   \n",
       "6317  Gerente de loja\\nAtividades:\\nSupervisionar as...  6317   \n",
       "4417  :jotapecontabil.com.brjotape contabilidade est...  4417   \n",
       "6274  nome fantasia:tryphotels.com.br\\nhotel tryp es...  6274   \n",
       "5428  Necessario que tenha CNH B e ensino medio comp...  5428   \n",
       "5695  Distribuidora kretzer, empresa solida no merca...  5695   \n",
       "8562  Requisitos:\\n\\n\\n\\n- Experiencia na funcao.\\n\\...  8562   \n",
       "2325  Vaga de tecnico de cabeamento estruturado com ...  2325   \n",
       "3829  Mecanico Realizara manutencao e reparos em vei...  3829   \n",
       "1662  Eletricista montador com experiencia em montag...  1662   \n",
       "\n",
       "                                                  title  \n",
       "820   Emprego vendedor de produtos pets e agropecuarios  \n",
       "6317                          Vaga para Gerente de Loja  \n",
       "4417                    Vaga para Assistente de Auditor  \n",
       "6274                      Vaga para Auxiliar de Cozinha  \n",
       "5428                             AUXILIAR DE ESCRIToRIO  \n",
       "5695                  Vaga para Representante Comercial  \n",
       "8562                                           PEDREIRO  \n",
       "2325                Vaga para Agente de Suporte Tecnico  \n",
       "3829                                           Mecanico  \n",
       "1662                   Vaga para Eletricista Industrial  "
      ]
     },
     "execution_count": 2,
     "metadata": {},
     "output_type": "execute_result"
    }
   ],
   "source": [
    "import numpy as np \n",
    "import pandas as pd \n",
    "\n",
    "from utils import get_stopwords, get_stemmer, tokenizer, data2idx, data2bow, matrix2txt, bow2dist\n",
    "dataset_location='../../locality-sensitive-hashing/datasets/development.json'\n",
    "# dataset_location='../CorpusTrabalho4.zip'\n",
    "df = pd.read_json(dataset_location, orient='records')\n",
    "# print(df.count()) 9998\n",
    "df.sample(10).head(10)"
   ]
  },
  {
   "cell_type": "markdown",
   "metadata": {},
   "source": [
    "## A.2 Stopwords"
   ]
  },
  {
   "cell_type": "code",
   "execution_count": 3,
   "metadata": {},
   "outputs": [
    {
     "name": "stdout",
     "output_type": "stream",
     "text": [
      "total stop words are 203\n",
      "['delas', 'houvera', 'houvemos', 'pelos', 'estivermos']\n"
     ]
    }
   ],
   "source": [
    "stopwords= list(get_stopwords())\n",
    "ind = np.random.randint(0,len(stopwords), size=5)\n",
    "print('total stop words are %d' % (len(stopwords)))\n",
    "print([stopwords[i] for i in ind])      "
   ]
  },
  {
   "cell_type": "markdown",
   "metadata": {},
   "source": [
    "## A.3 Stemmer"
   ]
  },
  {
   "cell_type": "code",
   "execution_count": 4,
   "metadata": {},
   "outputs": [
    {
     "name": "stdout",
     "output_type": "stream",
     "text": [
      "Before stemming:\n",
      "['Programador', 'Programa', 'pegaram', 'correram']\n",
      "After stemming:\n",
      "['program', 'program', 'peg', 'corr']\n"
     ]
    }
   ],
   "source": [
    "stemmer= get_stemmer() \n",
    "words_test= ['Programador', 'Programa', 'pegaram', 'correram']\n",
    "print('Before stemming:')\n",
    "print(words_test)\n",
    "print('After stemming:')\n",
    "print([stemmer.stem(w) for w in words_test])"
   ]
  },
  {
   "cell_type": "markdown",
   "metadata": {},
   "source": [
    "## A.4 Tokenize the title"
   ]
  },
  {
   "cell_type": "code",
   "execution_count": 5,
   "metadata": {},
   "outputs": [
    {
     "data": {
      "text/html": [
       "<div>\n",
       "<style>\n",
       "    .dataframe thead tr:only-child th {\n",
       "        text-align: right;\n",
       "    }\n",
       "\n",
       "    .dataframe thead th {\n",
       "        text-align: left;\n",
       "    }\n",
       "\n",
       "    .dataframe tbody tr th {\n",
       "        vertical-align: top;\n",
       "    }\n",
       "</style>\n",
       "<table border=\"1\" class=\"dataframe\">\n",
       "  <thead>\n",
       "    <tr style=\"text-align: right;\">\n",
       "      <th></th>\n",
       "      <th>description</th>\n",
       "      <th>id</th>\n",
       "      <th>title</th>\n",
       "      <th>token_title</th>\n",
       "    </tr>\n",
       "  </thead>\n",
       "  <tbody>\n",
       "    <tr>\n",
       "      <th>9611</th>\n",
       "      <td>Precisamos de professores para trabalhar de 1ª...</td>\n",
       "      <td>9611</td>\n",
       "      <td>Vaga para Professor</td>\n",
       "      <td>vag professor</td>\n",
       "    </tr>\n",
       "    <tr>\n",
       "      <th>6204</th>\n",
       "      <td>Sobre a vaga \\r\\n\\r\\n\\r\\n    Descricao\\r\\n\\r\\n...</td>\n",
       "      <td>6204</td>\n",
       "      <td>Vaga de Desenvolvedora Java</td>\n",
       "      <td>vag desenvolvedor jav</td>\n",
       "    </tr>\n",
       "    <tr>\n",
       "      <th>6028</th>\n",
       "      <td>Porteiro\\nLocal de trabalho ? centro ? rj\\nFor...</td>\n",
       "      <td>6028</td>\n",
       "      <td>Vaga para Porteiro</td>\n",
       "      <td>vag porteir</td>\n",
       "    </tr>\n",
       "    <tr>\n",
       "      <th>6171</th>\n",
       "      <td>Pre-requisitos:\\nEnsino medio completo;\\nNeces...</td>\n",
       "      <td>6171</td>\n",
       "      <td>Vaga para Vendedor</td>\n",
       "      <td>vag vendedor</td>\n",
       "    </tr>\n",
       "    <tr>\n",
       "      <th>2553</th>\n",
       "      <td>***Zelador/auxiliar de manutencao ***Empresa: ...</td>\n",
       "      <td>2553</td>\n",
       "      <td>Vaga para Auxiliar de Manutencao</td>\n",
       "      <td>vag auxili manutenca</td>\n",
       "    </tr>\n",
       "    <tr>\n",
       "      <th>8109</th>\n",
       "      <td>Requisitos:\\n de no minimo 1 na funcao / corel...</td>\n",
       "      <td>8109</td>\n",
       "      <td>Vaga para Arte Finalista</td>\n",
       "      <td>vag arte final</td>\n",
       "    </tr>\n",
       "    <tr>\n",
       "      <th>3613</th>\n",
       "      <td>Ira receber informacoes e autorizacoes de fatu...</td>\n",
       "      <td>3613</td>\n",
       "      <td>Assistente financeiro</td>\n",
       "      <td>assistent financeir</td>\n",
       "    </tr>\n",
       "    <tr>\n",
       "      <th>7409</th>\n",
       "      <td>Sobre a vaga \\r\\n\\r\\n\\r\\n    Descricao\\r\\n\\r\\n...</td>\n",
       "      <td>7409</td>\n",
       "      <td>Vaga de Editor De Imagem Jr</td>\n",
       "      <td>vag editor imag jr</td>\n",
       "    </tr>\n",
       "    <tr>\n",
       "      <th>9604</th>\n",
       "      <td>Atividades pertinentes ao cargo.\\n\\nEscolarida...</td>\n",
       "      <td>9604</td>\n",
       "      <td>Coordenador(a) de Vendas</td>\n",
       "      <td>coorden vend</td>\n",
       "    </tr>\n",
       "    <tr>\n",
       "      <th>7153</th>\n",
       "      <td>Tecnico Mecanica \\n\\nResponsabilidades: \\n- De...</td>\n",
       "      <td>7153</td>\n",
       "      <td>Tecnico Mecanica</td>\n",
       "      <td>tecnic mecan</td>\n",
       "    </tr>\n",
       "  </tbody>\n",
       "</table>\n",
       "</div>"
      ],
      "text/plain": [
       "                                            description    id  \\\n",
       "9611  Precisamos de professores para trabalhar de 1ª...  9611   \n",
       "6204  Sobre a vaga \\r\\n\\r\\n\\r\\n    Descricao\\r\\n\\r\\n...  6204   \n",
       "6028  Porteiro\\nLocal de trabalho ? centro ? rj\\nFor...  6028   \n",
       "6171  Pre-requisitos:\\nEnsino medio completo;\\nNeces...  6171   \n",
       "2553  ***Zelador/auxiliar de manutencao ***Empresa: ...  2553   \n",
       "8109  Requisitos:\\n de no minimo 1 na funcao / corel...  8109   \n",
       "3613  Ira receber informacoes e autorizacoes de fatu...  3613   \n",
       "7409  Sobre a vaga \\r\\n\\r\\n\\r\\n    Descricao\\r\\n\\r\\n...  7409   \n",
       "9604  Atividades pertinentes ao cargo.\\n\\nEscolarida...  9604   \n",
       "7153  Tecnico Mecanica \\n\\nResponsabilidades: \\n- De...  7153   \n",
       "\n",
       "                                 title            token_title  \n",
       "9611               Vaga para Professor          vag professor  \n",
       "6204       Vaga de Desenvolvedora Java  vag desenvolvedor jav  \n",
       "6028                Vaga para Porteiro            vag porteir  \n",
       "6171                Vaga para Vendedor           vag vendedor  \n",
       "2553  Vaga para Auxiliar de Manutencao   vag auxili manutenca  \n",
       "8109          Vaga para Arte Finalista         vag arte final  \n",
       "3613             Assistente financeiro    assistent financeir  \n",
       "7409       Vaga de Editor De Imagem Jr     vag editor imag jr  \n",
       "9604          Coordenador(a) de Vendas           coorden vend  \n",
       "7153                  Tecnico Mecanica           tecnic mecan  "
      ]
     },
     "execution_count": 5,
     "metadata": {},
     "output_type": "execute_result"
    }
   ],
   "source": [
    "tokenfy = lambda x : tokenizer(x, stopwords= stopwords, stemmer=stemmer)\n",
    "df['token_title'] = df['title'].transform(tokenfy)\n",
    "df.sample(10).head(10)"
   ]
  },
  {
   "cell_type": "markdown",
   "metadata": {},
   "source": [
    "## A.5 Tokenize the description"
   ]
  },
  {
   "cell_type": "code",
   "execution_count": 8,
   "metadata": {},
   "outputs": [
    {
     "data": {
      "text/html": [
       "<div>\n",
       "<style>\n",
       "    .dataframe thead tr:only-child th {\n",
       "        text-align: right;\n",
       "    }\n",
       "\n",
       "    .dataframe thead th {\n",
       "        text-align: left;\n",
       "    }\n",
       "\n",
       "    .dataframe tbody tr th {\n",
       "        vertical-align: top;\n",
       "    }\n",
       "</style>\n",
       "<table border=\"1\" class=\"dataframe\">\n",
       "  <thead>\n",
       "    <tr style=\"text-align: right;\">\n",
       "      <th></th>\n",
       "      <th>description</th>\n",
       "      <th>id</th>\n",
       "      <th>title</th>\n",
       "      <th>token_title</th>\n",
       "      <th>token_description</th>\n",
       "    </tr>\n",
       "  </thead>\n",
       "  <tbody>\n",
       "    <tr>\n",
       "      <th>0</th>\n",
       "      <td>Auxilia nas rotinas do departamento administra...</td>\n",
       "      <td>0</td>\n",
       "      <td>Aprendiz Administrativo</td>\n",
       "      <td>aprendiz administr</td>\n",
       "      <td>auxil rotin depart administr acompanh relatori...</td>\n",
       "    </tr>\n",
       "    <tr>\n",
       "      <th>1</th>\n",
       "      <td>\\r\\n                Sera responsavel pelo dese...</td>\n",
       "      <td>1</td>\n",
       "      <td>Programador(a)</td>\n",
       "      <td>program</td>\n",
       "      <td>ser responsavel desenvolv manutenca sit loj v...</td>\n",
       "    </tr>\n",
       "    <tr>\n",
       "      <th>2</th>\n",
       "      <td>Sera responsavel pelo desenvolvimento e manute...</td>\n",
       "      <td>2</td>\n",
       "      <td>Programador(a)</td>\n",
       "      <td>program</td>\n",
       "      <td>ser responsavel desenvolv manutenca sit loj vi...</td>\n",
       "    </tr>\n",
       "    <tr>\n",
       "      <th>3</th>\n",
       "      <td>Realizar conciliacao de contas contabeis. Anal...</td>\n",
       "      <td>3</td>\n",
       "      <td>Estagiario(a) Contabilidade</td>\n",
       "      <td>estagiario contabil</td>\n",
       "      <td>realiz conciliaca cont contab analis demonstra...</td>\n",
       "    </tr>\n",
       "    <tr>\n",
       "      <th>4</th>\n",
       "      <td>Realizar conciliacao de contas contabeis. Anal...</td>\n",
       "      <td>4</td>\n",
       "      <td>Estagiario(a) Contabilidade</td>\n",
       "      <td>estagiario contabil</td>\n",
       "      <td>realiz conciliaca cont contab analis demonstra...</td>\n",
       "    </tr>\n",
       "    <tr>\n",
       "      <th>5</th>\n",
       "      <td>Sera responsavel pelo desenvolvimento e manute...</td>\n",
       "      <td>5</td>\n",
       "      <td>Programador(a)</td>\n",
       "      <td>program</td>\n",
       "      <td>ser responsavel desenvolv manutenca sit loj vi...</td>\n",
       "    </tr>\n",
       "    <tr>\n",
       "      <th>6</th>\n",
       "      <td>Realizar conciliacao de contas contabeis. Anal...</td>\n",
       "      <td>6</td>\n",
       "      <td>Estagiario(a) Contabilidade</td>\n",
       "      <td>estagiario contabil</td>\n",
       "      <td>realiz conciliaca cont contab analis demonstra...</td>\n",
       "    </tr>\n",
       "    <tr>\n",
       "      <th>7</th>\n",
       "      <td>Realizar conciliacao de contas contabeis. Anal...</td>\n",
       "      <td>7</td>\n",
       "      <td>Estagiario(a) Contabilidade</td>\n",
       "      <td>estagiario contabil</td>\n",
       "      <td>realiz conciliaca cont contab analis demonstra...</td>\n",
       "    </tr>\n",
       "    <tr>\n",
       "      <th>8</th>\n",
       "      <td>Sera responsavel pelo desenvolvimento e manute...</td>\n",
       "      <td>8</td>\n",
       "      <td>Programador(a)</td>\n",
       "      <td>program</td>\n",
       "      <td>ser responsavel desenvolv manutenca sit loj vi...</td>\n",
       "    </tr>\n",
       "    <tr>\n",
       "      <th>9</th>\n",
       "      <td>A Empresa Tok&amp;Stok conta com mais de 4.000 fun...</td>\n",
       "      <td>9</td>\n",
       "      <td>Vendedor Cadista - Copacabana</td>\n",
       "      <td>vendedor cadist  copacaban</td>\n",
       "      <td>empres tokstok cont 4000 funcionari distribu 5...</td>\n",
       "    </tr>\n",
       "  </tbody>\n",
       "</table>\n",
       "</div>"
      ],
      "text/plain": [
       "                                         description  id  \\\n",
       "0  Auxilia nas rotinas do departamento administra...   0   \n",
       "1  \\r\\n                Sera responsavel pelo dese...   1   \n",
       "2  Sera responsavel pelo desenvolvimento e manute...   2   \n",
       "3  Realizar conciliacao de contas contabeis. Anal...   3   \n",
       "4  Realizar conciliacao de contas contabeis. Anal...   4   \n",
       "5  Sera responsavel pelo desenvolvimento e manute...   5   \n",
       "6  Realizar conciliacao de contas contabeis. Anal...   6   \n",
       "7  Realizar conciliacao de contas contabeis. Anal...   7   \n",
       "8  Sera responsavel pelo desenvolvimento e manute...   8   \n",
       "9  A Empresa Tok&Stok conta com mais de 4.000 fun...   9   \n",
       "\n",
       "                           title                 token_title  \\\n",
       "0        Aprendiz Administrativo          aprendiz administr   \n",
       "1                 Programador(a)                     program   \n",
       "2                 Programador(a)                     program   \n",
       "3    Estagiario(a) Contabilidade         estagiario contabil   \n",
       "4    Estagiario(a) Contabilidade         estagiario contabil   \n",
       "5                 Programador(a)                     program   \n",
       "6    Estagiario(a) Contabilidade         estagiario contabil   \n",
       "7    Estagiario(a) Contabilidade         estagiario contabil   \n",
       "8                 Programador(a)                     program   \n",
       "9  Vendedor Cadista - Copacabana  vendedor cadist  copacaban   \n",
       "\n",
       "                                   token_description  \n",
       "0  auxil rotin depart administr acompanh relatori...  \n",
       "1   ser responsavel desenvolv manutenca sit loj v...  \n",
       "2  ser responsavel desenvolv manutenca sit loj vi...  \n",
       "3  realiz conciliaca cont contab analis demonstra...  \n",
       "4  realiz conciliaca cont contab analis demonstra...  \n",
       "5  ser responsavel desenvolv manutenca sit loj vi...  \n",
       "6  realiz conciliaca cont contab analis demonstra...  \n",
       "7  realiz conciliaca cont contab analis demonstra...  \n",
       "8  ser responsavel desenvolv manutenca sit loj vi...  \n",
       "9  empres tokstok cont 4000 funcionari distribu 5...  "
      ]
     },
     "execution_count": 8,
     "metadata": {},
     "output_type": "execute_result"
    }
   ],
   "source": [
    "df['token_description'] = df['description'].transform(tokenfy)\n",
    "# df.sample(10).head(10)\n",
    "df.head(10)"
   ]
  },
  {
   "cell_type": "markdown",
   "metadata": {},
   "source": [
    "## A.6 Token 2 idx"
   ]
  },
  {
   "cell_type": "code",
   "execution_count": 9,
   "metadata": {},
   "outputs": [
    {
     "name": "stdout",
     "output_type": "stream",
     "text": [
      "document:9997 of 9998\tVOCAB:25671\tWORD COUNT:574479\t\n"
     ]
    },
    {
     "data": {
      "text/html": [
       "<div>\n",
       "<style>\n",
       "    .dataframe thead tr:only-child th {\n",
       "        text-align: right;\n",
       "    }\n",
       "\n",
       "    .dataframe thead th {\n",
       "        text-align: left;\n",
       "    }\n",
       "\n",
       "    .dataframe tbody tr th {\n",
       "        vertical-align: top;\n",
       "    }\n",
       "</style>\n",
       "<table border=\"1\" class=\"dataframe\">\n",
       "  <thead>\n",
       "    <tr style=\"text-align: right;\">\n",
       "      <th></th>\n",
       "      <th>description</th>\n",
       "      <th>id</th>\n",
       "      <th>title</th>\n",
       "      <th>token_title</th>\n",
       "      <th>idx_description</th>\n",
       "    </tr>\n",
       "  </thead>\n",
       "  <tbody>\n",
       "    <tr>\n",
       "      <th>0</th>\n",
       "      <td>Auxilia nas rotinas do departamento administra...</td>\n",
       "      <td>0</td>\n",
       "      <td>Aprendiz Administrativo</td>\n",
       "      <td>aprendiz administr</td>\n",
       "      <td>0 1 2 3 4 5 6 7 8 9 10 11 12 13 14 15 16 17</td>\n",
       "    </tr>\n",
       "    <tr>\n",
       "      <th>1</th>\n",
       "      <td>\\r\\n                Sera responsavel pelo dese...</td>\n",
       "      <td>1</td>\n",
       "      <td>Programador(a)</td>\n",
       "      <td>program</td>\n",
       "      <td>18 19 20 21 22 23 24 25 26 27 28 29 21 30 22 3...</td>\n",
       "    </tr>\n",
       "    <tr>\n",
       "      <th>2</th>\n",
       "      <td>Sera responsavel pelo desenvolvimento e manute...</td>\n",
       "      <td>2</td>\n",
       "      <td>Programador(a)</td>\n",
       "      <td>program</td>\n",
       "      <td>19 20 21 22 23 24 25 26 27 28 29 21 30 22 31 3...</td>\n",
       "    </tr>\n",
       "    <tr>\n",
       "      <th>3</th>\n",
       "      <td>Realizar conciliacao de contas contabeis. Anal...</td>\n",
       "      <td>3</td>\n",
       "      <td>Estagiario(a) Contabilidade</td>\n",
       "      <td>estagiario contabil</td>\n",
       "      <td>40 41 42 43 44 45 46 47 7 48 49 50 46</td>\n",
       "    </tr>\n",
       "    <tr>\n",
       "      <th>4</th>\n",
       "      <td>Realizar conciliacao de contas contabeis. Anal...</td>\n",
       "      <td>4</td>\n",
       "      <td>Estagiario(a) Contabilidade</td>\n",
       "      <td>estagiario contabil</td>\n",
       "      <td>40 41 42 43 44 45 46 47 7 48 49 50 46</td>\n",
       "    </tr>\n",
       "    <tr>\n",
       "      <th>5</th>\n",
       "      <td>Sera responsavel pelo desenvolvimento e manute...</td>\n",
       "      <td>5</td>\n",
       "      <td>Programador(a)</td>\n",
       "      <td>program</td>\n",
       "      <td>19 20 21 22 23 24 25 26 27 28 29 21 30 22 31 3...</td>\n",
       "    </tr>\n",
       "    <tr>\n",
       "      <th>6</th>\n",
       "      <td>Realizar conciliacao de contas contabeis. Anal...</td>\n",
       "      <td>6</td>\n",
       "      <td>Estagiario(a) Contabilidade</td>\n",
       "      <td>estagiario contabil</td>\n",
       "      <td>40 41 42 43 44 45 46 47 7 48 49 50 46</td>\n",
       "    </tr>\n",
       "    <tr>\n",
       "      <th>7</th>\n",
       "      <td>Realizar conciliacao de contas contabeis. Anal...</td>\n",
       "      <td>7</td>\n",
       "      <td>Estagiario(a) Contabilidade</td>\n",
       "      <td>estagiario contabil</td>\n",
       "      <td>40 41 42 43 44 45 46 47 7 48 49 50 46</td>\n",
       "    </tr>\n",
       "    <tr>\n",
       "      <th>8</th>\n",
       "      <td>Sera responsavel pelo desenvolvimento e manute...</td>\n",
       "      <td>8</td>\n",
       "      <td>Programador(a)</td>\n",
       "      <td>program</td>\n",
       "      <td>19 20 21 22 23 24 25 26 27 28 29 21 30 22 31 3...</td>\n",
       "    </tr>\n",
       "    <tr>\n",
       "      <th>9</th>\n",
       "      <td>A Empresa Tok&amp;Stok conta com mais de 4.000 fun...</td>\n",
       "      <td>9</td>\n",
       "      <td>Vendedor Cadista - Copacabana</td>\n",
       "      <td>vendedor cadist  copacaban</td>\n",
       "      <td>51 52 42 53 54 55 56 24 57 58 59 60 61 62 63 6...</td>\n",
       "    </tr>\n",
       "  </tbody>\n",
       "</table>\n",
       "</div>"
      ],
      "text/plain": [
       "                                         description  id  \\\n",
       "0  Auxilia nas rotinas do departamento administra...   0   \n",
       "1  \\r\\n                Sera responsavel pelo dese...   1   \n",
       "2  Sera responsavel pelo desenvolvimento e manute...   2   \n",
       "3  Realizar conciliacao de contas contabeis. Anal...   3   \n",
       "4  Realizar conciliacao de contas contabeis. Anal...   4   \n",
       "5  Sera responsavel pelo desenvolvimento e manute...   5   \n",
       "6  Realizar conciliacao de contas contabeis. Anal...   6   \n",
       "7  Realizar conciliacao de contas contabeis. Anal...   7   \n",
       "8  Sera responsavel pelo desenvolvimento e manute...   8   \n",
       "9  A Empresa Tok&Stok conta com mais de 4.000 fun...   9   \n",
       "\n",
       "                           title                 token_title  \\\n",
       "0        Aprendiz Administrativo          aprendiz administr   \n",
       "1                 Programador(a)                     program   \n",
       "2                 Programador(a)                     program   \n",
       "3    Estagiario(a) Contabilidade         estagiario contabil   \n",
       "4    Estagiario(a) Contabilidade         estagiario contabil   \n",
       "5                 Programador(a)                     program   \n",
       "6    Estagiario(a) Contabilidade         estagiario contabil   \n",
       "7    Estagiario(a) Contabilidade         estagiario contabil   \n",
       "8                 Programador(a)                     program   \n",
       "9  Vendedor Cadista - Copacabana  vendedor cadist  copacaban   \n",
       "\n",
       "                                     idx_description  \n",
       "0        0 1 2 3 4 5 6 7 8 9 10 11 12 13 14 15 16 17  \n",
       "1  18 19 20 21 22 23 24 25 26 27 28 29 21 30 22 3...  \n",
       "2  19 20 21 22 23 24 25 26 27 28 29 21 30 22 31 3...  \n",
       "3              40 41 42 43 44 45 46 47 7 48 49 50 46  \n",
       "4              40 41 42 43 44 45 46 47 7 48 49 50 46  \n",
       "5  19 20 21 22 23 24 25 26 27 28 29 21 30 22 31 3...  \n",
       "6              40 41 42 43 44 45 46 47 7 48 49 50 46  \n",
       "7              40 41 42 43 44 45 46 47 7 48 49 50 46  \n",
       "8  19 20 21 22 23 24 25 26 27 28 29 21 30 22 31 3...  \n",
       "9  51 52 42 53 54 55 56 24 57 58 59 60 61 62 63 6...  "
      ]
     },
     "execution_count": 9,
     "metadata": {},
     "output_type": "execute_result"
    }
   ],
   "source": [
    "word2idx={}\n",
    "df = data2idx(df, word2idx)\n",
    "# df.sample(10).head(10)\n",
    "df.head(10)"
   ]
  },
  {
   "cell_type": "code",
   "execution_count": 10,
   "metadata": {},
   "outputs": [
    {
     "name": "stdout",
     "output_type": "stream",
     "text": [
      "(25671, 9998)\n"
     ]
    },
    {
     "data": {
      "text/plain": [
       "array([[1, 0, 0, 0, 0],\n",
       "       [1, 0, 0, 0, 0],\n",
       "       [1, 0, 0, 0, 0],\n",
       "       [1, 0, 0, 0, 0],\n",
       "       [1, 0, 0, 0, 0]], dtype=int32)"
      ]
     },
     "execution_count": 10,
     "metadata": {},
     "output_type": "execute_result"
    }
   ],
   "source": [
    "bow = data2bow(df, word2idx)\n",
    "print(bow.shape)\n",
    "bow[:5,:5]"
   ]
  },
  {
   "cell_type": "code",
   "execution_count": 11,
   "metadata": {},
   "outputs": [
    {
     "data": {
      "text/plain": [
       "array([[1, 0, 0, 0, 0, 0, 0, 0, 0, 0],\n",
       "       [1, 0, 0, 0, 0, 0, 0, 0, 0, 0],\n",
       "       [1, 0, 0, 0, 0, 0, 0, 0, 0, 0],\n",
       "       [1, 0, 0, 0, 0, 0, 0, 0, 0, 0],\n",
       "       [1, 0, 0, 0, 0, 0, 0, 0, 0, 1],\n",
       "       [1, 0, 0, 0, 0, 0, 0, 0, 0, 1],\n",
       "       [1, 0, 0, 0, 0, 0, 0, 0, 0, 0],\n",
       "       [1, 0, 0, 1, 1, 0, 1, 1, 0, 0],\n",
       "       [1, 0, 0, 0, 0, 0, 0, 0, 0, 0],\n",
       "       [1, 0, 0, 0, 0, 0, 0, 0, 0, 0]], dtype=int32)"
      ]
     },
     "execution_count": 11,
     "metadata": {},
     "output_type": "execute_result"
    }
   ],
   "source": [
    "bow[:10,:10]"
   ]
  },
  {
   "cell_type": "code",
   "execution_count": null,
   "metadata": {},
   "outputs": [
    {
     "name": "stdout",
     "output_type": "stream",
     "text": [
      "00830,00253:\t9.3849\r"
     ]
    }
   ],
   "source": [
    "dist=bow2dist(bow)"
   ]
  },
  {
   "cell_type": "code",
   "execution_count": 26,
   "metadata": {},
   "outputs": [
    {
     "data": {
      "text/plain": [
       "array([[ 0.        ,  0.        ,  0.        ,  0.        ,  0.        ,\n",
       "         0.        ,  0.        ,  0.        ,  0.        ,  0.        ],\n",
       "       [ 7.        ,  0.        ,  0.        ,  0.        ,  0.        ,\n",
       "         0.        ,  0.        ,  0.        ,  0.        ,  0.        ],\n",
       "       [ 6.92820311,  1.        ,  0.        ,  0.        ,  0.        ,\n",
       "         0.        ,  0.        ,  0.        ,  0.        ,  0.        ],\n",
       "       [ 5.56776428,  6.78233004,  6.70820379,  0.        ,  0.        ,\n",
       "         0.        ,  0.        ,  0.        ,  0.        ,  0.        ],\n",
       "       [ 5.56776428,  6.78233004,  6.70820379,  0.        ,  0.        ,\n",
       "         0.        ,  0.        ,  0.        ,  0.        ,  0.        ],\n",
       "       [ 6.92820311,  1.        ,  0.        ,  6.70820379,  6.70820379,\n",
       "         0.        ,  0.        ,  0.        ,  0.        ,  0.        ],\n",
       "       [ 5.56776428,  6.78233004,  6.70820379,  0.        ,  0.        ,\n",
       "         6.70820379,  0.        ,  0.        ,  0.        ,  0.        ],\n",
       "       [ 5.56776428,  6.78233004,  6.70820379,  0.        ,  0.        ,\n",
       "         6.70820379,  0.        ,  0.        ,  0.        ,  0.        ],\n",
       "       [ 6.92820311,  1.        ,  0.        ,  6.70820379,  6.70820379,\n",
       "         0.        ,  6.70820379,  6.70820379,  0.        ,  0.        ],\n",
       "       [ 8.54400349,  9.05538559,  9.        ,  8.48528099,  8.48528099,\n",
       "         9.        ,  8.48528099,  8.48528099,  9.        ,  0.        ]], dtype=float32)"
      ]
     },
     "execution_count": 26,
     "metadata": {},
     "output_type": "execute_result"
    }
   ],
   "source": [
    "dist[:10,:10]"
   ]
  },
  {
   "cell_type": "code",
   "execution_count": null,
   "metadata": {
    "collapsed": true
   },
   "outputs": [],
   "source": [
    "matrix2txt(dist, filename='distance_matrix.txt')"
   ]
  }
 ],
 "metadata": {
  "kernelspec": {
   "display_name": "Python 3",
   "language": "python",
   "name": "python3"
  },
  "language_info": {
   "codemirror_mode": {
    "name": "ipython",
    "version": 3
   },
   "file_extension": ".py",
   "mimetype": "text/x-python",
   "name": "python",
   "nbconvert_exporter": "python",
   "pygments_lexer": "ipython3",
   "version": "3.6.1"
  }
 },
 "nbformat": 4,
 "nbformat_minor": 2
}
