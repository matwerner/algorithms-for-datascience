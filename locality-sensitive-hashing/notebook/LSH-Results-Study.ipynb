{
 "cells": [
  {
   "cell_type": "markdown",
   "metadata": {},
   "source": [
    "# Import packages"
   ]
  },
  {
   "cell_type": "code",
   "execution_count": 1,
   "metadata": {
    "collapsed": true
   },
   "outputs": [],
   "source": [
    "import json\n",
    "import pickle\n",
    "import numpy as np"
   ]
  },
  {
   "cell_type": "markdown",
   "metadata": {},
   "source": [
    "# Load Dataset"
   ]
  },
  {
   "cell_type": "code",
   "execution_count": 2,
   "metadata": {},
   "outputs": [],
   "source": [
    "data_reader = open(\"../datasets/development.json\", mode=\"r\", encoding=\"utf-8\")\n",
    "\n",
    "# Go to beginning\n",
    "data_reader.seek(0)\n",
    "\n",
    "# Parse all text from json\n",
    "documents = [document['description']\n",
    "             for document in json.loads(data_reader.readline())\n",
    "             if document['description']]\n",
    "\n",
    "data_reader.close()"
   ]
  },
  {
   "cell_type": "markdown",
   "metadata": {},
   "source": [
    "# Load LSH results"
   ]
  },
  {
   "cell_type": "markdown",
   "metadata": {},
   "source": [
    "Both structures are organized as:\n",
    "\n",
    "doc id - group id\n",
    "\n",
    "Where,for both:\n",
    "* doc id represent the same document\n",
    "* group id do not have same meaning"
   ]
  },
  {
   "cell_type": "markdown",
   "metadata": {},
   "source": [
    "## Groups to pairs converter"
   ]
  },
  {
   "cell_type": "code",
   "execution_count": 3,
   "metadata": {},
   "outputs": [],
   "source": [
    "def groups_to_pairs(groups):\n",
    "    pairs = set()\n",
    "    for group_id, doc_ids in groups.items():\n",
    "        doc_ids = list(doc_ids)\n",
    "        for i in range(0, len(doc_ids)):\n",
    "            for j in range(i + 1, len(doc_ids)):           \n",
    "                # Keep same order, so we can compare\n",
    "                if doc_ids[i] > doc_ids[j]:\n",
    "                    pairs.add((doc_ids[j], doc_ids[i]))\n",
    "                else:\n",
    "                    pairs.add((doc_ids[i], doc_ids[j]))\n",
    "    # Order so it's easier to compare\n",
    "    # pairs = sorted(list(pairs), key=lambda element: (element[0], element[1]))\n",
    "    return pairs"
   ]
  },
  {
   "cell_type": "markdown",
   "metadata": {},
   "source": [
    "## Load Matheus results"
   ]
  },
  {
   "cell_type": "code",
   "execution_count": 4,
   "metadata": {},
   "outputs": [],
   "source": [
    "with open(\"grupos_Matheus.pickle\", \"rb\") as handle:\n",
    "    matheus_by_group = pickle.load(handle)\n",
    "    matheus_by_doc = {doc_id:group_id                      \n",
    "                      for group_id, doc_ids in matheus_by_group.items()\n",
    "                      for doc_id in doc_ids}\n",
    "    matheus_by_pairs = groups_to_pairs(matheus_by_group)"
   ]
  },
  {
   "cell_type": "markdown",
   "metadata": {},
   "source": [
    "## Load Thiago results"
   ]
  },
  {
   "cell_type": "code",
   "execution_count": 5,
   "metadata": {
    "collapsed": true
   },
   "outputs": [],
   "source": [
    "with open(\"grupos_Thiago.pickle\", \"rb\") as handle:\n",
    "    thiago_by_doc = pickle.load(handle)\n",
    "    thiago_by_group = {}\n",
    "    for doc_id, group_id in thiago_by_doc.items():\n",
    "        if group_id not in thiago_by_group:\n",
    "            thiago_by_group[group_id] = set([doc_id])\n",
    "        else:\n",
    "            thiago_by_group[group_id].add(doc_id)\n",
    "    thiago_by_pairs = groups_to_pairs(thiago_by_group)"
   ]
  },
  {
   "cell_type": "markdown",
   "metadata": {},
   "source": [
    "# Comparison Study"
   ]
  },
  {
   "cell_type": "markdown",
   "metadata": {},
   "source": [
    "## Pairs"
   ]
  },
  {
   "cell_type": "markdown",
   "metadata": {},
   "source": [
    "### Compute"
   ]
  },
  {
   "cell_type": "code",
   "execution_count": 6,
   "metadata": {},
   "outputs": [],
   "source": [
    "union_pairs = matheus_by_pairs | thiago_by_pairs\n",
    "intersection_pairs = matheus_by_pairs & thiago_by_pairs\n",
    "matheus_extra_pairs = matheus_by_pairs - thiago_by_pairs\n",
    "thiago_extra_pairs = thiago_by_pairs - matheus_by_pairs"
   ]
  },
  {
   "cell_type": "markdown",
   "metadata": {},
   "source": [
    "### Statistics"
   ]
  },
  {
   "cell_type": "code",
   "execution_count": 7,
   "metadata": {},
   "outputs": [
    {
     "name": "stdout",
     "output_type": "stream",
     "text": [
      "Pairs found by (Quantitative):\n",
      "Both\t 3016\n",
      "Matheus\t 351\n",
      "Thiago\t 549\n",
      "Total\t 3916\n",
      "\n",
      "Pairs found by (Percentage):\n",
      "Both\t 77.02%\n",
      "Matheus\t 8.96%\n",
      "Thiago\t 14.02%\n"
     ]
    }
   ],
   "source": [
    "print(\"Pairs found by (Quantitative):\")\n",
    "print(\"Both\\t %d\" % len(intersection_pairs))\n",
    "print(\"Matheus\\t %d\" % len(matheus_extra_pairs))\n",
    "print(\"Thiago\\t %d\" % len(thiago_extra_pairs))\n",
    "print(\"Total\\t %d\" % len(union_pairs))\n",
    "print(\"\")\n",
    "print(\"Pairs found by (Percentage):\")\n",
    "print(\"Both\\t %.2f%%\" % (100 * len(intersection_pairs)/len(union_pairs),))\n",
    "print(\"Matheus\\t %.2f%%\" % (100 * len(matheus_extra_pairs)/len(union_pairs),))\n",
    "print(\"Thiago\\t %.2f%%\" % (100 * len(thiago_extra_pairs)/len(union_pairs),))"
   ]
  },
  {
   "cell_type": "markdown",
   "metadata": {},
   "source": [
    "### Examples of extra pairs "
   ]
  },
  {
   "cell_type": "code",
   "execution_count": 8,
   "metadata": {
    "collapsed": true
   },
   "outputs": [],
   "source": [
    "def show_random(pairs, size):\n",
    "    for _ in range(size):\n",
    "        idx = np.random.randint(0, len(pairs))\n",
    "        item_a, item_b = pairs[idx]\n",
    "        print('%s:\\t%s' % (item_a, documents[item_a]))\n",
    "        print('%s:\\t%s' % (item_b, documents[item_b]))\n",
    "        print()"
   ]
  },
  {
   "cell_type": "markdown",
   "metadata": {},
   "source": [
    "#### By Matheus"
   ]
  },
  {
   "cell_type": "code",
   "execution_count": 25,
   "metadata": {},
   "outputs": [
    {
     "name": "stdout",
     "output_type": "stream",
     "text": [
      "1062:\tEmpresa contrata profissional com superior completo em engenharia (preferencialmente engenharia eletrica). Atribuicoes: elaborar e implementar acoes preventivas e corretivas; controlar e supervisionar trabalho das empresas terceirizadas de manutencao; elaborar relatorios de controle gerencial; acompanhar o consumo de materiais, utilizacao de equipamentos e outros insumos; entre outras atividades da funcao. Salario a combinar, acrescidos de beneficios ( plano de saúde, odontologico, ticket refeicao e ppr).\n",
      "2737:\tEmpresa contrata profissional com superior completo em engenharia (preferencialmente engenharia eletrica). Atribuicoes: elaborar e implementar acoes preventivas e corretivas; controlar e supervisionar  trabalho das empresas terceirizadas de manutencao; elaborar relatorios de controle gerencial; acompanhar o consumo de materiais, utilizacao de equipamentos e outros insumos; entre outras atividades da funcao. Salario a combinar, acrescidos de beneficios ( plano de saude, odontologico, ticket refeicao e ppr). \n",
      "\n"
     ]
    }
   ],
   "source": [
    "show_random(list(matheus_extra_pairs), 1)"
   ]
  },
  {
   "cell_type": "code",
   "execution_count": 22,
   "metadata": {},
   "outputs": [
    {
     "name": "stdout",
     "output_type": "stream",
     "text": [
      "4528:\t:confidencialagv logistica esta com 1 vaga(s) em aberto para vinhedo / sp.responsabilidades: – conhecimento em informatica (excel, libreoffice) - bom relacionamento interpessoal para trabalho em equipe - habilidade para falar em publico, pois ira ministrar treinamentos.requisitos: – experiencia com abertura e controle de nao conformidades - qualificacao de fornecedores - conhecimento em boas praticas - auditoria de clientessalario: a combinarbeneficios: vale transporte/fretado, refeicao no local, vale alimentacao, convenio medico e odontologico.observacoes: enviar último salario e pretensao salarial.\n",
      "6267:\tnome fantasia:confidencial\n",
      "agv logistica esta com 1 vaga(s) em aberto para vinhedo / sp.responsabilidades: – conhecimento em informatica (excel, libreoffice) - bom relacionamento interpessoal para trabalho em equipe - habilidade para falar em publico, pois ira ministrar treinamentos.requisitos: – experiencia com abertura e controle de nao conformidades - qualificacao de fornecedores - conhecimento em boas praticas - auditoria de clientessalario: a combinarbeneficios: vale transporte/fretado, refeicao no local, vale alimentacao, convenio medico e odontologico.observacoes: enviar último salario e pretensao salarial.\n",
      "\n"
     ]
    }
   ],
   "source": [
    "show_random(list(thiago_extra_pairs), 1)"
   ]
  }
 ],
 "metadata": {
  "kernelspec": {
   "display_name": "Python 3",
   "language": "python",
   "name": "python3"
  },
  "language_info": {
   "codemirror_mode": {
    "name": "ipython",
    "version": 3
   },
   "file_extension": ".py",
   "mimetype": "text/x-python",
   "name": "python",
   "nbconvert_exporter": "python",
   "pygments_lexer": "ipython3",
   "version": "3.6.1"
  }
 },
 "nbformat": 4,
 "nbformat_minor": 2
}
