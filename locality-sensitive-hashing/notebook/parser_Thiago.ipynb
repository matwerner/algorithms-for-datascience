{
 "cells": [
  {
   "cell_type": "code",
   "execution_count": 56,
   "metadata": {
    "collapsed": true
   },
   "outputs": [],
   "source": [
    "import string\n",
    "import re\n",
    "import unidecode\n",
    "import pandas as pd"
   ]
  },
  {
   "cell_type": "code",
   "execution_count": 57,
   "metadata": {
    "collapsed": false
   },
   "outputs": [
    {
     "data": {
      "text/plain": [
       "9986    Sobre a vaga \\r\\n\\r\\n\\r\\n    Descricao\\r\\n\\r\\n...\n",
       "457     LiDER DE LOGiSTICA\\n\\n\\nRequisitos: Experienci...\n",
       "6167    Mpresa terceirizada no ramo de conservacao e l...\n",
       "7375    Vendedor externo funcoes: prospeccao e visita ...\n",
       "471     Eletricista - CONTAGEM - MG - 1 VAGA URGENTE  ...\n",
       "Name: description, dtype: object"
      ]
     },
     "execution_count": 57,
     "metadata": {},
     "output_type": "execute_result"
    }
   ],
   "source": [
    "df = pd.read_json(\"../datasets/development.json\", orient='records')\n",
    "df.sample(5).head(5)[\"description\"]\n"
   ]
  },
  {
   "cell_type": "markdown",
   "metadata": {},
   "source": [
    "### Definindo pre processing especifico para o parser"
   ]
  },
  {
   "cell_type": "markdown",
   "metadata": {},
   "source": [
    "#### Tira espaços e mantem \":\""
   ]
  },
  {
   "cell_type": "code",
   "execution_count": 58,
   "metadata": {
    "collapsed": true
   },
   "outputs": [],
   "source": [
    "def preprocess_parser(rawtxt):\n",
    "    txt = remove_punctuation_except_colon(rawtxt)\n",
    "    txt = re.sub(r'^[a-z\\u00E0-\\u00FCA-Z\\u00E0-\\u00FC]+$/i', ' ', txt)\n",
    "    txt = unidecode.unidecode(txt).lower()\n",
    "    txt = txt.replace(\" \", \"\")\n",
    "    txt = txt.replace(\"-\",\"\")\n",
    "    return txt\n",
    "\n",
    "def remove_punctuation_except_colon(s):\n",
    "    delimiters = string.punctuation\n",
    "    delimiters = delimiters.replace(\":\",\"\")\n",
    "    delimiters+= '\\n\\r\\t' \t\t\t\t\t\t\t\t\t\t\t\t# additions\n",
    "    this_translation=str.maketrans(delimiters,' '*len(delimiters))\n",
    "    s= s.translate(this_translation) # removes punctuation\n",
    "    return s"
   ]
  },
  {
   "cell_type": "code",
   "execution_count": 59,
   "metadata": {
    "collapsed": false
   },
   "outputs": [
    {
     "data": {
      "text/plain": [
       "'istoesoumtesteoklocal:saopaulosp'"
      ]
     },
     "execution_count": 59,
     "metadata": {},
     "output_type": "execute_result"
    }
   ],
   "source": [
    "toy_example = \"Isto é só um teste, ok? Local: São Paulo / SP\"\n",
    "preprocess_parser(toy_example)"
   ]
  },
  {
   "cell_type": "code",
   "execution_count": 60,
   "metadata": {
    "collapsed": true
   },
   "outputs": [],
   "source": [
    "cleaner = lambda x : preprocess_parser(x)\n",
    "df['clean_description'] = df['description'].transform(cleaner)"
   ]
  },
  {
   "cell_type": "code",
   "execution_count": 61,
   "metadata": {
    "collapsed": false
   },
   "outputs": [
    {
     "data": {
      "text/plain": [
       "9032    atividadesprofissionais:fornecersuporteagestao...\n",
       "2213    consultorcomercialbaurudatadecadastro:escolalo...\n",
       "4858    atuaracomatividadespertinentesaocargoescolarid...\n",
       "2751    irarealizarvendasdeemprestimosconsignadoscarto...\n",
       "4638    :responsabilidades:iraatuarnaconfeccaodeinfrae...\n",
       "Name: clean_description, dtype: object"
      ]
     },
     "execution_count": 61,
     "metadata": {},
     "output_type": "execute_result"
    }
   ],
   "source": [
    "df.sample(5)[\"clean_description\"]"
   ]
  },
  {
   "cell_type": "markdown",
   "metadata": {},
   "source": [
    "### Rodando o parser para gerar os dicionarios"
   ]
  },
  {
   "cell_type": "code",
   "execution_count": 66,
   "metadata": {
    "collapsed": false
   },
   "outputs": [],
   "source": [
    "dicionario_locais = {}\n",
    "dicionario_formacao = {}\n",
    "lookup_local = [\"local:\", \"localdetrabalho:\", \"localdavaga:\", \"cidade:\",\"localizadaem\",\"localdotrabalho:\",\"localizacao:\"]\n",
    "lookup_formacao = [\"formacaorequerida:\",\"formacaodesejada:\",\"formacao:\",\"escolaridade:\",\n",
    "                   \"escolaridadedesejada:\",\"escolaridaderequerida:\"]\n",
    "\n",
    "for idx, vaga in df.iterrows():\n",
    "    description = str(vaga[\"clean_description\"])\n",
    "    for l in lookup_local:\n",
    "        if(l in description):\n",
    "            dicionario_locais[idx] = description[(description.index(l) + len(l)):(description.index(l) + len(l) + 7)]\n",
    "\n",
    "    for lc in lookup_formacao:\n",
    "        if(lc in description):\n",
    "            dicionario_formacao[idx] = description[(description.index(lc) + len(lc)):(description.index(lc) + len(lc) + 7)]\n"
   ]
  },
  {
   "cell_type": "markdown",
   "metadata": {},
   "source": [
    "### Exemplificando os resultados:"
   ]
  },
  {
   "cell_type": "code",
   "execution_count": 67,
   "metadata": {
    "collapsed": false
   },
   "outputs": [
    {
     "data": {
      "text/plain": [
       "{16: 'analiaf',\n",
       " 1391: 'riodeja',\n",
       " 6146: 'riodeja',\n",
       " 6957: 'ribeira',\n",
       " 8199: 'riodeja',\n",
       " 8200: 'riodeja',\n",
       " 8211: 'atender',\n",
       " 9629: 'saojose',\n",
       " 9689: 'saopaul'}"
      ]
     },
     "execution_count": 67,
     "metadata": {},
     "output_type": "execute_result"
    }
   ],
   "source": [
    "dict(list(dicionario_locais.items())[0:9])"
   ]
  },
  {
   "cell_type": "code",
   "execution_count": 68,
   "metadata": {
    "collapsed": false
   },
   "outputs": [
    {
     "data": {
      "text/plain": [
       "{16: 'ensinom',\n",
       " 2056: 'ensinom',\n",
       " 6153: 'ensinos',\n",
       " 6162: 'ensinof',\n",
       " 6169: 'tecnico',\n",
       " 8199: 'fundame',\n",
       " 8204: 'ensinos',\n",
       " 8536: 'ensinom',\n",
       " 9288: 'ensinom'}"
      ]
     },
     "execution_count": 68,
     "metadata": {},
     "output_type": "execute_result"
    }
   ],
   "source": [
    "dict(list(dicionario_formacao.items())[0:9])"
   ]
  },
  {
   "cell_type": "markdown",
   "metadata": {},
   "source": [
    "### Checando para quantas vagas as informaçoes foram encontradas"
   ]
  },
  {
   "cell_type": "code",
   "execution_count": 69,
   "metadata": {
    "collapsed": false
   },
   "outputs": [
    {
     "data": {
      "text/plain": [
       "2324"
      ]
     },
     "execution_count": 69,
     "metadata": {},
     "output_type": "execute_result"
    }
   ],
   "source": [
    "len(dicionario_locais.keys())"
   ]
  },
  {
   "cell_type": "code",
   "execution_count": 70,
   "metadata": {
    "collapsed": false
   },
   "outputs": [
    {
     "data": {
      "text/plain": [
       "1012"
      ]
     },
     "execution_count": 70,
     "metadata": {},
     "output_type": "execute_result"
    }
   ],
   "source": [
    "len(dicionario_formacao.keys())"
   ]
  }
 ],
 "metadata": {
  "anaconda-cloud": {},
  "kernelspec": {
   "display_name": "Python [conda root]",
   "language": "python",
   "name": "conda-root-py"
  },
  "language_info": {
   "codemirror_mode": {
    "name": "ipython",
    "version": 3
   },
   "file_extension": ".py",
   "mimetype": "text/x-python",
   "name": "python",
   "nbconvert_exporter": "python",
   "pygments_lexer": "ipython3",
   "version": "3.5.2"
  }
 },
 "nbformat": 4,
 "nbformat_minor": 1
}
