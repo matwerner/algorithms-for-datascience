{
 "cells": [
  {
   "cell_type": "markdown",
   "metadata": {},
   "source": [
    "# A. Imports and initial setup"
   ]
  },
  {
   "cell_type": "markdown",
   "metadata": {},
   "source": [
    "## A.1 import data"
   ]
  },
  {
   "cell_type": "code",
   "execution_count": 1,
   "metadata": {},
   "outputs": [
    {
     "ename": "ValueError",
     "evalue": "Expected object or value",
     "output_type": "error",
     "traceback": [
      "\u001b[0;31m---------------------------------------------------------------------------\u001b[0m",
      "\u001b[0;31mValueError\u001b[0m                                Traceback (most recent call last)",
      "\u001b[0;32m<ipython-input-1-5f6666f6e179>\u001b[0m in \u001b[0;36m<module>\u001b[0;34m()\u001b[0m\n\u001b[1;32m      5\u001b[0m \u001b[0mdataset_location\u001b[0m\u001b[0;34m=\u001b[0m\u001b[0;34m'../development.json'\u001b[0m\u001b[0;34m\u001b[0m\u001b[0m\n\u001b[1;32m      6\u001b[0m \u001b[0;31m# dataset_location='../CorpusTrabalho4.zip'\u001b[0m\u001b[0;34m\u001b[0m\u001b[0;34m\u001b[0m\u001b[0m\n\u001b[0;32m----> 7\u001b[0;31m \u001b[0mdf\u001b[0m \u001b[0;34m=\u001b[0m \u001b[0mpd\u001b[0m\u001b[0;34m.\u001b[0m\u001b[0mread_json\u001b[0m\u001b[0;34m(\u001b[0m\u001b[0mdataset_location\u001b[0m\u001b[0;34m,\u001b[0m \u001b[0morient\u001b[0m\u001b[0;34m=\u001b[0m\u001b[0;34m'records'\u001b[0m\u001b[0;34m)\u001b[0m\u001b[0;34m\u001b[0m\u001b[0m\n\u001b[0m\u001b[1;32m      8\u001b[0m \u001b[0;31m# print(df.count()) 9998\u001b[0m\u001b[0;34m\u001b[0m\u001b[0;34m\u001b[0m\u001b[0m\n\u001b[1;32m      9\u001b[0m \u001b[0mdf\u001b[0m\u001b[0;34m.\u001b[0m\u001b[0msample\u001b[0m\u001b[0;34m(\u001b[0m\u001b[0;36m10\u001b[0m\u001b[0;34m)\u001b[0m\u001b[0;34m.\u001b[0m\u001b[0mhead\u001b[0m\u001b[0;34m(\u001b[0m\u001b[0;36m10\u001b[0m\u001b[0;34m)\u001b[0m\u001b[0;34m\u001b[0m\u001b[0m\n",
      "\u001b[0;32m/Users/guilhermevarela/anaconda/envs/py36/lib/python3.6/site-packages/pandas/io/json/json.py\u001b[0m in \u001b[0;36mread_json\u001b[0;34m(path_or_buf, orient, typ, dtype, convert_axes, convert_dates, keep_default_dates, numpy, precise_float, date_unit, encoding, lines)\u001b[0m\n\u001b[1;32m    352\u001b[0m         obj = FrameParser(json, orient, dtype, convert_axes, convert_dates,\n\u001b[1;32m    353\u001b[0m                           \u001b[0mkeep_default_dates\u001b[0m\u001b[0;34m,\u001b[0m \u001b[0mnumpy\u001b[0m\u001b[0;34m,\u001b[0m \u001b[0mprecise_float\u001b[0m\u001b[0;34m,\u001b[0m\u001b[0;34m\u001b[0m\u001b[0m\n\u001b[0;32m--> 354\u001b[0;31m                           date_unit).parse()\n\u001b[0m\u001b[1;32m    355\u001b[0m \u001b[0;34m\u001b[0m\u001b[0m\n\u001b[1;32m    356\u001b[0m     \u001b[0;32mif\u001b[0m \u001b[0mtyp\u001b[0m \u001b[0;34m==\u001b[0m \u001b[0;34m'series'\u001b[0m \u001b[0;32mor\u001b[0m \u001b[0mobj\u001b[0m \u001b[0;32mis\u001b[0m \u001b[0;32mNone\u001b[0m\u001b[0;34m:\u001b[0m\u001b[0;34m\u001b[0m\u001b[0m\n",
      "\u001b[0;32m/Users/guilhermevarela/anaconda/envs/py36/lib/python3.6/site-packages/pandas/io/json/json.py\u001b[0m in \u001b[0;36mparse\u001b[0;34m(self)\u001b[0m\n\u001b[1;32m    420\u001b[0m \u001b[0;34m\u001b[0m\u001b[0m\n\u001b[1;32m    421\u001b[0m         \u001b[0;32melse\u001b[0m\u001b[0;34m:\u001b[0m\u001b[0;34m\u001b[0m\u001b[0m\n\u001b[0;32m--> 422\u001b[0;31m             \u001b[0mself\u001b[0m\u001b[0;34m.\u001b[0m\u001b[0m_parse_no_numpy\u001b[0m\u001b[0;34m(\u001b[0m\u001b[0;34m)\u001b[0m\u001b[0;34m\u001b[0m\u001b[0m\n\u001b[0m\u001b[1;32m    423\u001b[0m \u001b[0;34m\u001b[0m\u001b[0m\n\u001b[1;32m    424\u001b[0m         \u001b[0;32mif\u001b[0m \u001b[0mself\u001b[0m\u001b[0;34m.\u001b[0m\u001b[0mobj\u001b[0m \u001b[0;32mis\u001b[0m \u001b[0;32mNone\u001b[0m\u001b[0;34m:\u001b[0m\u001b[0;34m\u001b[0m\u001b[0m\n",
      "\u001b[0;32m/Users/guilhermevarela/anaconda/envs/py36/lib/python3.6/site-packages/pandas/io/json/json.py\u001b[0m in \u001b[0;36m_parse_no_numpy\u001b[0;34m(self)\u001b[0m\n\u001b[1;32m    650\u001b[0m         \u001b[0;32melse\u001b[0m\u001b[0;34m:\u001b[0m\u001b[0;34m\u001b[0m\u001b[0m\n\u001b[1;32m    651\u001b[0m             self.obj = DataFrame(\n\u001b[0;32m--> 652\u001b[0;31m                 loads(json, precise_float=self.precise_float), dtype=None)\n\u001b[0m\u001b[1;32m    653\u001b[0m \u001b[0;34m\u001b[0m\u001b[0m\n\u001b[1;32m    654\u001b[0m     \u001b[0;32mdef\u001b[0m \u001b[0m_process_converter\u001b[0m\u001b[0;34m(\u001b[0m\u001b[0mself\u001b[0m\u001b[0;34m,\u001b[0m \u001b[0mf\u001b[0m\u001b[0;34m,\u001b[0m \u001b[0mfilt\u001b[0m\u001b[0;34m=\u001b[0m\u001b[0;32mNone\u001b[0m\u001b[0;34m)\u001b[0m\u001b[0;34m:\u001b[0m\u001b[0;34m\u001b[0m\u001b[0m\n",
      "\u001b[0;31mValueError\u001b[0m: Expected object or value"
     ]
    }
   ],
   "source": [
    "import numpy as np \n",
    "import pandas as pd \n",
    "\n",
    "from utils import get_stopwords, get_stemmer, tokenizer, data2idx, data2bow\n",
    "dataset_location='../../locality-sensitive-hashing/development.json'\n",
    "# dataset_location='../CorpusTrabalho4.zip'\n",
    "df = pd.read_json(dataset_location, orient='records')\n",
    "# print(df.count()) 9998\n",
    "df.sample(10).head(10)"
   ]
  },
  {
   "cell_type": "markdown",
   "metadata": {},
   "source": [
    "## A.2 Stopwords"
   ]
  },
  {
   "cell_type": "code",
   "execution_count": 2,
   "metadata": {},
   "outputs": [
    {
     "name": "stdout",
     "output_type": "stream",
     "text": [
      "total stop words are 203\n",
      "['estivemos', 'me', 'mesmo', 'vos', 'estávamos']\n"
     ]
    }
   ],
   "source": [
    "stopwords= list(get_stopwords())\n",
    "ind = np.random.randint(0,len(stopwords), size=5)\n",
    "print('total stop words are %d' % (len(stopwords)))\n",
    "print([stopwords[i] for i in ind])      "
   ]
  },
  {
   "cell_type": "markdown",
   "metadata": {},
   "source": [
    "## A.3 Stemmer"
   ]
  },
  {
   "cell_type": "code",
   "execution_count": 3,
   "metadata": {},
   "outputs": [
    {
     "name": "stdout",
     "output_type": "stream",
     "text": [
      "Before stemming:\n",
      "['Programador', 'Programa', 'pegaram', 'correram']\n",
      "After stemming:\n",
      "['program', 'program', 'peg', 'corr']\n"
     ]
    }
   ],
   "source": [
    "stemmer= get_stemmer() \n",
    "words_test= ['Programador', 'Programa', 'pegaram', 'correram']\n",
    "print('Before stemming:')\n",
    "print(words_test)\n",
    "print('After stemming:')\n",
    "print([stemmer.stem(w) for w in words_test])"
   ]
  },
  {
   "cell_type": "markdown",
   "metadata": {},
   "source": [
    "## A.4 Tokenize the title"
   ]
  },
  {
   "cell_type": "code",
   "execution_count": 4,
   "metadata": {},
   "outputs": [
    {
     "data": {
      "text/html": [
       "<div>\n",
       "<style>\n",
       "    .dataframe thead tr:only-child th {\n",
       "        text-align: right;\n",
       "    }\n",
       "\n",
       "    .dataframe thead th {\n",
       "        text-align: left;\n",
       "    }\n",
       "\n",
       "    .dataframe tbody tr th {\n",
       "        vertical-align: top;\n",
       "    }\n",
       "</style>\n",
       "<table border=\"1\" class=\"dataframe\">\n",
       "  <thead>\n",
       "    <tr style=\"text-align: right;\">\n",
       "      <th></th>\n",
       "      <th>description</th>\n",
       "      <th>id</th>\n",
       "      <th>title</th>\n",
       "      <th>token_title</th>\n",
       "    </tr>\n",
       "  </thead>\n",
       "  <tbody>\n",
       "    <tr>\n",
       "      <th>8312</th>\n",
       "      <td>Sobre a vaga \\r\\n\\r\\n\\r\\n    Descricao\\r\\n\\r\\n...</td>\n",
       "      <td>8312</td>\n",
       "      <td>Vaga de Tecnico De Enfermagem</td>\n",
       "      <td>vag tecnic enfermag</td>\n",
       "    </tr>\n",
       "    <tr>\n",
       "      <th>531</th>\n",
       "      <td>A Empresa Tok&amp;Stok conta com mais de 4.000 fun...</td>\n",
       "      <td>531</td>\n",
       "      <td>\\n                Vendedor Cadista - Porto Ale...</td>\n",
       "      <td>vendedor cadist  port alegr  rd</td>\n",
       "    </tr>\n",
       "    <tr>\n",
       "      <th>112</th>\n",
       "      <td>Supervisor comercial                          ...</td>\n",
       "      <td>112</td>\n",
       "      <td>Oferta de emprego - Supervisor comercial</td>\n",
       "      <td>ofert empreg  supervisor comercial</td>\n",
       "    </tr>\n",
       "    <tr>\n",
       "      <th>3361</th>\n",
       "      <td>Sobre a vaga \\r\\n\\r\\n\\r\\n    Descricao\\r\\n\\r\\n...</td>\n",
       "      <td>3361</td>\n",
       "      <td>Vaga de Manicure E Pedicure em Sao Paulo</td>\n",
       "      <td>vag manicur pedicur sao paul</td>\n",
       "    </tr>\n",
       "    <tr>\n",
       "      <th>6853</th>\n",
       "      <td>Instituicao filantropica que trabalha com acol...</td>\n",
       "      <td>6853</td>\n",
       "      <td>Vaga para Auxiliar Administrativo Financeiro</td>\n",
       "      <td>vag auxili administr financeir</td>\n",
       "    </tr>\n",
       "    <tr>\n",
       "      <th>6490</th>\n",
       "      <td>Sobre a vaga \\r\\n\\r\\n\\r\\n    Descricao\\r\\n\\r\\n...</td>\n",
       "      <td>6490</td>\n",
       "      <td>Vaga de Operador De Caixa</td>\n",
       "      <td>vag oper caix</td>\n",
       "    </tr>\n",
       "    <tr>\n",
       "      <th>7446</th>\n",
       "      <td>Contrata-se cabeleleira(o) com experiencia em ...</td>\n",
       "      <td>7446</td>\n",
       "      <td>Cabeleireiro</td>\n",
       "      <td>cabeleireir</td>\n",
       "    </tr>\n",
       "    <tr>\n",
       "      <th>9004</th>\n",
       "      <td>Atividades Profissionais: Cobranca ativa da ca...</td>\n",
       "      <td>9004</td>\n",
       "      <td>Auxiliar de Cobranca</td>\n",
       "      <td>auxili cobranc</td>\n",
       "    </tr>\n",
       "    <tr>\n",
       "      <th>2266</th>\n",
       "      <td>Comprador(a) Cidade: portao Requisitos da vaga...</td>\n",
       "      <td>2266</td>\n",
       "      <td>Vaga para Comprador</td>\n",
       "      <td>vag comprador</td>\n",
       "    </tr>\n",
       "    <tr>\n",
       "      <th>1016</th>\n",
       "      <td>Vendedor Externo Responsabilidades: atendiment...</td>\n",
       "      <td>1016</td>\n",
       "      <td>Vendedor Externo</td>\n",
       "      <td>vendedor extern</td>\n",
       "    </tr>\n",
       "  </tbody>\n",
       "</table>\n",
       "</div>"
      ],
      "text/plain": [
       "                                            description    id  \\\n",
       "8312  Sobre a vaga \\r\\n\\r\\n\\r\\n    Descricao\\r\\n\\r\\n...  8312   \n",
       "531   A Empresa Tok&Stok conta com mais de 4.000 fun...   531   \n",
       "112   Supervisor comercial                          ...   112   \n",
       "3361  Sobre a vaga \\r\\n\\r\\n\\r\\n    Descricao\\r\\n\\r\\n...  3361   \n",
       "6853  Instituicao filantropica que trabalha com acol...  6853   \n",
       "6490  Sobre a vaga \\r\\n\\r\\n\\r\\n    Descricao\\r\\n\\r\\n...  6490   \n",
       "7446  Contrata-se cabeleleira(o) com experiencia em ...  7446   \n",
       "9004  Atividades Profissionais: Cobranca ativa da ca...  9004   \n",
       "2266  Comprador(a) Cidade: portao Requisitos da vaga...  2266   \n",
       "1016  Vendedor Externo Responsabilidades: atendiment...  1016   \n",
       "\n",
       "                                                  title  \\\n",
       "8312                      Vaga de Tecnico De Enfermagem   \n",
       "531   \\n                Vendedor Cadista - Porto Ale...   \n",
       "112            Oferta de emprego - Supervisor comercial   \n",
       "3361           Vaga de Manicure E Pedicure em Sao Paulo   \n",
       "6853       Vaga para Auxiliar Administrativo Financeiro   \n",
       "6490                          Vaga de Operador De Caixa   \n",
       "7446                                       Cabeleireiro   \n",
       "9004                               Auxiliar de Cobranca   \n",
       "2266                                Vaga para Comprador   \n",
       "1016                                   Vendedor Externo   \n",
       "\n",
       "                             token_title  \n",
       "8312                 vag tecnic enfermag  \n",
       "531      vendedor cadist  port alegr  rd  \n",
       "112   ofert empreg  supervisor comercial  \n",
       "3361        vag manicur pedicur sao paul  \n",
       "6853      vag auxili administr financeir  \n",
       "6490                       vag oper caix  \n",
       "7446                         cabeleireir  \n",
       "9004                      auxili cobranc  \n",
       "2266                       vag comprador  \n",
       "1016                     vendedor extern  "
      ]
     },
     "execution_count": 4,
     "metadata": {},
     "output_type": "execute_result"
    }
   ],
   "source": [
    "tokenfy = lambda x : tokenizer(x, stopwords= stopwords, stemmer=stemmer)\n",
    "df['token_title'] = df['title'].transform(tokenfy)\n",
    "df.sample(10).head(10)"
   ]
  },
  {
   "cell_type": "markdown",
   "metadata": {},
   "source": [
    "## A.5 Tokenize the description"
   ]
  },
  {
   "cell_type": "code",
   "execution_count": 5,
   "metadata": {},
   "outputs": [
    {
     "data": {
      "text/html": [
       "<div>\n",
       "<style>\n",
       "    .dataframe thead tr:only-child th {\n",
       "        text-align: right;\n",
       "    }\n",
       "\n",
       "    .dataframe thead th {\n",
       "        text-align: left;\n",
       "    }\n",
       "\n",
       "    .dataframe tbody tr th {\n",
       "        vertical-align: top;\n",
       "    }\n",
       "</style>\n",
       "<table border=\"1\" class=\"dataframe\">\n",
       "  <thead>\n",
       "    <tr style=\"text-align: right;\">\n",
       "      <th></th>\n",
       "      <th>description</th>\n",
       "      <th>id</th>\n",
       "      <th>title</th>\n",
       "      <th>token_title</th>\n",
       "      <th>token_description</th>\n",
       "    </tr>\n",
       "  </thead>\n",
       "  <tbody>\n",
       "    <tr>\n",
       "      <th>0</th>\n",
       "      <td>Auxilia nas rotinas do departamento administra...</td>\n",
       "      <td>0</td>\n",
       "      <td>Aprendiz Administrativo</td>\n",
       "      <td>aprendiz administr</td>\n",
       "      <td>auxil rotin depart administr acompanh relatori...</td>\n",
       "    </tr>\n",
       "    <tr>\n",
       "      <th>1</th>\n",
       "      <td>\\r\\n                Sera responsavel pelo dese...</td>\n",
       "      <td>1</td>\n",
       "      <td>Programador(a)</td>\n",
       "      <td>program</td>\n",
       "      <td>ser responsavel desenvolv manutenca sit loj v...</td>\n",
       "    </tr>\n",
       "    <tr>\n",
       "      <th>2</th>\n",
       "      <td>Sera responsavel pelo desenvolvimento e manute...</td>\n",
       "      <td>2</td>\n",
       "      <td>Programador(a)</td>\n",
       "      <td>program</td>\n",
       "      <td>ser responsavel desenvolv manutenca sit loj vi...</td>\n",
       "    </tr>\n",
       "    <tr>\n",
       "      <th>3</th>\n",
       "      <td>Realizar conciliacao de contas contabeis. Anal...</td>\n",
       "      <td>3</td>\n",
       "      <td>Estagiario(a) Contabilidade</td>\n",
       "      <td>estagiario contabil</td>\n",
       "      <td>realiz conciliaca cont contab analis demonstra...</td>\n",
       "    </tr>\n",
       "    <tr>\n",
       "      <th>4</th>\n",
       "      <td>Realizar conciliacao de contas contabeis. Anal...</td>\n",
       "      <td>4</td>\n",
       "      <td>Estagiario(a) Contabilidade</td>\n",
       "      <td>estagiario contabil</td>\n",
       "      <td>realiz conciliaca cont contab analis demonstra...</td>\n",
       "    </tr>\n",
       "    <tr>\n",
       "      <th>5</th>\n",
       "      <td>Sera responsavel pelo desenvolvimento e manute...</td>\n",
       "      <td>5</td>\n",
       "      <td>Programador(a)</td>\n",
       "      <td>program</td>\n",
       "      <td>ser responsavel desenvolv manutenca sit loj vi...</td>\n",
       "    </tr>\n",
       "    <tr>\n",
       "      <th>6</th>\n",
       "      <td>Realizar conciliacao de contas contabeis. Anal...</td>\n",
       "      <td>6</td>\n",
       "      <td>Estagiario(a) Contabilidade</td>\n",
       "      <td>estagiario contabil</td>\n",
       "      <td>realiz conciliaca cont contab analis demonstra...</td>\n",
       "    </tr>\n",
       "    <tr>\n",
       "      <th>7</th>\n",
       "      <td>Realizar conciliacao de contas contabeis. Anal...</td>\n",
       "      <td>7</td>\n",
       "      <td>Estagiario(a) Contabilidade</td>\n",
       "      <td>estagiario contabil</td>\n",
       "      <td>realiz conciliaca cont contab analis demonstra...</td>\n",
       "    </tr>\n",
       "    <tr>\n",
       "      <th>8</th>\n",
       "      <td>Sera responsavel pelo desenvolvimento e manute...</td>\n",
       "      <td>8</td>\n",
       "      <td>Programador(a)</td>\n",
       "      <td>program</td>\n",
       "      <td>ser responsavel desenvolv manutenca sit loj vi...</td>\n",
       "    </tr>\n",
       "    <tr>\n",
       "      <th>9</th>\n",
       "      <td>A Empresa Tok&amp;Stok conta com mais de 4.000 fun...</td>\n",
       "      <td>9</td>\n",
       "      <td>Vendedor Cadista - Copacabana</td>\n",
       "      <td>vendedor cadist  copacaban</td>\n",
       "      <td>empres tokstok cont 4000 funcionari distribu 5...</td>\n",
       "    </tr>\n",
       "  </tbody>\n",
       "</table>\n",
       "</div>"
      ],
      "text/plain": [
       "                                         description  id  \\\n",
       "0  Auxilia nas rotinas do departamento administra...   0   \n",
       "1  \\r\\n                Sera responsavel pelo dese...   1   \n",
       "2  Sera responsavel pelo desenvolvimento e manute...   2   \n",
       "3  Realizar conciliacao de contas contabeis. Anal...   3   \n",
       "4  Realizar conciliacao de contas contabeis. Anal...   4   \n",
       "5  Sera responsavel pelo desenvolvimento e manute...   5   \n",
       "6  Realizar conciliacao de contas contabeis. Anal...   6   \n",
       "7  Realizar conciliacao de contas contabeis. Anal...   7   \n",
       "8  Sera responsavel pelo desenvolvimento e manute...   8   \n",
       "9  A Empresa Tok&Stok conta com mais de 4.000 fun...   9   \n",
       "\n",
       "                           title                 token_title  \\\n",
       "0        Aprendiz Administrativo          aprendiz administr   \n",
       "1                 Programador(a)                     program   \n",
       "2                 Programador(a)                     program   \n",
       "3    Estagiario(a) Contabilidade         estagiario contabil   \n",
       "4    Estagiario(a) Contabilidade         estagiario contabil   \n",
       "5                 Programador(a)                     program   \n",
       "6    Estagiario(a) Contabilidade         estagiario contabil   \n",
       "7    Estagiario(a) Contabilidade         estagiario contabil   \n",
       "8                 Programador(a)                     program   \n",
       "9  Vendedor Cadista - Copacabana  vendedor cadist  copacaban   \n",
       "\n",
       "                                   token_description  \n",
       "0  auxil rotin depart administr acompanh relatori...  \n",
       "1   ser responsavel desenvolv manutenca sit loj v...  \n",
       "2  ser responsavel desenvolv manutenca sit loj vi...  \n",
       "3  realiz conciliaca cont contab analis demonstra...  \n",
       "4  realiz conciliaca cont contab analis demonstra...  \n",
       "5  ser responsavel desenvolv manutenca sit loj vi...  \n",
       "6  realiz conciliaca cont contab analis demonstra...  \n",
       "7  realiz conciliaca cont contab analis demonstra...  \n",
       "8  ser responsavel desenvolv manutenca sit loj vi...  \n",
       "9  empres tokstok cont 4000 funcionari distribu 5...  "
      ]
     },
     "execution_count": 5,
     "metadata": {},
     "output_type": "execute_result"
    }
   ],
   "source": [
    "df['token_description'] = df['description'].transform(tokenfy)\n",
    "# df.sample(10).head(10)\n",
    "df.head(10)"
   ]
  },
  {
   "cell_type": "markdown",
   "metadata": {},
   "source": [
    "## A.6 Token 2 idx"
   ]
  },
  {
   "cell_type": "code",
   "execution_count": 6,
   "metadata": {},
   "outputs": [
    {
     "name": "stdout",
     "output_type": "stream",
     "text": [
      "document:9997 of 9998\tVOCAB:25671\tWORD COUNT:574479\t\n"
     ]
    },
    {
     "data": {
      "text/html": [
       "<div>\n",
       "<style>\n",
       "    .dataframe thead tr:only-child th {\n",
       "        text-align: right;\n",
       "    }\n",
       "\n",
       "    .dataframe thead th {\n",
       "        text-align: left;\n",
       "    }\n",
       "\n",
       "    .dataframe tbody tr th {\n",
       "        vertical-align: top;\n",
       "    }\n",
       "</style>\n",
       "<table border=\"1\" class=\"dataframe\">\n",
       "  <thead>\n",
       "    <tr style=\"text-align: right;\">\n",
       "      <th></th>\n",
       "      <th>description</th>\n",
       "      <th>id</th>\n",
       "      <th>title</th>\n",
       "      <th>token_title</th>\n",
       "      <th>idx_description</th>\n",
       "    </tr>\n",
       "  </thead>\n",
       "  <tbody>\n",
       "    <tr>\n",
       "      <th>0</th>\n",
       "      <td>Auxilia nas rotinas do departamento administra...</td>\n",
       "      <td>0</td>\n",
       "      <td>Aprendiz Administrativo</td>\n",
       "      <td>aprendiz administr</td>\n",
       "      <td>0 1 2 3 4 5 6 7 8 9 10 11 12 13 14 15 16 17</td>\n",
       "    </tr>\n",
       "    <tr>\n",
       "      <th>1</th>\n",
       "      <td>\\r\\n                Sera responsavel pelo dese...</td>\n",
       "      <td>1</td>\n",
       "      <td>Programador(a)</td>\n",
       "      <td>program</td>\n",
       "      <td>18 19 20 21 22 23 24 25 26 27 28 29 21 30 22 3...</td>\n",
       "    </tr>\n",
       "    <tr>\n",
       "      <th>2</th>\n",
       "      <td>Sera responsavel pelo desenvolvimento e manute...</td>\n",
       "      <td>2</td>\n",
       "      <td>Programador(a)</td>\n",
       "      <td>program</td>\n",
       "      <td>19 20 21 22 23 24 25 26 27 28 29 21 30 22 31 3...</td>\n",
       "    </tr>\n",
       "    <tr>\n",
       "      <th>3</th>\n",
       "      <td>Realizar conciliacao de contas contabeis. Anal...</td>\n",
       "      <td>3</td>\n",
       "      <td>Estagiario(a) Contabilidade</td>\n",
       "      <td>estagiario contabil</td>\n",
       "      <td>40 41 42 43 44 45 46 47 7 48 49 50 46</td>\n",
       "    </tr>\n",
       "    <tr>\n",
       "      <th>4</th>\n",
       "      <td>Realizar conciliacao de contas contabeis. Anal...</td>\n",
       "      <td>4</td>\n",
       "      <td>Estagiario(a) Contabilidade</td>\n",
       "      <td>estagiario contabil</td>\n",
       "      <td>40 41 42 43 44 45 46 47 7 48 49 50 46</td>\n",
       "    </tr>\n",
       "    <tr>\n",
       "      <th>5</th>\n",
       "      <td>Sera responsavel pelo desenvolvimento e manute...</td>\n",
       "      <td>5</td>\n",
       "      <td>Programador(a)</td>\n",
       "      <td>program</td>\n",
       "      <td>19 20 21 22 23 24 25 26 27 28 29 21 30 22 31 3...</td>\n",
       "    </tr>\n",
       "    <tr>\n",
       "      <th>6</th>\n",
       "      <td>Realizar conciliacao de contas contabeis. Anal...</td>\n",
       "      <td>6</td>\n",
       "      <td>Estagiario(a) Contabilidade</td>\n",
       "      <td>estagiario contabil</td>\n",
       "      <td>40 41 42 43 44 45 46 47 7 48 49 50 46</td>\n",
       "    </tr>\n",
       "    <tr>\n",
       "      <th>7</th>\n",
       "      <td>Realizar conciliacao de contas contabeis. Anal...</td>\n",
       "      <td>7</td>\n",
       "      <td>Estagiario(a) Contabilidade</td>\n",
       "      <td>estagiario contabil</td>\n",
       "      <td>40 41 42 43 44 45 46 47 7 48 49 50 46</td>\n",
       "    </tr>\n",
       "    <tr>\n",
       "      <th>8</th>\n",
       "      <td>Sera responsavel pelo desenvolvimento e manute...</td>\n",
       "      <td>8</td>\n",
       "      <td>Programador(a)</td>\n",
       "      <td>program</td>\n",
       "      <td>19 20 21 22 23 24 25 26 27 28 29 21 30 22 31 3...</td>\n",
       "    </tr>\n",
       "    <tr>\n",
       "      <th>9</th>\n",
       "      <td>A Empresa Tok&amp;Stok conta com mais de 4.000 fun...</td>\n",
       "      <td>9</td>\n",
       "      <td>Vendedor Cadista - Copacabana</td>\n",
       "      <td>vendedor cadist  copacaban</td>\n",
       "      <td>51 52 42 53 54 55 56 24 57 58 59 60 61 62 63 6...</td>\n",
       "    </tr>\n",
       "  </tbody>\n",
       "</table>\n",
       "</div>"
      ],
      "text/plain": [
       "                                         description  id  \\\n",
       "0  Auxilia nas rotinas do departamento administra...   0   \n",
       "1  \\r\\n                Sera responsavel pelo dese...   1   \n",
       "2  Sera responsavel pelo desenvolvimento e manute...   2   \n",
       "3  Realizar conciliacao de contas contabeis. Anal...   3   \n",
       "4  Realizar conciliacao de contas contabeis. Anal...   4   \n",
       "5  Sera responsavel pelo desenvolvimento e manute...   5   \n",
       "6  Realizar conciliacao de contas contabeis. Anal...   6   \n",
       "7  Realizar conciliacao de contas contabeis. Anal...   7   \n",
       "8  Sera responsavel pelo desenvolvimento e manute...   8   \n",
       "9  A Empresa Tok&Stok conta com mais de 4.000 fun...   9   \n",
       "\n",
       "                           title                 token_title  \\\n",
       "0        Aprendiz Administrativo          aprendiz administr   \n",
       "1                 Programador(a)                     program   \n",
       "2                 Programador(a)                     program   \n",
       "3    Estagiario(a) Contabilidade         estagiario contabil   \n",
       "4    Estagiario(a) Contabilidade         estagiario contabil   \n",
       "5                 Programador(a)                     program   \n",
       "6    Estagiario(a) Contabilidade         estagiario contabil   \n",
       "7    Estagiario(a) Contabilidade         estagiario contabil   \n",
       "8                 Programador(a)                     program   \n",
       "9  Vendedor Cadista - Copacabana  vendedor cadist  copacaban   \n",
       "\n",
       "                                     idx_description  \n",
       "0        0 1 2 3 4 5 6 7 8 9 10 11 12 13 14 15 16 17  \n",
       "1  18 19 20 21 22 23 24 25 26 27 28 29 21 30 22 3...  \n",
       "2  19 20 21 22 23 24 25 26 27 28 29 21 30 22 31 3...  \n",
       "3              40 41 42 43 44 45 46 47 7 48 49 50 46  \n",
       "4              40 41 42 43 44 45 46 47 7 48 49 50 46  \n",
       "5  19 20 21 22 23 24 25 26 27 28 29 21 30 22 31 3...  \n",
       "6              40 41 42 43 44 45 46 47 7 48 49 50 46  \n",
       "7              40 41 42 43 44 45 46 47 7 48 49 50 46  \n",
       "8  19 20 21 22 23 24 25 26 27 28 29 21 30 22 31 3...  \n",
       "9  51 52 42 53 54 55 56 24 57 58 59 60 61 62 63 6...  "
      ]
     },
     "execution_count": 6,
     "metadata": {},
     "output_type": "execute_result"
    }
   ],
   "source": [
    "word2idx={}\n",
    "df = data2idx(df, word2idx)\n",
    "# df.sample(10).head(10)\n",
    "df.head(10)"
   ]
  },
  {
   "cell_type": "code",
   "execution_count": 9,
   "metadata": {},
   "outputs": [
    {
     "name": "stdout",
     "output_type": "stream",
     "text": [
      "(25671, 9998)\n"
     ]
    },
    {
     "data": {
      "text/plain": [
       "array([[1, 0, 0, 0, 0],\n",
       "       [1, 0, 0, 0, 0],\n",
       "       [1, 0, 0, 0, 0],\n",
       "       [1, 0, 0, 0, 0],\n",
       "       [1, 0, 0, 0, 0]], dtype=int32)"
      ]
     },
     "execution_count": 9,
     "metadata": {},
     "output_type": "execute_result"
    }
   ],
   "source": [
    "bow = data2bow(df, word2idx)\n",
    "print(bow.shape)\n",
    "bow[:5,:5]"
   ]
  },
  {
   "cell_type": "code",
   "execution_count": null,
   "metadata": {
    "collapsed": true
   },
   "outputs": [],
   "source": [
    "from utils import matrix2txt\n",
    "matrix2txt(bow,filename='bow.txt')"
   ]
  }
 ],
 "metadata": {
  "kernelspec": {
   "display_name": "Python 3",
   "language": "python",
   "name": "python3"
  },
  "language_info": {
   "codemirror_mode": {
    "name": "ipython",
    "version": 3
   },
   "file_extension": ".py",
   "mimetype": "text/x-python",
   "name": "python",
   "nbconvert_exporter": "python",
   "pygments_lexer": "ipython3",
   "version": "3.6.1"
  }
 },
 "nbformat": 4,
 "nbformat_minor": 2
}
