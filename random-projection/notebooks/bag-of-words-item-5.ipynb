{
 "cells": [
  {
   "cell_type": "code",
   "execution_count": 20,
   "metadata": {
    "collapsed": true
   },
   "outputs": [],
   "source": [
    "from brown import get_documents\n",
    "from util import documents2bag_of_words \n",
    "import math"
   ]
  },
  {
   "cell_type": "code",
   "execution_count": 21,
   "metadata": {
    "collapsed": false
   },
   "outputs": [
    {
     "name": "stdout",
     "output_type": "stream",
     "text": [
      "\n"
     ]
    }
   ],
   "source": [
    "brown_documents= get_documents(verbose=True)\n",
    "BoW, word2idx=  documents2bag_of_words(brown_documents)"
   ]
  },
  {
   "cell_type": "code",
   "execution_count": 23,
   "metadata": {
    "collapsed": false
   },
   "outputs": [
    {
     "name": "stdout",
     "output_type": "stream",
     "text": [
      "538747\n"
     ]
    }
   ],
   "source": [
    "print BoW.sum()"
   ]
  },
  {
   "cell_type": "code",
   "execution_count": null,
   "metadata": {
    "collapsed": false
   },
   "outputs": [],
   "source": [
    "#item 6=====================================================================================================================#\n",
    "\n",
    "import math\n",
    "import timeit\n",
    "\n",
    "start_time = timeit.default_timer()\n",
    "\n",
    "def distance(point_a, point_b):\n",
    "    internal_summation = 0\n",
    "    for coordinate_a, coordinate_b in zip(point_a, point_b):\n",
    "        coordinates_dif =  coordinate_a - coordinate_b\n",
    "        internal_summation = internal_summation + coordinates_dif * coordinates_dif\n",
    "    \n",
    "    return math.sqrt(internal_summation)\n",
    "    \n",
    "\n",
    "distances_matrix = [[0 for x in range(0, len(BoW))] for y in range(0, len(BoW))]\n",
    "\n",
    "for i in range(0,len(BoW)):\n",
    "    for j in range(i+1,len(BoW)):\n",
    "        d =  distance(BoW[i], BoW[j])\n",
    "        square_distance = d*d\n",
    "        distances_matrix[i][j] = square_distance \n",
    "        distances_matrix[j][i] = square_distance \n",
    "        \n",
    "elapsed = timeit.default_timer() - start_time \n",
    "\n",
    "print elapsed"
   ]
  }
 ],
 "metadata": {
  "anaconda-cloud": {},
  "kernelspec": {
   "display_name": "Python [default]",
   "language": "python",
   "name": "python2"
  },
  "language_info": {
   "codemirror_mode": {
    "name": "ipython",
    "version": 2
   },
   "file_extension": ".py",
   "mimetype": "text/x-python",
   "name": "python",
   "nbconvert_exporter": "python",
   "pygments_lexer": "ipython2",
   "version": "2.7.12"
  }
 },
 "nbformat": 4,
 "nbformat_minor": 2
}
