{
 "cells": [
  {
   "cell_type": "code",
   "execution_count": 1,
   "metadata": {
    "collapsed": true
   },
   "outputs": [],
   "source": [
    "# from brown import get_documents\n",
    "from g1 import get_documents\n",
    "from util import documents2bag_of_words, bow2dump\n",
    "from sparse import SparseVector\n",
    "\n",
    "\n",
    "import timeit"
   ]
  },
  {
   "cell_type": "code",
   "execution_count": 2,
   "metadata": {},
   "outputs": [
    {
     "name": "stdout",
     "output_type": "stream",
     "text": [
      "article:3000 of 3000\tV:78198\tWORD COUNT:1311613\tdocid:governo-diz-que-nao-tem-dinheiro-para-obras-no-aeroporto-de-vitoriassaoaoracitonca-18toitoira-para-liberar-corpos\n"
     ]
    }
   ],
   "source": [
    "#RAW VOCABULARY\n",
    "# brown_documents= get_documents(verbose=True)\n",
    "g1_documents= get_documents(verbose=True)"
   ]
  },
  {
   "cell_type": "code",
   "execution_count": 3,
   "metadata": {},
   "outputs": [
    {
     "name": "stdout",
     "output_type": "stream",
     "text": [
      "document:3000 of 3000\tV:46230\tWORD COUNT:774032\tdocid:governo-diz-que-nao-tem-dinheiro-para-obras-no-aeroporto-de-vitoriassaoaoracitoncaa-18toitoira-para-liberar-corpos\n"
     ]
    }
   ],
   "source": [
    "#AFTER TOKENIZATION\n",
    "# BoW, word2idx=  documents2bag_of_words(brown_documents)\n",
    "BoW, word2idx=  documents2bag_of_words(g1_documents, lang='portuguese', exclude_links=True)"
   ]
  },
  {
   "cell_type": "code",
   "execution_count": 4,
   "metadata": {},
   "outputs": [
    {
     "name": "stdout",
     "output_type": "stream",
     "text": [
      "#words 774032\n",
      "#vocabulary 46230\n",
      "#documents 3000\n"
     ]
    }
   ],
   "source": [
    "print('#words', BoW.sum())\n",
    "print('#vocabulary', BoW.shape[0])\n",
    "print('#documents', BoW.shape[1])\n",
    "#Export \n",
    "# bow2dump(BoW[:5,:])"
   ]
  },
  {
   "cell_type": "code",
   "execution_count": 11,
   "metadata": {},
   "outputs": [
    {
     "name": "stdout",
     "output_type": "stream",
     "text": [
      "774032\n",
      "(46230,)\n",
      "[162 394  96  10 404]\n",
      "['governo', 'tambem', 'segundo', 'sao', 'nao']\n",
      "[2253 2270 2504 2738 2928]\n"
     ]
    }
   ],
   "source": [
    "# N-most frequent words\n",
    "import numpy as np\n",
    "idx2word= {idx:word for word,idx in word2idx.items()}\n",
    "vocabulary_freq= BoW.sum(axis=1)\n",
    "print(vocabulary_freq.sum())\n",
    "print(vocabulary_freq.shape)\n",
    "\n",
    "N=5 \n",
    "ind = np.argpartition(vocabulary_freq, -N)[-N:]\n",
    "print(ind)\n",
    "print([idx2word[idx] for idx in ind])\n",
    "print(vocabulary_freq[ind])\n",
    "\n"
   ]
  },
  {
   "cell_type": "code",
   "execution_count": 5,
   "metadata": {
    "collapsed": true
   },
   "outputs": [],
   "source": [
    "#THIS WILL TAKE A WHILE\n",
    "bow2dump(BoW.transpose())"
   ]
  },
  {
   "cell_type": "code",
   "execution_count": 8,
   "metadata": {
    "collapsed": true
   },
   "outputs": [],
   "source": [
    "len_files = BoW.shape[1]"
   ]
  },
  {
   "cell_type": "code",
   "execution_count": 9,
   "metadata": {
    "collapsed": true
   },
   "outputs": [],
   "source": [
    "SparseBoW = []\n",
    "for i in range(BoW.shape[1]):\n",
    "#     sparse_vector = sparse.SparseVector(BoW[:,i].tolist())\n",
    "    sparse_vector = SparseVector(BoW[:,i].tolist())\n",
    "    SparseBoW.append(sparse_vector)"
   ]
  },
  {
   "cell_type": "code",
   "execution_count": null,
   "metadata": {
    "collapsed": true
   },
   "outputs": [],
   "source": [
    "distances_matrix = [[0 for x in range(0, len_files)] for y in range(0, len_files)]\n",
    "\n",
    "start_time = timeit.default_timer()\n",
    "\n",
    "for i in range(0,len_files):\n",
    "    for j in range(i+1,len_files):\n",
    "        d =  SparseBoW[i].squared_euclidian_distance(SparseBoW[j])\n",
    "        distances_matrix[i][j] = d \n",
    "        distances_matrix[j][i] = d \n",
    "        \n",
    "elapsed = timeit.default_timer() - start_time \n",
    "\n",
    "print(elapsed)"
   ]
  },
  {
   "cell_type": "code",
   "execution_count": 10,
   "metadata": {},
   "outputs": [
    {
     "name": "stdout",
     "output_type": "stream",
     "text": [
      "538747\n"
     ]
    }
   ],
   "source": [
    "print(BoW.sum())"
   ]
  },
  {
   "cell_type": "code",
   "execution_count": null,
   "metadata": {
    "collapsed": true
   },
   "outputs": [],
   "source": [
    "#item 6=====================================================================================================================#\n",
    "\n",
    "import math\n",
    "import timeit\n",
    "\n",
    "len_files = BoW.shape[1]\n",
    "len_dict = BoW.shape[0]\n",
    "\n",
    "def distance(i,j,BoW):\n",
    "    internal_summation = 0\n",
    "    \n",
    "    for word_index in range(0,len_dict):\n",
    "        coordinates_dif = BoW[word_index,i] - BoW[word_index,j]\n",
    "        internal_summation = internal_summation + coordinates_dif * coordinates_dif\n",
    "    \n",
    "    return internal_summation\n",
    "    \n",
    "\n",
    "distances_matrix = [[0 for x in range(0, len_files)] for y in range(0, len_files)]\n",
    "\n",
    "start_time = timeit.default_timer()\n",
    "\n",
    "for i in range(0,len_files):\n",
    "    for j in range(i+1,len_files):\n",
    "\n",
    "        d =  distance(i,j,BoW)\n",
    "        distances_matrix[i][j] = d \n",
    "        distances_matrix[j][i] = d \n",
    "        \n",
    "elapsed = timeit.default_timer() - start_time \n",
    "\n",
    "print elapsed"
   ]
  }
 ],
 "metadata": {
  "anaconda-cloud": {},
  "kernelspec": {
   "display_name": "Python 3",
   "language": "python",
   "name": "python3"
  },
  "language_info": {
   "codemirror_mode": {
    "name": "ipython",
    "version": 3
   },
   "file_extension": ".py",
   "mimetype": "text/x-python",
   "name": "python",
   "nbconvert_exporter": "python",
   "pygments_lexer": "ipython3",
   "version": "3.6.1"
  }
 },
 "nbformat": 4,
 "nbformat_minor": 2
}
