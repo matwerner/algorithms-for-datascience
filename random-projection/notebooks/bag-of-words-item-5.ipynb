{
 "cells": [
  {
   "cell_type": "code",
   "execution_count": 1,
   "metadata": {
    "collapsed": true
   },
   "outputs": [],
   "source": [
    "from brown import get_documents\n",
    "from util import documents2bag_of_words\n",
    "from sparse import SparseVector\n",
    "\n",
    "import timeit"
   ]
  },
  {
   "cell_type": "code",
   "execution_count": 2,
   "metadata": {},
   "outputs": [
    {
     "name": "stdout",
     "output_type": "stream",
     "text": [
      "document:499 of 499\tdocid:cr09\tV:49642\tWORD COUNT:687313\n"
     ]
    }
   ],
   "source": [
    "brown_documents= get_documents(verbose=True)\n",
    "BoW, word2idx=  documents2bag_of_words(brown_documents)"
   ]
  },
  {
   "cell_type": "code",
   "execution_count": null,
   "metadata": {
    "collapsed": true
   },
   "outputs": [],
   "source": [
    "len_files = BoW.shape[1]"
   ]
  },
  {
   "cell_type": "code",
   "execution_count": 3,
   "metadata": {
    "collapsed": true
   },
   "outputs": [],
   "source": [
    "SparseBoW = []\n",
    "for i in range(BoW.shape[1]):\n",
    "    sparse_vector = sparse.SparseVector(BoW[:,i].tolist())\n",
    "    SparseBoW.append(sparse_vector)"
   ]
  },
  {
   "cell_type": "code",
   "execution_count": 4,
   "metadata": {},
   "outputs": [
    {
     "name": "stdout",
     "output_type": "stream",
     "text": [
      "397.51537204600027\n"
     ]
    }
   ],
   "source": [
    "distances_matrix = [[0 for x in range(0, len_files)] for y in range(0, len_files)]\n",
    "\n",
    "start_time = timeit.default_timer()\n",
    "\n",
    "for i in range(0,len_files):\n",
    "    for j in range(i+1,len_files):\n",
    "        d =  SparseBoW[i].squared_euclidian_distance(SparseBoW[j])\n",
    "        distances_matrix[i][j] = d \n",
    "        distances_matrix[j][i] = d \n",
    "        \n",
    "elapsed = timeit.default_timer() - start_time \n",
    "\n",
    "print(elapsed)"
   ]
  },
  {
   "cell_type": "code",
   "execution_count": null,
   "metadata": {},
   "outputs": [],
   "source": [
    "print(BoW.sum())"
   ]
  },
  {
   "cell_type": "code",
   "execution_count": null,
   "metadata": {},
   "outputs": [],
   "source": [
    "#item 6=====================================================================================================================#\n",
    "\n",
    "import math\n",
    "import timeit\n",
    "\n",
    "len_files = BoW.shape[1]\n",
    "len_dict = BoW.shape[0]\n",
    "\n",
    "def distance(i,j,BoW):\n",
    "    internal_summation = 0\n",
    "    \n",
    "    for word_index in range(0,len_dict):\n",
    "        coordinates_dif = BoW[word_index,i] - BoW[word_index,j]\n",
    "        internal_summation = internal_summation + coordinates_dif * coordinates_dif\n",
    "    \n",
    "    return internal_summation\n",
    "    \n",
    "\n",
    "distances_matrix = [[0 for x in range(0, len_files)] for y in range(0, len_files)]\n",
    "\n",
    "start_time = timeit.default_timer()\n",
    "\n",
    "for i in range(0,len_files):\n",
    "    for j in range(i+1,len_files):\n",
    "\n",
    "        d =  distance(i,j,BoW)\n",
    "        distances_matrix[i][j] = d \n",
    "        distances_matrix[j][i] = d \n",
    "        \n",
    "elapsed = timeit.default_timer() - start_time \n",
    "\n",
    "print elapsed"
   ]
  }
 ],
 "metadata": {
  "anaconda-cloud": {},
  "kernelspec": {
   "display_name": "Python 3",
   "language": "python",
   "name": "python3"
  },
  "language_info": {
   "codemirror_mode": {
    "name": "ipython",
    "version": 3
   },
   "file_extension": ".py",
   "mimetype": "text/x-python",
   "name": "python",
   "nbconvert_exporter": "python",
   "pygments_lexer": "ipython3",
   "version": "3.6.1"
  }
 },
 "nbformat": 4,
 "nbformat_minor": 2
}
