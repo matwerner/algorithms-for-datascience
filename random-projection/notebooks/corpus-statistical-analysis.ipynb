{
 "cells": [
  {
   "cell_type": "markdown",
   "metadata": {},
   "source": [
    "# TO DO"
   ]
  },
  {
   "cell_type": "markdown",
   "metadata": {},
   "source": [
    "1. Add plots to all statistics below\n",
    "2. Modify documents2bag_of_words method to return idx2word instead of word2idx\n",
    "3. Show most important words (higher frenquency)"
   ]
  },
  {
   "cell_type": "markdown",
   "metadata": {},
   "source": [
    "# Import Libraries"
   ]
  },
  {
   "cell_type": "code",
   "execution_count": 24,
   "metadata": {},
   "outputs": [],
   "source": [
    "from brown import get_documents\n",
    "from util import documents2bag_of_words\n",
    "\n",
    "import matplotlib.pyplot as plt\n",
    "import pandas as pd\n",
    "\n",
    "%matplotlib inline"
   ]
  },
  {
   "cell_type": "markdown",
   "metadata": {},
   "source": [
    "# Load Corpus dataset"
   ]
  },
  {
   "cell_type": "code",
   "execution_count": 2,
   "metadata": {},
   "outputs": [
    {
     "name": "stdout",
     "output_type": "stream",
     "text": [
      "document:499 of 499\tdocid:cr09\r"
     ]
    }
   ],
   "source": [
    "brown_documents= get_documents(verbose=True)"
   ]
  },
  {
   "cell_type": "markdown",
   "metadata": {},
   "source": [
    "# Convert Corpus to BoW"
   ]
  },
  {
   "cell_type": "code",
   "execution_count": 39,
   "metadata": {},
   "outputs": [
    {
     "name": "stdout",
     "output_type": "stream",
     "text": [
      "document:499 of 499\tdocid:cr09\tV:49642\tWORD COUNT:687313\n"
     ]
    }
   ],
   "source": [
    "BoW, word2idx=  documents2bag_of_words(brown_documents)\n",
    "\n",
    "# Frequency of words by Document\n",
    "BoW = pd.DataFrame(BoW)\n",
    "\n",
    "# Presence of words by Document\n",
    "BoW_unique = BoW.copy()\n",
    "BoW_unique[BoW_unique > 0] = 1"
   ]
  },
  {
   "cell_type": "markdown",
   "metadata": {},
   "source": [
    "# Statistical Analysis"
   ]
  },
  {
   "cell_type": "markdown",
   "metadata": {},
   "source": [
    "## Declare variables"
   ]
  },
  {
   "cell_type": "code",
   "execution_count": 93,
   "metadata": {
    "collapsed": true
   },
   "outputs": [],
   "source": [
    "decile = [(x + 1.0)/10.0 for x in range(9)]\n",
    "upper_percentile = [0.9 + (x + 1.0)/100.0 for x in range(9)]\n",
    "lower_percentile = [0.0 + (x + 1.0)/100.0 for x in range(9)]\n",
    "upper_permille = [0.99 + (x + 1.0)/1000.0 for x in range(9)]\n",
    "lower_permille = [0.00 + (x + 1.0)/1000.0 for x in range(9)]"
   ]
  },
  {
   "cell_type": "markdown",
   "metadata": {},
   "source": [
    "## Corpus size"
   ]
  },
  {
   "cell_type": "code",
   "execution_count": 51,
   "metadata": {},
   "outputs": [
    {
     "name": "stdout",
     "output_type": "stream",
     "text": [
      "Total number of documents: 499\n",
      "Total number of tokens: 687313\n",
      "Vocabulary size: 49642\n"
     ]
    }
   ],
   "source": [
    "rows, columns = BoW.shape\n",
    "n_tokens = BoW.sum().sum()\n",
    "\n",
    "print ('Total number of documents: %d' % (columns,))\n",
    "print ('Total number of tokens: %d' % (n_tokens,))\n",
    "print ('Vocabulary size: %d' % (rows,))"
   ]
  },
  {
   "cell_type": "markdown",
   "metadata": {},
   "source": [
    "## Word frequency"
   ]
  },
  {
   "cell_type": "markdown",
   "metadata": {},
   "source": [
    "### Total"
   ]
  },
  {
   "cell_type": "code",
   "execution_count": 95,
   "metadata": {},
   "outputs": [
    {
     "data": {
      "text/plain": [
       "count    49642.000000\n",
       "mean        13.845393\n",
       "std        236.206215\n",
       "min          1.000000\n",
       "10%          1.000000\n",
       "20%          1.000000\n",
       "30%          1.000000\n",
       "40%          2.000000\n",
       "50%          2.000000\n",
       "60%          3.000000\n",
       "70%          5.000000\n",
       "80%          9.000000\n",
       "90%         22.000000\n",
       "91%         26.000000\n",
       "92%         30.000000\n",
       "93%         34.000000\n",
       "94%         41.000000\n",
       "95%         50.000000\n",
       "96%         62.000000\n",
       "97%         80.000000\n",
       "98%        109.000000\n",
       "99%        181.590000\n",
       "max      48556.000000\n",
       "dtype: float64"
      ]
     },
     "execution_count": 95,
     "metadata": {},
     "output_type": "execute_result"
    }
   ],
   "source": [
    "BoW.sum(axis=1).describe(percentiles=decile+upper_percentile)"
   ]
  },
  {
   "cell_type": "markdown",
   "metadata": {},
   "source": [
    "### Unique"
   ]
  },
  {
   "cell_type": "code",
   "execution_count": 96,
   "metadata": {},
   "outputs": [
    {
     "data": {
      "text/plain": [
       "count    49642.000000\n",
       "mean         6.782704\n",
       "std         21.455120\n",
       "min          1.000000\n",
       "10%          1.000000\n",
       "20%          1.000000\n",
       "30%          1.000000\n",
       "40%          1.000000\n",
       "50%          1.000000\n",
       "60%          2.000000\n",
       "70%          3.000000\n",
       "80%          5.000000\n",
       "90%         13.000000\n",
       "91%         15.000000\n",
       "92%         17.000000\n",
       "93%         20.000000\n",
       "94%         23.000000\n",
       "95%         28.000000\n",
       "96%         35.000000\n",
       "97%         44.000000\n",
       "98%         61.000000\n",
       "99%         97.000000\n",
       "max        499.000000\n",
       "dtype: float64"
      ]
     },
     "execution_count": 96,
     "metadata": {},
     "output_type": "execute_result"
    }
   ],
   "source": [
    "BoW_unique.sum(axis=1).describe(percentiles=decile+upper_percentile)"
   ]
  },
  {
   "cell_type": "markdown",
   "metadata": {},
   "source": [
    "### Vocabulary % VS Corpus (in Tokens) %"
   ]
  },
  {
   "cell_type": "code",
   "execution_count": 97,
   "metadata": {},
   "outputs": [
    {
     "data": {
      "text/plain": [
       "count    49642.000000\n",
       "mean         0.908846\n",
       "std          0.124081\n",
       "min          0.070646\n",
       "0.1%         0.191405\n",
       "0.2%         0.229542\n",
       "0.3%         0.258462\n",
       "0.4%         0.282464\n",
       "0.5%         0.303462\n",
       "0.6%         0.322092\n",
       "0.7%         0.339345\n",
       "0.8%         0.355176\n",
       "0.9%         0.369882\n",
       "1%           0.383502\n",
       "2%           0.484003\n",
       "3%           0.551230\n",
       "4%           0.601533\n",
       "5%           0.641560\n",
       "6%           0.674185\n",
       "7.0%         0.701328\n",
       "8%           0.724336\n",
       "9%           0.744160\n",
       "50%          0.956542\n",
       "max          1.000000\n",
       "dtype: float64"
      ]
     },
     "execution_count": 97,
     "metadata": {},
     "output_type": "execute_result"
    }
   ],
   "source": [
    "cumulative_word_count = BoW.sum(axis=1).sort_values(ascending=False).cumsum()\n",
    "(cumulative_word_count/n_tokens).describe(percentiles=lower_permille + lower_percentile)"
   ]
  },
  {
   "cell_type": "markdown",
   "metadata": {},
   "source": [
    "## Word count by Document"
   ]
  },
  {
   "cell_type": "markdown",
   "metadata": {},
   "source": [
    "### Total"
   ]
  },
  {
   "cell_type": "code",
   "execution_count": 33,
   "metadata": {},
   "outputs": [
    {
     "data": {
      "text/plain": [
       "count     499.000000\n",
       "mean     1377.380762\n",
       "std       107.243648\n",
       "min      1076.000000\n",
       "10%      1247.600000\n",
       "20%      1292.000000\n",
       "30%      1316.400000\n",
       "40%      1343.000000\n",
       "50%      1370.000000\n",
       "60%      1401.000000\n",
       "70%      1427.000000\n",
       "80%      1465.400000\n",
       "90%      1523.000000\n",
       "max      1759.000000\n",
       "dtype: float64"
      ]
     },
     "execution_count": 33,
     "metadata": {},
     "output_type": "execute_result"
    }
   ],
   "source": [
    "BoW.sum(axis=0).describe(percentiles=decile)"
   ]
  },
  {
   "cell_type": "markdown",
   "metadata": {},
   "source": [
    "### Unique"
   ]
  },
  {
   "cell_type": "code",
   "execution_count": 40,
   "metadata": {},
   "outputs": [
    {
     "data": {
      "text/plain": [
       "count     499.000000\n",
       "mean      674.763527\n",
       "std       103.750222\n",
       "min       238.000000\n",
       "10%       558.000000\n",
       "20%       597.600000\n",
       "30%       625.000000\n",
       "40%       656.000000\n",
       "50%       682.000000\n",
       "60%       705.000000\n",
       "70%       726.000000\n",
       "80%       754.400000\n",
       "90%       804.200000\n",
       "max      1042.000000\n",
       "dtype: float64"
      ]
     },
     "execution_count": 40,
     "metadata": {},
     "output_type": "execute_result"
    }
   ],
   "source": [
    "BoW_unique.sum(axis=0).describe(percentiles=decile)"
   ]
  },
  {
   "cell_type": "markdown",
   "metadata": {},
   "source": [
    "# Working Area..."
   ]
  }
 ],
 "metadata": {
  "kernelspec": {
   "display_name": "Python 3",
   "language": "python",
   "name": "python3"
  },
  "language_info": {
   "codemirror_mode": {
    "name": "ipython",
    "version": 3
   },
   "file_extension": ".py",
   "mimetype": "text/x-python",
   "name": "python",
   "nbconvert_exporter": "python",
   "pygments_lexer": "ipython3",
   "version": "3.6.1"
  }
 },
 "nbformat": 4,
 "nbformat_minor": 2
}
