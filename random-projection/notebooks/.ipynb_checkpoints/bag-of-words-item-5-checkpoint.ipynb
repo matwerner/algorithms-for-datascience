{
 "cells": [
  {
   "cell_type": "code",
   "execution_count": 1,
   "metadata": {
    "collapsed": false
   },
   "outputs": [],
   "source": [
    "# from brown import get_documents\n",
    "from g1 import get_documents\n",
    "from util import documents2bag_of_words, bow2dump\n",
    "from sparse import SparseVector\n",
    "\n",
    "\n",
    "import timeit"
   ]
  },
  {
   "cell_type": "code",
   "execution_count": null,
   "metadata": {
    "collapsed": false
   },
   "outputs": [
    {
     "name": "stdout",
     "output_type": "stream",
     "text": [
      "article:3247 of 4000\tV:81812\tWORD COUNT:1415656\tdocid:candidatos-seguem-em-campanha-nesta-5-feira-em-itapetininga-spetiningaeiraocito.ghtmltmltml.ghtmla-liberar-corpos.ghtml\r"
     ]
    }
   ],
   "source": [
    "#RAW VOCABULARY\n",
    "# brown_documents= get_documents(verbose=True)\n",
    "g1_documents= get_documents(verbose=True)"
   ]
  },
  {
   "cell_type": "code",
   "execution_count": 4,
   "metadata": {
    "collapsed": false
   },
   "outputs": [
    {
     "name": "stdout",
     "output_type": "stream",
     "text": [
      "document:4000 of 4000\tV:54628\tWORD COUNT:1054489\tdocid:ministra-idelli-salvatti-diz-que-joao-ribeiro-era-parceiro-de-primeira-horanto.ghtmlmlpetrobrasara-liberar-corpos.ghtml\n"
     ]
    }
   ],
   "source": [
    "#AFTER TOKENIZATION\n",
    "# BoW, word2idx=  documents2bag_of_words(brown_documents)\n",
    "BoW, word2idx=  documents2bag_of_words(g1_documents, lang='portuguese', exclude_links=True)"
   ]
  },
  {
   "cell_type": "code",
   "execution_count": 5,
   "metadata": {
    "collapsed": false
   },
   "outputs": [
    {
     "name": "stdout",
     "output_type": "stream",
     "text": [
      "#vocabulary 54628\n",
      "#documents 4000\n"
     ]
    }
   ],
   "source": [
    "print '#vocabulary', BoW.shape[0]\n",
    "print '#documents', BoW.shape[1]\n",
    "#Export \n",
    "bow2dump(BoW[:5,:])"
   ]
  },
  {
   "cell_type": "code",
   "execution_count": null,
   "metadata": {
    "collapsed": true
   },
   "outputs": [],
   "source": [
    "#THIS WILL TAKE A WHILE\n",
    "bow2dump(BoW)"
   ]
  },
  {
   "cell_type": "code",
   "execution_count": 9,
   "metadata": {
    "collapsed": true
   },
   "outputs": [],
   "source": [
    "len_files = BoW.shape[1]"
   ]
  },
  {
   "cell_type": "code",
   "execution_count": 10,
   "metadata": {
    "collapsed": false
   },
   "outputs": [],
   "source": [
    "SparseBoW = []\n",
    "for i in range(BoW.shape[1]):\n",
    "#     sparse_vector = sparse.SparseVector(BoW[:,i].tolist())\n",
    "    sparse_vector = SparseVector(BoW[:,i].tolist())\n",
    "    SparseBoW.append(sparse_vector)"
   ]
  },
  {
   "cell_type": "code",
   "execution_count": 9,
   "metadata": {
    "collapsed": false
   },
   "outputs": [
    {
     "name": "stdout",
     "output_type": "stream",
     "text": [
      "296.44066596\n"
     ]
    }
   ],
   "source": [
    "distances_matrix = [[0 for x in range(0, len_files)] for y in range(0, len_files)]\n",
    "\n",
    "start_time = timeit.default_timer()\n",
    "\n",
    "for i in range(0,len_files):\n",
    "    for j in range(i+1,len_files):\n",
    "        d =  SparseBoW[i].squared_euclidian_distance(SparseBoW[j])\n",
    "        distances_matrix[i][j] = d \n",
    "        distances_matrix[j][i] = d \n",
    "        \n",
    "elapsed = timeit.default_timer() - start_time \n",
    "\n",
    "print(elapsed)"
   ]
  },
  {
   "cell_type": "code",
   "execution_count": 10,
   "metadata": {
    "collapsed": false
   },
   "outputs": [
    {
     "name": "stdout",
     "output_type": "stream",
     "text": [
      "538747\n"
     ]
    }
   ],
   "source": [
    "print(BoW.sum())"
   ]
  },
  {
   "cell_type": "code",
   "execution_count": null,
   "metadata": {
    "collapsed": true
   },
   "outputs": [],
   "source": [
    "#item 6=====================================================================================================================#\n",
    "\n",
    "import math\n",
    "import timeit\n",
    "\n",
    "len_files = BoW.shape[1]\n",
    "len_dict = BoW.shape[0]\n",
    "\n",
    "def distance(i,j,BoW):\n",
    "    internal_summation = 0\n",
    "    \n",
    "    for word_index in range(0,len_dict):\n",
    "        coordinates_dif = BoW[word_index,i] - BoW[word_index,j]\n",
    "        internal_summation = internal_summation + coordinates_dif * coordinates_dif\n",
    "    \n",
    "    return internal_summation\n",
    "    \n",
    "\n",
    "distances_matrix = [[0 for x in range(0, len_files)] for y in range(0, len_files)]\n",
    "\n",
    "start_time = timeit.default_timer()\n",
    "\n",
    "for i in range(0,len_files):\n",
    "    for j in range(i+1,len_files):\n",
    "\n",
    "        d =  distance(i,j,BoW)\n",
    "        distances_matrix[i][j] = d \n",
    "        distances_matrix[j][i] = d \n",
    "        \n",
    "elapsed = timeit.default_timer() - start_time \n",
    "\n",
    "print elapsed"
   ]
  }
 ],
 "metadata": {
  "anaconda-cloud": {},
  "kernelspec": {
   "display_name": "Python 2",
   "language": "python",
   "name": "python2"
  },
  "language_info": {
   "codemirror_mode": {
    "name": "ipython",
    "version": 2
   },
   "file_extension": ".py",
   "mimetype": "text/x-python",
   "name": "python",
   "nbconvert_exporter": "python",
   "pygments_lexer": "ipython2",
   "version": "2.7.13"
  }
 },
 "nbformat": 4,
 "nbformat_minor": 2
}
