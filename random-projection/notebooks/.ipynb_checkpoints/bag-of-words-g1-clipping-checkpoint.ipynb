{
 "cells": [
  {
   "cell_type": "code",
   "execution_count": 1,
   "metadata": {},
   "outputs": [],
   "source": [
    "# from brown import get_documents\n",
    "import numpy as np\n",
    "from g1 import get_documents\n",
    "from util import documents2bag_of_words, bow2dump\n",
    "\n",
    "\n",
    "import timeit"
   ]
  },
  {
   "cell_type": "code",
   "execution_count": 2,
   "metadata": {},
   "outputs": [
    {
     "name": "stdout",
     "output_type": "stream",
     "text": [
      "article:4000 of 4000\tV:94718\tWORD COUNT:1797463\tdocid:apos-100-dias-veja-como-andam-propostas-do-prefeito-de-campinasndo-turnotoralirceuituto-lulade-sao-pauloar-corpos\n"
     ]
    }
   ],
   "source": [
    "#RAW VOCABULARY\n",
    "# brown_documents= get_documents(verbose=True)\n",
    "g1_documents= get_documents(verbose=True)"
   ]
  },
  {
   "cell_type": "code",
   "execution_count": 3,
   "metadata": {},
   "outputs": [
    {
     "name": "stdout",
     "output_type": "stream",
     "text": [
      "document:4000 of 4000\tV:54597\tWORD COUNT:1054369\tdocid:apos-100-dias-veja-como-andam-propostas-do-prefeito-de-campinasndo-turnotoralirceuituto-lulae-sao-paulorar-corpos\n"
     ]
    }
   ],
   "source": [
    "#AFTER TOKENIZATION\n",
    "# BoW, word2idx=  documents2bag_of_words(brown_documents)\n",
    "BoW, word2idx=  documents2bag_of_words(g1_documents, lang='portuguese', exclude_links=True)"
   ]
  },
  {
   "cell_type": "code",
   "execution_count": 7,
   "metadata": {},
   "outputs": [
    {
     "name": "stdout",
     "output_type": "stream",
     "text": [
      "em-sp-alckmin-tem-43-skaf-19-e-kassab-8-diz-datafolha\n"
     ]
    }
   ],
   "source": [
    "keys= np.random.choice(list(g1_documents.keys()),1)\n",
    "print(keys[0])\n"
   ]
  },
  {
   "cell_type": "code",
   "execution_count": 9,
   "metadata": {},
   "outputs": [
    {
     "name": "stdout",
     "output_type": "stream",
     "text": [
      "{'em-sp-alckmin-tem-43-skaf-19-e-kassab-8-diz-datafolha': [['Pesquisa', 'Datafolha', 'divulgada', 'nesta', 'segunda-feira', '(2)', 'pelo', 'jornal', '\"Folha', 'de', 'S'], ['', 'Paulo\"', 'indica', 'que', 'o', 'governador', 'de', 'São', 'Paulo,', 'Geraldo', 'Alckmin', '(PSDB),', 'tem', '43%', 'das', 'intenções', 'de', 'voto', 'para', 'as', 'eleições', 'estaduais', 'de', '2014', 'e', 'venceria', 'no', 'primeiro', 'turno', 'se', 'disputasse', 'com', 'Paulo', 'Skaf', '(PMDB),', 'Gilberto', 'Kassab', '(PSD)', 'e', 'Alexandre', 'Padilha', '(PT)'], ['', 'O', 'presidente', 'da', 'Fiesp', '(Federação', 'das', 'Indústrias', 'do', 'Estado', 'de', 'São', 'Paulo),', 'Paulo', 'Skaf,', 'tem', '19%', 'das', 'intenções', 'de', 'voto,', 'seguido', 'pelo', 'ex-prefeito', 'de', 'São', 'Paulo', 'Gilberto', 'Kassab,', 'com', '8%,', 'e', 'pelo', 'ministro', 'da', 'Saúde,', 'Alexandre', 'Padilha,', 'com', '4%'], ['', 'Votos', 'em', 'branco', 'ou', 'nulos', 'foram', 'a', 'opção', 'de', '17%'], ['', 'Outros', '9%', 'responderam', 'que', 'não', 'sabem', 'em', 'quem', 'votar'], ['', 'A', 'pesquisa', 'entrevistou', '1'], ['723', 'eleitores', 'em', '46', 'municípios', 'do', 'estado,', 'na', 'quinta', '(28)', 'e', 'na', 'sexta-feira', '(29),', 'e', 'tem', 'margem', 'de', 'erro', 'de', 'dois', 'pontos', 'percentuais', 'para', 'mais', 'ou', 'para', 'menos'], ['', 'Alckmin', 'cresceu', 'três', 'pontos', 'nas', 'intenções', 'de', 'voto', 'em', 'comparação', 'ao', 'Datafolha', 'realizado', 'nos', 'dias', '27', 'e', '28', 'de', 'junho,', 'que', 'testou', 'o', 'mesmo', 'cenário,', 'com', 'os', 'mesmos', 'candidatos'], ['', 'Capital', 'x', 'interiorAlckmin', 'lidera', 'a', 'pesquisa', 'de', 'intenção', 'de', 'voto', 'com', 'tranquilidade', 'no', 'interior', 'paulista,', 'com', '51%,', 'contra', '36%', 'na', 'capital'], ['', 'Entre', 'seus', 'adversários,', 'Skaf', 'tem', '17%', 'das', 'intenções', 'de', 'voto', 'no', 'interior', 'e', '22%', 'na', 'capital;', 'Kassab', 'tem', '9%', 'e', '7%,', 'respectivamente,', 'e', 'Padilha', '3%', 'e', '5%'], ['', 'AvaliaçãoA', 'aprovação', 'da', 'administração', 'de', 'Alckmin', 'subiu', 'três', 'pontos', 'percentuais,', 'atingindo', '41%', 'dos', 'entrevistados'], ['', 'Em', 'levantamento', 'anterior,', 'realizado', 'nos', 'dias', '27', 'e', '28', 'de', 'junho,', 'o', 'governador', 'tinha', 'avaliação', 'positiva', 'de', '38%'], ['', 'A', 'pesquisa', 'divulgada', 'nesta', 'segunda', '(2)', 'mostra', 'ainda', 'que', '39%', 'avaliaram', 'o', 'governo', 'estadual', 'como', 'regular', '(contra', '40%', 'em', 'junho),', 'enquanto', '17%', 'consideraram', 'a', 'administração', 'ruim', 'ou', 'péssima', '(contra', '20%)'], ['', 'A', 'nota', 'média', 'dos', 'paulistas', 'para', 'Alckmin', 'foi', 'de', '6,4', 'em', 'março', 'de', '2011,', 'passou', 'para', '6,3', 'no', 'começo', 'de', 'junho,', 'baixou', 'para', '5,7', 'três', 'semanas', 'depois', 'e', 'agora', 'está', 'em', '5,9'], ['', 'A', 'aprovação', 'de', 'Alckmin', 'também', 'é', 'maior', 'no', 'interior', 'do', 'estado,', 'onde', '48%', 'consideram', 'sua', 'gestão', 'ótima', 'ou', 'boa,', 'contra', '36%', 'que', 'a', 'aponta', 'como', 'regular', 'e', '13%,', 'ruim', 'ou', 'péssima'], ['', 'Na', 'capital', 'e', 'região', 'metropolitana,', 'o', 'índice', 'de', 'eleitores', 'que', 'consideram', 'a', 'atual', 'administração', 'regular', '(41%)', 'supera', 'o', 'dos', 'que', 'a', 'aprovam', '(34%)'], ['', 'Outros', '22%', 'acham', 'o', 'governo', 'ruim', 'ou', 'péssimo'], ['', '\\xa0', '\\xa0']]}\n"
     ]
    }
   ],
   "source": [
    "g1_document = {k: g1_documents[k] for k in g1_documents if k in keys}\n",
    "print(g1_document)"
   ]
  },
  {
   "cell_type": "code",
   "execution_count": 10,
   "metadata": {},
   "outputs": [
    {
     "name": "stdout",
     "output_type": "stream",
     "text": [
      "document:1 of 1\tV:161\tWORD COUNT:237\tdocid:em-sp-alckmin-tem-43-skaf-19-e-kassab-8-diz-datafolha\n"
     ]
    }
   ],
   "source": [
    "bow, w2i=  documents2bag_of_words(g1_document, lang='portuguese', exclude_links=True)\n",
    "i2w = {i:w for w,i in w2i.items()}"
   ]
  },
  {
   "cell_type": "code",
   "execution_count": 15,
   "metadata": {
    "scrolled": true
   },
   "outputs": [
    {
     "name": "stdout",
     "output_type": "stream",
     "text": [
      "pesquisa datafolha divulgada nesta segundafeira 2 jornal folha s paulo indica governador sao geraldo alckmin psdb 43 intencoes voto eleicoes estaduais 2014 venceria primeiro turno disputasse skaf pmdb gilberto kassab psd alexandre padilha pt presidente fiesp federacao industrias estado 19 seguido exprefeito 8 ministro saude 4 votos branco nulos opcao 17 outros 9 responderam nao sabem votar entrevistou 1 723 eleitores 46 municipios quinta 28 sextafeira 29 margem erro dois pontos percentuais menos cresceu tres comparacao realizado dias 27 junho testou cenario mesmos candidatos capital x interioralckmin lidera intencao tranquilidade interior paulista 51 contra 36 adversarios 22 7 respectivamente 3 5 avaliacaoa aprovacao administracao subiu atingindo 41 entrevistados levantamento anterior avaliacao positiva 38 segunda mostra ainda 39 avaliaram governo estadual regular 40 enquanto consideraram ruim pessima 20 nota media paulistas 64 marco 2011 passou 63 comeco baixou 57 semanas agora 59 tambem maior onde 48 consideram gestao otima boa aponta 13 regiao metropolitana indice atual supera aprovam 34 acham pessimo\n"
     ]
    }
   ],
   "source": [
    "words=''\n",
    "for i in range(len(bow)):\n",
    "    words += ' ' + i2w[i]\n",
    "print(words.strip())"
   ]
  },
  {
   "cell_type": "code",
   "execution_count": 16,
   "metadata": {},
   "outputs": [
    {
     "ename": "SyntaxError",
     "evalue": "Missing parentheses in call to 'print' (<ipython-input-16-8cdf907260c6>, line 1)",
     "output_type": "error",
     "traceback": [
      "\u001b[0;36m  File \u001b[0;32m\"<ipython-input-16-8cdf907260c6>\"\u001b[0;36m, line \u001b[0;32m1\u001b[0m\n\u001b[0;31m    print w2i\u001b[0m\n\u001b[0m            ^\u001b[0m\n\u001b[0;31mSyntaxError\u001b[0m\u001b[0;31m:\u001b[0m Missing parentheses in call to 'print'\n"
     ]
    }
   ],
   "source": [
    "print(w2i)"
   ]
  },
  {
   "cell_type": "code",
   "execution_count": null,
   "metadata": {
    "collapsed": true
   },
   "outputs": [],
   "source": []
  }
 ],
 "metadata": {
  "anaconda-cloud": {},
  "kernelspec": {
   "display_name": "Python 3",
   "language": "python",
   "name": "python3"
  },
  "language_info": {
   "codemirror_mode": {
    "name": "ipython",
    "version": 3
   },
   "file_extension": ".py",
   "mimetype": "text/x-python",
   "name": "python",
   "nbconvert_exporter": "python",
   "pygments_lexer": "ipython3",
   "version": "3.6.1"
  }
 },
 "nbformat": 4,
 "nbformat_minor": 2
}
