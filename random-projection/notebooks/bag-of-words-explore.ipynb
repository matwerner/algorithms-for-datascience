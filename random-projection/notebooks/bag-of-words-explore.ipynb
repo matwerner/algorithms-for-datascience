{
 "cells": [
  {
   "cell_type": "code",
   "execution_count": 1,
   "metadata": {
    "collapsed": true
   },
   "outputs": [],
   "source": [
    "# from brown import get_documents\n",
    "import numpy as np\n",
    "from g1 import get_documents\n",
    "from util import documents2bag_of_words, bow2dump\n",
    "\n",
    "\n",
    "import timeit"
   ]
  },
  {
   "cell_type": "code",
   "execution_count": 2,
   "metadata": {},
   "outputs": [
    {
     "name": "stdout",
     "output_type": "stream",
     "text": [
      "article:4000 of 4000\tV:94718\tWORD COUNT:1797463\tdocid:apos-100-dias-veja-como-andam-propostas-do-prefeito-de-campinasndo-turnotoralirceuituto-lulade-sao-pauloar-corpos\n"
     ]
    }
   ],
   "source": [
    "#RAW VOCABULARY\n",
    "# brown_documents= get_documents(verbose=True)\n",
    "g1_documents= get_documents(verbose=True)"
   ]
  },
  {
   "cell_type": "code",
   "execution_count": 3,
   "metadata": {},
   "outputs": [
    {
     "name": "stdout",
     "output_type": "stream",
     "text": [
      "document:4000 of 4000\tV:54597\tWORD COUNT:1054369\tdocid:apos-100-dias-veja-como-andam-propostas-do-prefeito-de-campinasndo-turnotoralirceuituto-lulae-sao-paulorar-corpos\n"
     ]
    }
   ],
   "source": [
    "#AFTER TOKENIZATION\n",
    "# BoW, word2idx=  documents2bag_of_words(brown_documents)\n",
    "BoW, word2idx=  documents2bag_of_words(g1_documents, lang='portuguese', exclude_links=True)"
   ]
  },
  {
   "cell_type": "code",
   "execution_count": 6,
   "metadata": {},
   "outputs": [
    {
     "name": "stdout",
     "output_type": "stream",
     "text": [
      "acre-decreta-expediente-corrido-nas-vesperas-de-natal-e-reveillon\n"
     ]
    }
   ],
   "source": [
    "keys= np.random.choice(list(g1_documents.keys()),1)\n",
    "print(keys[0])\n"
   ]
  },
  {
   "cell_type": "code",
   "execution_count": 7,
   "metadata": {},
   "outputs": [
    {
     "name": "stdout",
     "output_type": "stream",
     "text": [
      "{'acre-decreta-expediente-corrido-nas-vesperas-de-natal-e-reveillon': [['O', 'governo', 'do', 'Acre', 'decretou', 'horário', 'de', 'expediente', 'corrido', '-', 'das', '8h', 'às', '13h', '-', 'nas', 'repartições', 'públicas', 'estaduais', 'nesta', 'sexta-feira', '(23)', 'e', 'no', 'dia', '30', 'de', 'dezembro,', 'vésperas', 'de', 'Natal', 'e', 'Réveillon,', 'respectivamente'], ['', 'A', 'determinação,', 'assinada', 'pelo', 'governador', 'Tião', 'Viana,', 'foi', 'publicada', 'na', 'edição', 'da', 'quinta', '(22)', 'do', 'Diário', 'Oficial', 'do', 'Estado', '(DOE)'], ['', 'O', 'texto', 'ressalta', 'que,', 'apesar', 'da', 'medida,', '\"ficam', 'os', 'secretários', 'de', 'estado', 'e', 'as', 'demais', 'autoridades', 'da', 'administração', 'pública', 'estadual', 'autorizados', 'a', 'convocar', 'servidores', 'para', 'expediente', 'normal,', 'conforme', 'necessidade', 'de', 'serviço\"'], ['', 'O', 'serviços', 'essenciais,', 'segundo', 'o', 'decreto,', 'não', 'devem', 'sofrer', 'alteração', 'de', 'expediente'], ['', 'A', 'modificação', 'não', 'se', 'aplica', 'aos', 'atendimentos', 'nas', 'unidades', 'de', 'saúde', 'e', 'Hospital', 'das', 'Clínicas,', 'incluindo', 'os', 'serviços', 'de', 'Atendimento', 'Médico', 'Especializado,', 'Serviço', 'de', 'Apoio', 'Diagnóstico,', 'Setores', 'de', 'Internação,', 'Centro', 'Cirúrgico,', 'Unidade', 'de', 'Tratamento', 'Intensivo', '(UTI),', 'Central', 'de', 'Agendamento', 'de', 'Cirurgias', 'e', 'Hospital', 'Dia'], ['']]}\n"
     ]
    }
   ],
   "source": [
    "g1_document = {k: g1_documents[k] for k in g1_documents if k in keys}\n",
    "print(g1_document)"
   ]
  },
  {
   "cell_type": "code",
   "execution_count": 8,
   "metadata": {},
   "outputs": [
    {
     "name": "stdout",
     "output_type": "stream",
     "text": [
      "document:1 of 1\tV:84\tWORD COUNT:92\tdocid:acre-decreta-expediente-corrido-nas-vesperas-de-natal-e-reveillon\n"
     ]
    }
   ],
   "source": [
    "bow, w2i=  documents2bag_of_words(g1_document, lang='portuguese', exclude_links=True)\n",
    "i2w = {i:w for w,i in w2i.items()}"
   ]
  },
  {
   "cell_type": "code",
   "execution_count": 9,
   "metadata": {
    "scrolled": true
   },
   "outputs": [
    {
     "name": "stdout",
     "output_type": "stream",
     "text": [
      "governo acre decretou horario expediente corrido 8h 13h reparticoes publicas estaduais nesta sextafeira 23 dia 30 dezembro vesperas natal reveillon respectivamente determinacao assinada governador tiao viana publicada edicao quinta 22 diario oficial estado doe texto ressalta apesar medida ficam secretarios demais autoridades administracao publica estadual autorizados convocar servidores normal conforme necessidade servico servicos essenciais segundo decreto nao devem sofrer alteracao modificacao aplica atendimentos unidades saude hospital clinicas incluindo atendimento medico especializado apoio diagnostico setores internacao centro cirurgico unidade tratamento intensivo uti central agendamento cirurgias\n"
     ]
    }
   ],
   "source": [
    "words=''\n",
    "for i in range(len(bow)):\n",
    "    words += ' ' + i2w[i]\n",
    "print(words.strip())"
   ]
  },
  {
   "cell_type": "code",
   "execution_count": 10,
   "metadata": {},
   "outputs": [
    {
     "name": "stdout",
     "output_type": "stream",
     "text": [
      "{'governo': 0, 'acre': 1, 'decretou': 2, 'horario': 3, 'expediente': 4, 'corrido': 5, '8h': 6, '13h': 7, 'reparticoes': 8, 'publicas': 9, 'estaduais': 10, 'nesta': 11, 'sextafeira': 12, '23': 13, 'dia': 14, '30': 15, 'dezembro': 16, 'vesperas': 17, 'natal': 18, 'reveillon': 19, 'respectivamente': 20, 'determinacao': 21, 'assinada': 22, 'governador': 23, 'tiao': 24, 'viana': 25, 'publicada': 26, 'edicao': 27, 'quinta': 28, '22': 29, 'diario': 30, 'oficial': 31, 'estado': 32, 'doe': 33, 'texto': 34, 'ressalta': 35, 'apesar': 36, 'medida': 37, 'ficam': 38, 'secretarios': 39, 'demais': 40, 'autoridades': 41, 'administracao': 42, 'publica': 43, 'estadual': 44, 'autorizados': 45, 'convocar': 46, 'servidores': 47, 'normal': 48, 'conforme': 49, 'necessidade': 50, 'servico': 51, 'servicos': 52, 'essenciais': 53, 'segundo': 54, 'decreto': 55, 'nao': 56, 'devem': 57, 'sofrer': 58, 'alteracao': 59, 'modificacao': 60, 'aplica': 61, 'atendimentos': 62, 'unidades': 63, 'saude': 64, 'hospital': 65, 'clinicas': 66, 'incluindo': 67, 'atendimento': 68, 'medico': 69, 'especializado': 70, 'apoio': 71, 'diagnostico': 72, 'setores': 73, 'internacao': 74, 'centro': 75, 'cirurgico': 76, 'unidade': 77, 'tratamento': 78, 'intensivo': 79, 'uti': 80, 'central': 81, 'agendamento': 82, 'cirurgias': 83}\n"
     ]
    }
   ],
   "source": [
    "print(w2i)"
   ]
  },
  {
   "cell_type": "code",
   "execution_count": null,
   "metadata": {
    "collapsed": true
   },
   "outputs": [],
   "source": []
  }
 ],
 "metadata": {
  "anaconda-cloud": {},
  "kernelspec": {
   "display_name": "Python 3",
   "language": "python",
   "name": "python3"
  },
  "language_info": {
   "codemirror_mode": {
    "name": "ipython",
    "version": 3
   },
   "file_extension": ".py",
   "mimetype": "text/x-python",
   "name": "python",
   "nbconvert_exporter": "python",
   "pygments_lexer": "ipython3",
   "version": "3.6.1"
  }
 },
 "nbformat": 4,
 "nbformat_minor": 2
}
