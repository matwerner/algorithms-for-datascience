{
 "cells": [
  {
   "cell_type": "code",
   "execution_count": 1,
   "metadata": {
    "collapsed": true
   },
   "outputs": [],
   "source": [
    "# from brown import get_documents\n",
    "import numpy as np\n",
    "from g1 import get_documents\n",
    "from util import documents2bag_of_words, bow2dump\n",
    "\n",
    "\n",
    "import timeit"
   ]
  },
  {
   "cell_type": "code",
   "execution_count": 2,
   "metadata": {},
   "outputs": [
    {
     "name": "stdout",
     "output_type": "stream",
     "text": [
      "article:3000 of 3000\tV:78198\tWORD COUNT:1311613\tdocid:governo-diz-que-nao-tem-dinheiro-para-obras-no-aeroporto-de-vitoriassaoaoracitonca-18toitoira-para-liberar-corpos\n"
     ]
    }
   ],
   "source": [
    "#RAW VOCABULARY\n",
    "# brown_documents= get_documents(verbose=True)\n",
    "g1_documents= get_documents(verbose=True)"
   ]
  },
  {
   "cell_type": "code",
   "execution_count": 3,
   "metadata": {},
   "outputs": [
    {
     "name": "stdout",
     "output_type": "stream",
     "text": [
      "document:3000 of 3000\tV:46230\tWORD COUNT:774032\tdocid:governo-diz-que-nao-tem-dinheiro-para-obras-no-aeroporto-de-vitoriassaoaoracitoncaa-18toitoira-para-liberar-corpos\n"
     ]
    }
   ],
   "source": [
    "#AFTER TOKENIZATION\n",
    "# BoW, word2idx=  documents2bag_of_words(brown_documents)\n",
    "BoW, word2idx=  documents2bag_of_words(g1_documents, lang='portuguese', exclude_links=True)"
   ]
  },
  {
   "cell_type": "code",
   "execution_count": 15,
   "metadata": {},
   "outputs": [
    {
     "name": "stdout",
     "output_type": "stream",
     "text": [
      "confira-agenda-dos-candidatos-prefeito-de-uberaba-nesta-quinta\n"
     ]
    }
   ],
   "source": [
    "keys= np.random.choice(list(g1_documents.keys()),1)\n",
    "print(keys[0])"
   ]
  },
  {
   "cell_type": "code",
   "execution_count": 16,
   "metadata": {},
   "outputs": [
    {
     "name": "stdout",
     "output_type": "stream",
     "text": [
      "{'confira-agenda-dos-candidatos-prefeito-de-uberaba-nesta-quinta': [['Confira', 'a', 'agenda', 'dos', 'candidatos', 'a', 'prefeito', 'de', 'Uberaba'], ['', 'As', 'informações', 'foram', 'enviadas', 'pelas', 'assessorias', 'dos', 'políticos', 'e', 'referem-se', 'a', 'programação', 'desta', 'quinta-feira', '(1º)'], ['', 'Luiz', 'Renato', 'de', 'Oliveira', 'Gomes', '–', 'Froidinho', '(PRP)-', 'Agenda', 'não', 'informada', 'Paulo', 'Piau', 'Nogueira', '(PMDB)-', 'Agenda', 'não', 'informada', 'Públio', 'Emílio', 'Rocha', '(PV)-', 'Agenda', 'não', 'informada', 'Simea', 'Aparecida', 'de', 'Freitas', '(PSTU)-', 'Agenda', 'não', 'informada', 'Wagner', 'do', 'Nascimento', 'Júnior', '(PTC)-', '14h:', 'reunião', 'com', 'colaborades-', '16h:', 'reunião', 'com', 'lideranças', 'do', 'esporte-', '19h:', 'visita', 'a', 'feira', 'livre', 'na', 'Rua', 'AlumínioAngela', 'Mairink', 'de', 'Souza', 'Pereira', '(PP)-', '7h:', 'visita', 'ao', 'projeto', 'na', 'Casa', 'do', 'Menino-', '9h30:', 'visita', 'a', 'escola-', '11h:', 'visita', 'a', 'empresa-', '14h:', 'visita', 'a', 'hotel', 'no', 'Bairro', 'São', 'Benedito-', '15h:', 'visita', 'a', 'escola-', '16h30:', 'carreata', 'no', 'Bairro', 'Gameleira-', '19h:', 'encontro', 'das', 'advogadas', 'da', '14ª', 'subseção-', '20h:', 'visita', 'em', 'empresaGledston', 'Moreli', 'da', 'Silva', '–', 'Dê', 'Só', 'Faróis', '(PPL)-', '9h:', 'visita', 'ao', 'comércio', 'alimentício-', '9h30:', 'visita', 'ao', 'comércio', 'na', 'Avenida', 'da', 'Saudade-', '11h15:', 'visita', 'em', 'escola', 'municipal-', '13h30:', 'visita', 'ao', 'escritório', 'de', 'contabilidade-', '14h30:', 'visita', 'ao', 'Procon-', '17h15:', 'visita', 'a', 'escola', 'municipal-', '19h:', 'visita', 'a', 'escola', 'de', 'segurança', 'armadaAntônio', 'dos', 'Reis', 'Gonçalves', '–', 'Lerin', '(PSB)-', 'Agenda', 'não', 'informada', '\\xa0']]}\n"
     ]
    }
   ],
   "source": [
    "g1_document = {k: g1_documents[k] for k in g1_documents if k in keys}\n",
    "print(g1_document)"
   ]
  },
  {
   "cell_type": "code",
   "execution_count": 17,
   "metadata": {},
   "outputs": [
    {
     "name": "stdout",
     "output_type": "stream",
     "text": [
      "document:1 of 1\tV:101\tWORD COUNT:139\tdocid:confira-agenda-dos-candidatos-prefeito-de-uberaba-nesta-quinta\n"
     ]
    }
   ],
   "source": [
    "bow, w2i=  documents2bag_of_words(g1_document, lang='portuguese', exclude_links=True)\n",
    "i2w = {i:w for w,i in w2i.items()}"
   ]
  },
  {
   "cell_type": "code",
   "execution_count": 7,
   "metadata": {},
   "outputs": [
    {
     "name": "stdout",
     "output_type": "stream",
     "text": [
      "confira compromissos campanha candidatos prefeitura petrolina nesta segundafeira 19 miguel coelho psb 14h30  participa entrevista blog cidade 15h30 reuniao produtores rurais n5 16h30 visita empresas centro 18h caminhada joao deus edinaldo lima pmdb 16h programa internet 17h bairro jardim maravilha adalberto cavalcanti ptb loteamento geovana odacy amorim pt 15h puxada vila eduardo 19h cohab iv perpetua rodrigues psol 13h50 massangano 16h50 residencial vivendas 18h50\n"
     ]
    }
   ],
   "source": [
    "words=''\n",
    "for i in range(len(bow)):\n",
    "    words += ' ' + i2w[i]\n",
    "print(words.strip())"
   ]
  },
  {
   "cell_type": "code",
   "execution_count": 8,
   "metadata": {},
   "outputs": [
    {
     "name": "stdout",
     "output_type": "stream",
     "text": [
      "{'confira': 0, 'compromissos': 1, 'campanha': 2, 'candidatos': 3, 'prefeitura': 4, 'petrolina': 5, 'nesta': 6, 'segundafeira': 7, '19': 8, 'miguel': 9, 'coelho': 10, 'psb': 11, '14h30 ': 12, 'participa': 13, 'entrevista': 14, 'blog': 15, 'cidade': 16, '15h30': 17, 'reuniao': 18, 'produtores': 19, 'rurais': 20, 'n5': 21, '16h30': 22, 'visita': 23, 'empresas': 24, 'centro': 25, '18h': 26, 'caminhada': 27, 'joao': 28, 'deus': 29, 'edinaldo': 30, 'lima': 31, 'pmdb': 32, '16h': 33, 'programa': 34, 'internet': 35, '17h': 36, 'bairro': 37, 'jardim': 38, 'maravilha': 39, 'adalberto': 40, 'cavalcanti': 41, 'ptb': 42, 'loteamento': 43, 'geovana': 44, 'odacy': 45, 'amorim': 46, 'pt': 47, '15h': 48, 'puxada': 49, 'vila': 50, 'eduardo': 51, '19h': 52, 'cohab': 53, 'iv': 54, 'perpetua': 55, 'rodrigues': 56, 'psol': 57, '13h50': 58, 'massangano': 59, '16h50': 60, 'residencial': 61, 'vivendas': 62, '18h50': 63, ' ': 64}\n"
     ]
    }
   ],
   "source": [
    "print(w2i)"
   ]
  },
  {
   "cell_type": "code",
   "execution_count": null,
   "metadata": {
    "collapsed": true
   },
   "outputs": [],
   "source": []
  }
 ],
 "metadata": {
  "anaconda-cloud": {},
  "kernelspec": {
   "display_name": "Python 3",
   "language": "python",
   "name": "python3"
  },
  "language_info": {
   "codemirror_mode": {
    "name": "ipython",
    "version": 3
   },
   "file_extension": ".py",
   "mimetype": "text/x-python",
   "name": "python",
   "nbconvert_exporter": "python",
   "pygments_lexer": "ipython3",
   "version": "3.6.1"
  }
 },
 "nbformat": 4,
 "nbformat_minor": 2
}
