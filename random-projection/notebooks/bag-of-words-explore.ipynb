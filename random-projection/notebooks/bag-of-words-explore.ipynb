{
 "cells": [
  {
   "cell_type": "code",
   "execution_count": 2,
   "metadata": {
    "collapsed": false
   },
   "outputs": [],
   "source": [
    "# from brown import get_documents\n",
    "import numpy as np\n",
    "from g1 import get_documents\n",
    "from util import documents2bag_of_words, bow2dump\n",
    "\n",
    "\n",
    "import timeit"
   ]
  },
  {
   "cell_type": "code",
   "execution_count": 3,
   "metadata": {
    "collapsed": false
   },
   "outputs": [
    {
     "name": "stdout",
     "output_type": "stream",
     "text": [
      "article:4000 of 4000\tV:94718\tWORD COUNT:1797463\tdocid:apos-100-dias-veja-como-andam-propostas-do-prefeito-de-campinasndo-turnotoralirceuhtmlo-lula.ghtml-pauloar-corpos.ghtml\n"
     ]
    }
   ],
   "source": [
    "#RAW VOCABULARY\n",
    "# brown_documents= get_documents(verbose=True)\n",
    "g1_documents= get_documents(verbose=True)"
   ]
  },
  {
   "cell_type": "code",
   "execution_count": 4,
   "metadata": {
    "collapsed": false
   },
   "outputs": [
    {
     "name": "stdout",
     "output_type": "stream",
     "text": [
      "document:4000 of 4000\tV:54628\tWORD COUNT:1054489\tdocid:ministra-idelli-salvatti-diz-que-joao-ribeiro-era-parceiro-de-primeira-horanto.ghtmlmlpetrobrasara-liberar-corpos.ghtml\n"
     ]
    }
   ],
   "source": [
    "#AFTER TOKENIZATION\n",
    "# BoW, word2idx=  documents2bag_of_words(brown_documents)\n",
    "BoW, word2idx=  documents2bag_of_words(g1_documents, lang='portuguese', exclude_links=True)"
   ]
  },
  {
   "cell_type": "code",
   "execution_count": 37,
   "metadata": {
    "collapsed": false
   },
   "outputs": [
    {
     "name": "stdout",
     "output_type": "stream",
     "text": [
      "apos-1-ano-e-4-meses-de-reforma-hemosul-e-reaberto-na-capital-de-ms\n"
     ]
    }
   ],
   "source": [
    "keys= np.random.choice(g1_documents.keys(),1)\n",
    "print keys[0]"
   ]
  },
  {
   "cell_type": "code",
   "execution_count": 38,
   "metadata": {
    "collapsed": false
   },
   "outputs": [
    {
     "name": "stdout",
     "output_type": "stream",
     "text": [
      "{u'apos-1-ano-e-4-meses-de-reforma-hemosul-e-reaberto-na-capital-de-ms': [[u'Um', u'ano', u'e', u'quatro', u'meses', u'depois', u'de', u'ser', u'fechado', u'para', u'reforma,', u'o', u'pr\\xe9dio', u'do', u'Centro', u'de', u'Hematologia', u'e', u'Hemoterapia', u'de', u'Mato', u'Grosso', u'do', u'Sul', u'(Hemosul)', u'foi', u'reinaugurado', u'na', u'manh\\xe3', u'desta', u'quinta-feira', u'(20)', u'em', u'Campo', u'Grande'], [u'', u'As', u'doa\\xe7\\xf5es', u'ca\\xedram', u'no', u'per\\xedodo,', u'de', u'acordo', u'com', u'o', u'\\xf3rg\\xe3o'], [u'', u'Novos', u'equipamentos', u'usados', u'na', u'separa\\xe7\\xe3o', u'de', u'componentes', u'do', u'sangue', u'automatizaram', u'o', u'processo', u'e', u'tornaram', u'as', u'doa\\xe7\\xf5es', u'mais', u'r\\xe1pidas'], [u'', u'O', u'n\\xfamero', u'de', u'cadeiras', u'para', u'doa\\xe7\\xf5es', u'aumentou', u'de', u'seis', u'para', u'16'], [u'', u'Uma', u'nova', u'sala', u'de', u'triagem', u'foi', u'aberta'], [u'', u'A', u'fia\\xe7\\xe3o', u'el\\xe9trica', u'e', u'a', u'parte', u'hidr\\xe1ulica', u'tamb\\xe9m', u'passaram', u'por', u'reparos'], [u'', u'As', u'obras', u'atrasaram,', u'e', u'os', u'custos', u'chegaram', u'a', u'R$', u'2,4', u'milh\\xf5es'], [u'', u'Os', u'investimentos', u'v\\xe3o', u'permitir', u'ainda', u'avan\\xe7os', u'nos', u'exames', u'de', u'hepatite', u'B'], [u'', u'Durante', u'o', u'per\\xedodo', u'em', u'que', u'esteve', u'fechado,', u'as', u'doa\\xe7\\xf5es', u'ca\\xedram', u'para', u'5', u'mil', u'bolsas', u'ao', u'm\\xeas'], [u'', u'A', u'expectativa', u'\\xe9', u'que', u'as', u'doa\\xe7\\xf5es', u'voltem', u'aos', u'n\\xfameros', u'normais', u'e', u'que', u'aumentem', u'20%', u'nos', u'pr\\xf3ximos', u'dois', u'anos'], [u'', u'ProtestoDurante', u'a', u'cerim\\xf4nia', u'de', u'reinaugura\\xe7\\xe3o,', u'que', u'teve', u'a', u'presen\\xe7a', u'do', u'governador', u'Reinaldo', u'Azambuja', u'(PSDB),', u'agentes', u'comunit\\xe1rios', u'de', u'sa\\xfade', u'e', u'de', u'combate', u'de', u'endemias', u'protestaram', u'cobrando', u'aumento', u'no', u'repasse', u'do', u'estado'], [u'', u'Os', u'servidores,', u'que', u's\\xe3o', u'vinculados', u'\\xe0', u'prefeitura', u'da', u'capital', u'sul-mato-grossense,', u'recebem', u'de', u'R$', u'1,1', u'mil', u'a', u'R$', u'1'], [u'750,', u'de', u'acordo', u'com', u'o', u'Sindicato', u'dos', u'Servidores', u'e', u'Funcion\\xe1rios', u'Municipais', u'(Sisem)', u'e', u'cobram', u'aumento', u'no', u'repasse', u'de', u'R$', u'128', u'mil,', u'que', u'aumenta', u'os', u'sal\\xe1rios'], [u'', u'\\xa0']]}\n"
     ]
    }
   ],
   "source": [
    "g1_document = {k: g1_documents[k] for k in g1_documents if k in keys}\n",
    "print g1_document"
   ]
  },
  {
   "cell_type": "code",
   "execution_count": 39,
   "metadata": {
    "collapsed": false
   },
   "outputs": [
    {
     "name": "stdout",
     "output_type": "stream",
     "text": [
      "document:1 of 1\tV:117\tWORD COUNT:134\tdocid:apos-1-ano-e-4-meses-de-reforma-hemosul-e-reaberto-na-capital-de-ms\n"
     ]
    }
   ],
   "source": [
    "bow, w2i=  documents2bag_of_words(g1_document, lang='portuguese', exclude_links=True)\n",
    "i2w = {i:w for w,i in w2i.iteritems()}"
   ]
  },
  {
   "cell_type": "code",
   "execution_count": 40,
   "metadata": {
    "collapsed": false
   },
   "outputs": [
    {
     "name": "stdout",
     "output_type": "stream",
     "text": [
      "ano quatro meses ser fechado reforma predio centro hematologia hemoterapia mato grosso sul hemosul reinaugurado manha desta quintafeira 20 campo grande doacoes cairam periodo acordo orgao novos equipamentos usados separacao componentes sangue automatizaram processo tornaram rapidas numero cadeiras aumentou seis 16 nova sala triagem aberta fiacao eletrica parte hidraulica tambem passaram reparos obras atrasaram custos chegaram r 24 milhoes investimentos vao permitir ainda avancos exames hepatite b durante 5 mil bolsas mes expectativa voltem numeros normais aumentem proximos dois anos protestodurante cerimonia reinauguracao presenca governador reinaldo azambuja psdb agentes comunitarios saude combate endemias protestaram cobrando aumento repasse estado servidores sao vinculados prefeitura capital sulmatogrossense recebem 11 1 750 sindicato funcionarios municipais sisem cobram 128 aumenta salarios\n"
     ]
    }
   ],
   "source": [
    "words=''\n",
    "for i in xrange(len(bow)):\n",
    "    words += ' ' + i2w[i]\n",
    "print words.strip()"
   ]
  },
  {
   "cell_type": "code",
   "execution_count": 41,
   "metadata": {
    "collapsed": false
   },
   "outputs": [
    {
     "name": "stdout",
     "output_type": "stream",
     "text": [
      "{'processo': 33, 'sisem': 111, 'novos': 26, 'salarios': 115, '24': 57, ' ': 116, '20': 18, 'milhoes': 58, 'prefeitura': 101, 'normais': 75, 'funcionarios': 109, 'psdb': 87, 'cadeiras': 37, 'reforma': 5, 'componentes': 30, 'exames': 64, 'expectativa': 72, '128': 113, 'orgao': 25, 'endemias': 92, 'comunitarios': 89, 'cairam': 22, 'aumentem': 76, 'meses': 2, 'saude': 90, 'proximos': 77, 'grosso': 11, 'tambem': 49, 'permitir': 61, 'hepatite': 65, 'acordo': 24, 'voltem': 73, 'doacoes': 21, 'sul': 12, 'repasse': 96, 'hematologia': 8, 'governador': 84, 'capital': 102, 'mato': 10, 'usados': 28, 'sulmatogrossense': 103, 'aumenta': 114, 'aumento': 95, 'agentes': 88, 'fechado': 4, 'mes': 71, 'reinauguracao': 82, 'triagem': 43, 'reparos': 51, 'equipamentos': 27, 'reinaugurado': 14, 'sindicato': 108, 'hidraulica': 48, 'anos': 79, 'presenca': 83, 'rapidas': 35, 'durante': 67, 'vinculados': 100, 'protestodurante': 80, 'sao': 99, 'atrasaram': 53, 'ser': 3, 'combate': 91, 'vao': 60, 'numeros': 74, 'nova': 41, 'custos': 54, 'aberta': 44, 'eletrica': 46, 'quatro': 1, 'separacao': 29, 'sangue': 31, 'servidores': 98, 'seis': 39, 'municipais': 110, 'b': 66, '16': 40, 'hemoterapia': 9, 'protestaram': 93, 'r': 56, 'azambuja': 86, 'desta': 16, 'fiacao': 45, 'avancos': 63, 'cerimonia': 81, 'periodo': 23, 'ano': 0, 'manha': 15, 'quintafeira': 17, '750': 107, 'cobrando': 94, 'bolsas': 70, '11': 105, 'parte': 47, 'tornaram': 34, 'recebem': 104, '1': 106, '5': 68, 'cobram': 112, 'automatizaram': 32, 'hemosul': 13, 'passaram': 50, 'centro': 7, 'numero': 36, 'investimentos': 59, 'dois': 78, 'aumentou': 38, 'estado': 97, 'reinaldo': 85, 'mil': 69, 'obras': 52, 'predio': 6, 'campo': 19, 'sala': 42, 'chegaram': 55, 'grande': 20, 'ainda': 62}\n"
     ]
    }
   ],
   "source": [
    "print w2i"
   ]
  },
  {
   "cell_type": "code",
   "execution_count": null,
   "metadata": {
    "collapsed": true
   },
   "outputs": [],
   "source": []
  }
 ],
 "metadata": {
  "anaconda-cloud": {},
  "kernelspec": {
   "display_name": "Python 2",
   "language": "python",
   "name": "python2"
  },
  "language_info": {
   "codemirror_mode": {
    "name": "ipython",
    "version": 2
   },
   "file_extension": ".py",
   "mimetype": "text/x-python",
   "name": "python",
   "nbconvert_exporter": "python",
   "pygments_lexer": "ipython2",
   "version": "2.7.13"
  }
 },
 "nbformat": 4,
 "nbformat_minor": 2
}
