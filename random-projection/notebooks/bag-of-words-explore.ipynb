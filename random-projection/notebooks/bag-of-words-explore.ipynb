{
 "cells": [
  {
   "cell_type": "code",
   "execution_count": 1,
   "metadata": {},
   "outputs": [],
   "source": [
    "# from brown import get_documents\n",
    "import numpy as np\n",
    "from g1 import get_documents\n",
    "from util import documents2bag_of_words, bow2dump\n",
    "\n",
    "\n",
    "import timeit"
   ]
  },
  {
   "cell_type": "code",
   "execution_count": 2,
   "metadata": {},
   "outputs": [
    {
     "name": "stdout",
     "output_type": "stream",
     "text": [
      "article:4000 of 4000\tV:94718\tWORD COUNT:1797463\tdocid:apos-100-dias-veja-como-andam-propostas-do-prefeito-de-campinasndo-turnotoralirceuituto-lulade-sao-pauloar-corpos\n"
     ]
    }
   ],
   "source": [
    "#RAW VOCABULARY\n",
    "# brown_documents= get_documents(verbose=True)\n",
    "g1_documents= get_documents(verbose=True)"
   ]
  },
  {
   "cell_type": "code",
   "execution_count": 3,
   "metadata": {},
   "outputs": [
    {
     "name": "stdout",
     "output_type": "stream",
     "text": [
      "document:4000 of 4000\tV:54597\tWORD COUNT:1054369\tdocid:apos-100-dias-veja-como-andam-propostas-do-prefeito-de-campinasndo-turnotoralirceuituto-lulae-sao-paulorar-corpos\n"
     ]
    }
   ],
   "source": [
    "#AFTER TOKENIZATION\n",
    "# BoW, word2idx=  documents2bag_of_words(brown_documents)\n",
    "BoW, word2idx=  documents2bag_of_words(g1_documents, lang='portuguese', exclude_links=True)"
   ]
  },
  {
   "cell_type": "code",
   "execution_count": 6,
   "metadata": {},
   "outputs": [
    {
     "name": "stdout",
     "output_type": "stream",
     "text": [
      "dilma-deve-receber-lula-apos-retorno-da-folga-do-carnaval\n"
     ]
    }
   ],
   "source": [
    "keys= np.random.choice(list(g1_documents.keys()),1)\n",
    "print(keys[0])"
   ]
  },
  {
   "cell_type": "code",
   "execution_count": 8,
   "metadata": {},
   "outputs": [
    {
     "name": "stdout",
     "output_type": "stream",
     "text": [
      "{'dilma-deve-receber-lula-apos-retorno-da-folga-do-carnaval': [['A', 'presidente', 'Dilma', 'Rousseff', 'retornou', 'nesta', 'quarta-feira', '(5)', 'da', 'praia', 'da', 'Base', 'Naval', 'de', 'Aratu,', 'na', 'Bahia,', 'onde', 'passou', 'o', 'Carnaval,', 'e,', 'no', 'final', 'da', 'tarde,', 'recebe', 'o', 'ex-presidente', 'Luiz', 'Inácio', 'Lula', 'da', 'Silva', 'na', 'residência', 'oficial', 'do', 'Palácio', 'da', 'Alvorada,', 'em', 'Brasília'], ['', 'Antes', 'do', 'encontro', 'com', 'o', 'antecessor,', 'Dilma', 'recebeu', 'os', 'ministros', 'da', 'Casa', 'Civil,', 'Aloizio', 'Mercadante,', 'e', 'da', 'Fazenda,', 'Guido', 'Mantega'], ['', 'Mercadante', 'chegou', 'ao', 'Alvorada', 'por', 'volta', 'de', '13h45', 'e', 'participou', 'também', 'da', 'audiência', 'com', 'o', 'colega', 'da', 'Fazenda,', 'que', 'chegou', 'por', 'volta', 'das', '15h'], ['', 'O', 'encontro', 'entre', 'Dilma', 'e', 'Lula', 'ocorrerá', 'em', 'meio', 'à', 'reforma', 'ministerial', 'inacabada'], ['', 'Em', 'janeiro,', 'durante', 'café', 'da', 'manhã', 'com', 'jornalistas,', 'a', 'presidente', 'havia', 'anunciado', 'que', 'pretendia', 'encerrar', 'a', 'reforma', 'até', 'o', 'Carnaval'], ['', 'Mas', 'um', 'impasse', 'em', 'relação', 'aos', 'ministérios', 'a', 'serem', 'ocupados', 'pelo', 'PMDB', 'impediu'], ['', 'O', 'último', 'encontro', 'entre', 'Dilma', 'e', 'Lula', 'no', 'Palácio', 'do', 'Alvorada', 'ocorreu', 'em', '20', 'de', 'janeiro'], ['', 'Na', 'ocasião,', 'Mercadante', 'estava', 'presente,', 'além', 'do', 'ex-ministro', 'da', 'Secretaria', 'de', 'Comunicação', 'Social', 'Franklin', 'Martins', 'e', 'do', 'chefe', 'de', 'gabinete', 'de', 'Dilma,', 'Giles', 'Azevedo'], ['', 'Nessa', 'reunião', 'ficou', 'acertado', 'que', 'Mercadante,', 'à', 'época', 'ministro', 'da', 'Educação,', 'assumiria', 'a', 'Casa', 'Civil'], ['']]}\n"
     ]
    }
   ],
   "source": [
    "g1_document = {k: g1_documents[k] for k in g1_documents if k in keys}\n",
    "print(g1_document)"
   ]
  },
  {
   "cell_type": "code",
   "execution_count": 10,
   "metadata": {},
   "outputs": [
    {
     "name": "stdout",
     "output_type": "stream",
     "text": [
      "document:1 of 1\tV:94\tWORD COUNT:117\tdocid:dilma-deve-receber-lula-apos-retorno-da-folga-do-carnaval\n"
     ]
    }
   ],
   "source": [
    "bow, w2i=  documents2bag_of_words(g1_document, lang='portuguese', exclude_links=True)\n",
    "i2w = {i:w for w,i in w2i.items()}"
   ]
  },
  {
   "cell_type": "code",
   "execution_count": 12,
   "metadata": {},
   "outputs": [
    {
     "name": "stdout",
     "output_type": "stream",
     "text": [
      "presidente dilma rousseff retornou nesta quartafeira 5 praia base naval aratu bahia onde passou carnaval final tarde recebe expresidente luiz inacio lula silva residencia oficial palacio alvorada brasilia antes encontro antecessor recebeu ministros casa civil aloizio mercadante fazenda guido mantega chegou volta 13h45 participou tambem audiencia colega 15h ocorrera meio reforma ministerial inacabada janeiro durante cafe manha jornalistas havia anunciado pretendia encerrar ate impasse relacao ministerios serem ocupados pmdb impediu ultimo ocorreu 20 ocasiao presente alem exministro secretaria comunicacao social franklin martins chefe gabinete giles azevedo nessa reuniao ficou acertado epoca ministro educacao assumiria\n"
     ]
    }
   ],
   "source": [
    "words=''\n",
    "for i in range(len(bow)):\n",
    "    words += ' ' + i2w[i]\n",
    "print(words.strip())"
   ]
  },
  {
   "cell_type": "code",
   "execution_count": 14,
   "metadata": {},
   "outputs": [
    {
     "name": "stdout",
     "output_type": "stream",
     "text": [
      "{'presidente': 0, 'dilma': 1, 'rousseff': 2, 'retornou': 3, 'nesta': 4, 'quartafeira': 5, '5': 6, 'praia': 7, 'base': 8, 'naval': 9, 'aratu': 10, 'bahia': 11, 'onde': 12, 'passou': 13, 'carnaval': 14, 'final': 15, 'tarde': 16, 'recebe': 17, 'expresidente': 18, 'luiz': 19, 'inacio': 20, 'lula': 21, 'silva': 22, 'residencia': 23, 'oficial': 24, 'palacio': 25, 'alvorada': 26, 'brasilia': 27, 'antes': 28, 'encontro': 29, 'antecessor': 30, 'recebeu': 31, 'ministros': 32, 'casa': 33, 'civil': 34, 'aloizio': 35, 'mercadante': 36, 'fazenda': 37, 'guido': 38, 'mantega': 39, 'chegou': 40, 'volta': 41, '13h45': 42, 'participou': 43, 'tambem': 44, 'audiencia': 45, 'colega': 46, '15h': 47, 'ocorrera': 48, 'meio': 49, 'reforma': 50, 'ministerial': 51, 'inacabada': 52, 'janeiro': 53, 'durante': 54, 'cafe': 55, 'manha': 56, 'jornalistas': 57, 'havia': 58, 'anunciado': 59, 'pretendia': 60, 'encerrar': 61, 'ate': 62, 'impasse': 63, 'relacao': 64, 'ministerios': 65, 'serem': 66, 'ocupados': 67, 'pmdb': 68, 'impediu': 69, 'ultimo': 70, 'ocorreu': 71, '20': 72, 'ocasiao': 73, 'presente': 74, 'alem': 75, 'exministro': 76, 'secretaria': 77, 'comunicacao': 78, 'social': 79, 'franklin': 80, 'martins': 81, 'chefe': 82, 'gabinete': 83, 'giles': 84, 'azevedo': 85, 'nessa': 86, 'reuniao': 87, 'ficou': 88, 'acertado': 89, 'epoca': 90, 'ministro': 91, 'educacao': 92, 'assumiria': 93}\n"
     ]
    }
   ],
   "source": [
    "print(w2i)"
   ]
  },
  {
   "cell_type": "code",
   "execution_count": null,
   "metadata": {
    "collapsed": true
   },
   "outputs": [],
   "source": []
  }
 ],
 "metadata": {
  "anaconda-cloud": {},
  "kernelspec": {
   "display_name": "Python 3",
   "language": "python",
   "name": "python3"
  },
  "language_info": {
   "codemirror_mode": {
    "name": "ipython",
    "version": 3
   },
   "file_extension": ".py",
   "mimetype": "text/x-python",
   "name": "python",
   "nbconvert_exporter": "python",
   "pygments_lexer": "ipython3",
   "version": "3.6.1"
  }
 },
 "nbformat": 4,
 "nbformat_minor": 2
}
