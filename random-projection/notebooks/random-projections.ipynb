{
 "cells": [
  {
   "cell_type": "code",
   "execution_count": 1,
   "metadata": {
    "collapsed": false
   },
   "outputs": [],
   "source": [
    "from util import flatten, tokenizer\n",
    "from brown import get_sentences\n"
   ]
  },
  {
   "cell_type": "code",
   "execution_count": 2,
   "metadata": {
    "collapsed": false
   },
   "outputs": [
    {
     "name": "stdout",
     "output_type": "stream",
     "text": [
      "[u'The', u'Fulton', u'County', u'Grand', u'Jury']\n",
      "Raw Vocab: 56057\n"
     ]
    }
   ],
   "source": [
    "#item 1=====================================================================================================================#\n",
    "sentences = get_sentences() \n",
    "flattened_sentences = flatten(sentences)\n",
    "print flattened_sentences[:5] \n",
    "print 'Raw Vocab:', len(set(flattened_sentences))\n",
    "#=====================================================================================================================#"
   ]
  },
  {
   "cell_type": "code",
   "execution_count": 3,
   "metadata": {
    "collapsed": false
   },
   "outputs": [
    {
     "name": "stdout",
     "output_type": "stream",
     "text": [
      "Tokenized Vocab: 48018\n"
     ]
    }
   ],
   "source": [
    "#item 2===================================================================================================================#\n",
    "tokenized_sentences = tokenizer(flattened_sentences)\n",
    "print 'Tokenized Vocab:', len(set(tokenized_sentences))\n",
    "#=========================================================================================================================#"
   ]
  },
  {
   "cell_type": "code",
   "execution_count": null,
   "metadata": {
    "collapsed": true
   },
   "outputs": [],
   "source": []
  }
 ],
 "metadata": {
  "kernelspec": {
   "display_name": "Python 2",
   "language": "python",
   "name": "python2"
  },
  "language_info": {
   "codemirror_mode": {
    "name": "ipython",
    "version": 2
   },
   "file_extension": ".py",
   "mimetype": "text/x-python",
   "name": "python",
   "nbconvert_exporter": "python",
   "pygments_lexer": "ipython2",
   "version": "2.7.13"
  }
 },
 "nbformat": 4,
 "nbformat_minor": 2
}
