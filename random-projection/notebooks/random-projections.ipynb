{
 "cells": [
  {
   "cell_type": "code",
   "execution_count": 1,
   "metadata": {
    "collapsed": true
   },
   "outputs": [],
   "source": [
    "from util import flatten, tokenizer\n",
    "# from brown import get_sentences\n",
    "from g1 import get_sentences\n"
   ]
  },
  {
   "cell_type": "code",
   "execution_count": 2,
   "metadata": {},
   "outputs": [
    {
     "name": "stdout",
     "output_type": "stream",
     "text": [
      "4000cle:04000 of 4000\tphrases:040 of 78793\twords:01032 of 1706606\tg1_id:apos-100-dias-veja-como-andam-propostas-do-prefeito-de-campinasndo-turnotoralirceuituto-lulade-sao-pauloar-corpos\n",
      "['Valter', 'Suman', '(PSB)', 'foi', 'eleito,']\n",
      "Raw Vocab: 102237\n"
     ]
    }
   ],
   "source": [
    "#item 1=====================================================================================================================#\n",
    "sentences = get_sentences() \n",
    "flattened_sentences = flatten(sentences)\n",
    "print(flattened_sentences[:5] )\n",
    "print('Raw Vocab:', len(set(flattened_sentences)))\n",
    "#=====================================================================================================================#"
   ]
  },
  {
   "cell_type": "code",
   "execution_count": 3,
   "metadata": {},
   "outputs": [
    {
     "name": "stdout",
     "output_type": "stream",
     "text": [
      "Tokenized Vocab: 60314\n"
     ]
    }
   ],
   "source": [
    "#item 2===================================================================================================================#\n",
    "tokenized_sentences = tokenizer(flattened_sentences)\n",
    "print('Tokenized Vocab:', len(set(tokenized_sentences)))\n",
    "#=========================================================================================================================#"
   ]
  },
  {
   "cell_type": "code",
   "execution_count": null,
   "metadata": {
    "collapsed": true
   },
   "outputs": [],
   "source": []
  }
 ],
 "metadata": {
  "kernelspec": {
   "display_name": "Python 3",
   "language": "python",
   "name": "python3"
  },
  "language_info": {
   "codemirror_mode": {
    "name": "ipython",
    "version": 3
   },
   "file_extension": ".py",
   "mimetype": "text/x-python",
   "name": "python",
   "nbconvert_exporter": "python",
   "pygments_lexer": "ipython3",
   "version": "3.6.1"
  }
 },
 "nbformat": 4,
 "nbformat_minor": 2
}
