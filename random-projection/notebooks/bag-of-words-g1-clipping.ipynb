{
 "cells": [
  {
   "cell_type": "code",
   "execution_count": 1,
   "metadata": {
    "collapsed": true
   },
   "outputs": [],
   "source": [
    "# from brown import get_documents\n",
    "import numpy as np\n",
    "from g1 import get_documents\n",
    "from util import documents2bag_of_words, bow2dump\n",
    "\n",
    "\n",
    "import timeit"
   ]
  },
  {
   "cell_type": "code",
   "execution_count": 2,
   "metadata": {},
   "outputs": [
    {
     "name": "stdout",
     "output_type": "stream",
     "text": [
      "article:3000 of 3000\tV:78198\tWORD COUNT:1311613\tdocid:governo-diz-que-nao-tem-dinheiro-para-obras-no-aeroporto-de-vitoriassaoaoracitonca-18toitoira-para-liberar-corpos\n"
     ]
    }
   ],
   "source": [
    "#RAW VOCABULARY\n",
    "# brown_documents= get_documents(verbose=True)\n",
    "g1_documents= get_documents(verbose=True)"
   ]
  },
  {
   "cell_type": "code",
   "execution_count": 3,
   "metadata": {},
   "outputs": [
    {
     "name": "stdout",
     "output_type": "stream",
     "text": [
      "document:3000 of 3000\tV:46230\tWORD COUNT:774032\tdocid:governo-diz-que-nao-tem-dinheiro-para-obras-no-aeroporto-de-vitoriassaoaoracitoncaa-18toitoira-para-liberar-corpos\n"
     ]
    }
   ],
   "source": [
    "#AFTER TOKENIZATION\n",
    "# BoW, word2idx=  documents2bag_of_words(brown_documents)\n",
    "BoW, word2idx=  documents2bag_of_words(g1_documents, lang='portuguese', exclude_links=True)"
   ]
  },
  {
   "cell_type": "code",
   "execution_count": 22,
   "metadata": {},
   "outputs": [
    {
     "name": "stdout",
     "output_type": "stream",
     "text": [
      "darcy-e-nogueira-cumprem-agenda-em-ribeirao-preto-neste-domingo\n"
     ]
    }
   ],
   "source": [
    "keys= np.random.choice(list(g1_documents.keys()),1)\n",
    "print(keys[0])"
   ]
  },
  {
   "cell_type": "code",
   "execution_count": 23,
   "metadata": {},
   "outputs": [
    {
     "name": "stdout",
     "output_type": "stream",
     "text": [
      "{'darcy-e-nogueira-cumprem-agenda-em-ribeirao-preto-neste-domingo': [['Os', 'dois', 'candidatos', 'à', 'Prefeitura', 'de', 'Ribeirão', 'Preto', '(SP)', 'fazem', 'campanha', 'para', 'o', '2º', 'turno', 'das', 'eleições', 'municipais', 'neste', 'domingo', '(21)'], ['', 'Eles', 'têm', 'como', 'principais', 'obrigações', 'visitas', 'e', 'gravações', 'dos', 'programas', 'eleitorais'], ['', 'O', 'G1', 'acompanha', 'diariamente', 'a', 'agenda', 'dos', 'concorrentes', 'ao', 'Executivo', 'ribeirão-pretano'], ['', 'Confira', 'a', 'agenda:', 'Dárcy', 'Vera', '(PSD)', 'da', 'coligação', '“Seguindo', 'em', 'frente”', 'visita', 'bairros', 'neste', 'domingo', 'e', 'grava', 'o', 'programa', 'eleitoral'], ['', 'Duarte', 'Nogueira', '(PSDB)', 'da', 'coligação', '“Ribeirão', 'cidadã,', 'verde', 'e', 'criativa”', 'participa', 'de', 'uma', 'carreata', 'na', 'Zona', 'Leste'], ['', 'Ele', 'também', 'tem', 'gravações', 'para', 'o', 'programa', 'eleitoral'], ['', 'Para', 'ler', 'mais', 'notícias', 'do', 'G1', 'Ribeirão', 'e', 'Franca,', 'clique', 'em', 'g1'], ['globo'], ['com/ribeirao'], ['', 'Siga', 'também', 'o', 'G1', 'Ribeirão', 'e', 'Franca', 'no', 'Twitter', 'e', 'por', 'RSS'], ['', '\\xa0']]}\n"
     ]
    }
   ],
   "source": [
    "g1_document = {k: g1_documents[k] for k in g1_documents if k in keys}\n",
    "print(g1_document)"
   ]
  },
  {
   "cell_type": "code",
   "execution_count": 24,
   "metadata": {},
   "outputs": [
    {
     "name": "stdout",
     "output_type": "stream",
     "text": [
      "document:1 of 1\tV:61\tWORD COUNT:76\tdocid:darcy-e-nogueira-cumprem-agenda-em-ribeirao-preto-neste-domingo\n"
     ]
    }
   ],
   "source": [
    "bow, w2i=  documents2bag_of_words(g1_document, lang='portuguese', exclude_links=True)\n",
    "i2w = {i:w for w,i in w2i.items()}"
   ]
  },
  {
   "cell_type": "code",
   "execution_count": 25,
   "metadata": {},
   "outputs": [
    {
     "name": "stdout",
     "output_type": "stream",
     "text": [
      "dois candidatos prefeitura ribeirao preto sp fazem campanha 2o turno eleicoes municipais neste domingo 21 principais obrigacoes visitas gravacoes programas eleitorais g1 acompanha diariamente agenda concorrentes executivo ribeiraopretano confira darcy vera psd coligacao seguindo frente visita bairros grava programa eleitoral duarte nogueira psdb cidada verde criativa participa carreata zona leste tambem ler noticias franca clique globo comribeirao siga twitter rss\n"
     ]
    }
   ],
   "source": [
    "words=''\n",
    "for i in range(len(bow)):\n",
    "    words += ' ' + i2w[i]\n",
    "print(words.strip())"
   ]
  },
  {
   "cell_type": "code",
   "execution_count": 8,
   "metadata": {},
   "outputs": [
    {
     "name": "stdout",
     "output_type": "stream",
     "text": [
      "{'confira': 0, 'compromissos': 1, 'campanha': 2, 'candidatos': 3, 'prefeitura': 4, 'petrolina': 5, 'nesta': 6, 'segundafeira': 7, '19': 8, 'miguel': 9, 'coelho': 10, 'psb': 11, '14h30 ': 12, 'participa': 13, 'entrevista': 14, 'blog': 15, 'cidade': 16, '15h30': 17, 'reuniao': 18, 'produtores': 19, 'rurais': 20, 'n5': 21, '16h30': 22, 'visita': 23, 'empresas': 24, 'centro': 25, '18h': 26, 'caminhada': 27, 'joao': 28, 'deus': 29, 'edinaldo': 30, 'lima': 31, 'pmdb': 32, '16h': 33, 'programa': 34, 'internet': 35, '17h': 36, 'bairro': 37, 'jardim': 38, 'maravilha': 39, 'adalberto': 40, 'cavalcanti': 41, 'ptb': 42, 'loteamento': 43, 'geovana': 44, 'odacy': 45, 'amorim': 46, 'pt': 47, '15h': 48, 'puxada': 49, 'vila': 50, 'eduardo': 51, '19h': 52, 'cohab': 53, 'iv': 54, 'perpetua': 55, 'rodrigues': 56, 'psol': 57, '13h50': 58, 'massangano': 59, '16h50': 60, 'residencial': 61, 'vivendas': 62, '18h50': 63, ' ': 64}\n"
     ]
    }
   ],
   "source": [
    "print(w2i)"
   ]
  },
  {
   "cell_type": "code",
   "execution_count": null,
   "metadata": {
    "collapsed": true
   },
   "outputs": [],
   "source": []
  }
 ],
 "metadata": {
  "anaconda-cloud": {},
  "kernelspec": {
   "display_name": "Python 3",
   "language": "python",
   "name": "python3"
  },
  "language_info": {
   "codemirror_mode": {
    "name": "ipython",
    "version": 3
   },
   "file_extension": ".py",
   "mimetype": "text/x-python",
   "name": "python",
   "nbconvert_exporter": "python",
   "pygments_lexer": "ipython3",
   "version": "3.6.1"
  }
 },
 "nbformat": 4,
 "nbformat_minor": 2
}
